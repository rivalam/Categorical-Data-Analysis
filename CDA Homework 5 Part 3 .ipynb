{
 "cells": [
  {
   "cell_type": "markdown",
   "metadata": {},
   "source": [
    "#### 3.3 Refer to Table 2.7 on x = mother’s alcohol consumption and Y = whether a baby has sex organ malformation.With scores(0, 0.5, 1.5, 4.0, 7.0)for alcohol consumption, ML fitting of the linear probability model has the output.\n",
    "\n",
    "The linear probability model states that the probability of sex organ malformation π(x) is a linear function of the mother's alcohol level x.\n",
    "\n",
    "\n",
    "a. State the prediction equation, and interpret the intercept and slope.\n",
    "\n",
    "x:mother’s alcohol consumption \n",
    "\n",
    "Y: whether a baby has sex organ malformation\n",
    "\n",
    "Y^ = 0.00255 + 0.00109x\n",
    "\n",
    "Intercept Interpretation: For mother's who do not consume alcohol, the estimated probability that the baby has a sex organ malformation is 0.00255\n",
    "\n",
    "Slope: The estimated probability of sex organ malformation increases by 0.00109 for each increase in level of alcohol consumption."
   ]
  },
  {
   "cell_type": "code",
   "execution_count": 1,
   "metadata": {},
   "outputs": [
    {
     "data": {
      "text/html": [
       "0.00255"
      ],
      "text/latex": [
       "0.00255"
      ],
      "text/markdown": [
       "0.00255"
      ],
      "text/plain": [
       "[1] 0.00255"
      ]
     },
     "metadata": {},
     "output_type": "display_data"
    },
    {
     "data": {
      "text/html": [
       "0.01018"
      ],
      "text/latex": [
       "0.01018"
      ],
      "text/markdown": [
       "0.01018"
      ],
      "text/plain": [
       "[1] 0.01018"
      ]
     },
     "metadata": {},
     "output_type": "display_data"
    }
   ],
   "source": [
    "0.00255 + (0.00109*(0)) #alcohol level=0\n",
    "0.00255 + (0.00109*(7)) #alchohol level=7"
   ]
  },
  {
   "cell_type": "markdown",
   "metadata": {},
   "source": [
    "b. Use the model fit to estimate the (i) probabilities of malformation for alcohol\n",
    "levels 0 and 7.0, (ii) relative risk comparing those levels.\n",
    "\n",
    "i) The estimated probability of malformation for alcohol level 0 is\n",
    "Y^ = 0.0172 + 0.0198(0) = 0.00255 \n",
    "The estimated probability of malformation for alcohol level 7 is 0.01018\n",
    "\n",
    "ii) When the mother's alcohol level is 7.0, the probability of malformation is 3.99 times greater than the probability when the mother's alcohol level is 0. "
   ]
  },
  {
   "cell_type": "code",
   "execution_count": 2,
   "metadata": {},
   "outputs": [
    {
     "data": {
      "text/html": [
       "3.9921568627451"
      ],
      "text/latex": [
       "3.9921568627451"
      ],
      "text/markdown": [
       "3.9921568627451"
      ],
      "text/plain": [
       "[1] 3.992157"
      ]
     },
     "metadata": {},
     "output_type": "display_data"
    }
   ],
   "source": [
    "0.01018/0.00255"
   ]
  }
 ],
 "metadata": {
  "kernelspec": {
   "display_name": "R",
   "language": "R",
   "name": "ir"
  },
  "language_info": {
   "codemirror_mode": "r",
   "file_extension": ".r",
   "mimetype": "text/x-r-source",
   "name": "R",
   "pygments_lexer": "r",
   "version": "3.4.3"
  }
 },
 "nbformat": 4,
 "nbformat_minor": 2
}
