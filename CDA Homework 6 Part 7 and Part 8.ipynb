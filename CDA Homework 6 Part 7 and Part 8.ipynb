{
 "cells": [
  {
   "cell_type": "markdown",
   "metadata": {},
   "source": [
    "##### 3.7 Access the horseshoe crab data in Table 3.2 at www.stat.ufl.edu/∼aa/intro-cda/appendix.html. Let Y = 1 if a crab has at least one satellite, and let Y = 0 otherwise. Using weight as the predictor, fit the linear probability model.(Weight is in grams.)\n",
    "\n",
    "$\\pi$ = -0.1449 + 0.0003\n"
   ]
  },
  {
   "cell_type": "code",
   "execution_count": 2,
   "metadata": {},
   "outputs": [
    {
     "data": {
      "text/html": [
       "<table>\n",
       "<thead><tr><th scope=col>color</th><th scope=col>spine</th><th scope=col>width</th><th scope=col>satellites</th><th scope=col>weight</th><th scope=col>Y</th></tr></thead>\n",
       "<tbody>\n",
       "\t<tr><td>3   </td><td>3   </td><td>28.3</td><td>8   </td><td>3050</td><td>1   </td></tr>\n",
       "\t<tr><td>4   </td><td>3   </td><td>22.5</td><td>0   </td><td>1550</td><td>0   </td></tr>\n",
       "\t<tr><td>2   </td><td>1   </td><td>26.0</td><td>9   </td><td>2300</td><td>1   </td></tr>\n",
       "\t<tr><td>4   </td><td>3   </td><td>24.8</td><td>0   </td><td>2100</td><td>0   </td></tr>\n",
       "\t<tr><td>4   </td><td>3   </td><td>26.0</td><td>4   </td><td>2600</td><td>1   </td></tr>\n",
       "\t<tr><td>3   </td><td>3   </td><td>23.8</td><td>0   </td><td>2100</td><td>0   </td></tr>\n",
       "</tbody>\n",
       "</table>\n"
      ],
      "text/latex": [
       "\\begin{tabular}{r|llllll}\n",
       " color & spine & width & satellites & weight & Y\\\\\n",
       "\\hline\n",
       "\t 3    & 3    & 28.3 & 8    & 3050 & 1   \\\\\n",
       "\t 4    & 3    & 22.5 & 0    & 1550 & 0   \\\\\n",
       "\t 2    & 1    & 26.0 & 9    & 2300 & 1   \\\\\n",
       "\t 4    & 3    & 24.8 & 0    & 2100 & 0   \\\\\n",
       "\t 4    & 3    & 26.0 & 4    & 2600 & 1   \\\\\n",
       "\t 3    & 3    & 23.8 & 0    & 2100 & 0   \\\\\n",
       "\\end{tabular}\n"
      ],
      "text/markdown": [
       "\n",
       "color | spine | width | satellites | weight | Y | \n",
       "|---|---|---|---|---|---|\n",
       "| 3    | 3    | 28.3 | 8    | 3050 | 1    | \n",
       "| 4    | 3    | 22.5 | 0    | 1550 | 0    | \n",
       "| 2    | 1    | 26.0 | 9    | 2300 | 1    | \n",
       "| 4    | 3    | 24.8 | 0    | 2100 | 0    | \n",
       "| 4    | 3    | 26.0 | 4    | 2600 | 1    | \n",
       "| 3    | 3    | 23.8 | 0    | 2100 | 0    | \n",
       "\n",
       "\n"
      ],
      "text/plain": [
       "  color spine width satellites weight Y\n",
       "1 3     3     28.3  8          3050   1\n",
       "2 4     3     22.5  0          1550   0\n",
       "3 2     1     26.0  9          2300   1\n",
       "4 4     3     24.8  0          2100   0\n",
       "5 4     3     26.0  4          2600   1\n",
       "6 3     3     23.8  0          2100   0"
      ]
     },
     "metadata": {},
     "output_type": "display_data"
    },
    {
     "data": {
      "text/html": [
       "<table>\n",
       "<thead><tr><th></th><th scope=col>Estimate</th><th scope=col>Std. Error</th><th scope=col>t value</th><th scope=col>Pr(&gt;|t|)</th></tr></thead>\n",
       "<tbody>\n",
       "\t<tr><th scope=row>(Intercept)</th><td>-0.1449</td><td>0.1472 </td><td>-0.9845</td><td>0.3263 </td></tr>\n",
       "\t<tr><th scope=row>weight</th><td> 0.0003</td><td>0.0001 </td><td> 5.4916</td><td>0.0000 </td></tr>\n",
       "</tbody>\n",
       "</table>\n"
      ],
      "text/latex": [
       "\\begin{tabular}{r|llll}\n",
       "  & Estimate & Std. Error & t value & Pr(>\\textbar{}t\\textbar{})\\\\\n",
       "\\hline\n",
       "\t(Intercept) & -0.1449 & 0.1472  & -0.9845 & 0.3263 \\\\\n",
       "\tweight &  0.0003 & 0.0001  &  5.4916 & 0.0000 \\\\\n",
       "\\end{tabular}\n"
      ],
      "text/markdown": [
       "\n",
       "| <!--/--> | Estimate | Std. Error | t value | Pr(>|t|) | \n",
       "|---|---|\n",
       "| (Intercept) | -0.1449 | 0.1472  | -0.9845 | 0.3263  | \n",
       "| weight |  0.0003 | 0.0001  |  5.4916 | 0.0000  | \n",
       "\n",
       "\n"
      ],
      "text/plain": [
       "            Estimate Std. Error t value Pr(>|t|)\n",
       "(Intercept) -0.1449  0.1472     -0.9845 0.3263  \n",
       "weight       0.0003  0.0001      5.4916 0.0000  "
      ]
     },
     "metadata": {},
     "output_type": "display_data"
    }
   ],
   "source": [
    "library(dplyr)\n",
    "HorseshoeCrab<-read.csv(\"HorseshoeCrab.csv\")\n",
    "head(HorseshoeCrab)\n",
    "HorseshoeCrab$satellites<- ifelse(HorseshoeCrab$satellites>=1, 1,0) #making satellites binary\n",
    "linear_prob_model<-summary(glm(satellites~weight,family=gaussian,data=HorseshoeCrab))\n",
    "round(linear_prob_model$coeff,4)"
   ]
  },
  {
   "cell_type": "markdown",
   "metadata": {},
   "source": [
    "###### a. Use ordinary least squares. Interpret the parameter estimates. Find the predicted probability at the highest observed weight of 5.20 kg.Comment.\n"
   ]
  },
  {
   "cell_type": "code",
   "execution_count": 3,
   "metadata": {},
   "outputs": [
    {
     "data": {
      "text/html": [
       "<dl class=dl-horizontal>\n",
       "\t<dt>(Intercept)</dt>\n",
       "\t\t<dd>-0.1449</dd>\n",
       "\t<dt>weight</dt>\n",
       "\t\t<dd>3e-04</dd>\n",
       "</dl>\n"
      ],
      "text/latex": [
       "\\begin{description*}\n",
       "\\item[(Intercept)] -0.1449\n",
       "\\item[weight] 3e-04\n",
       "\\end{description*}\n"
      ],
      "text/markdown": [
       "(Intercept)\n",
       ":   -0.1449weight\n",
       ":   3e-04\n",
       "\n"
      ],
      "text/plain": [
       "(Intercept)      weight \n",
       "    -0.1449      0.0003 "
      ]
     },
     "metadata": {},
     "output_type": "display_data"
    },
    {
     "data": {
      "text/html": [
       "<strong>1:</strong> 1.53318607188839"
      ],
      "text/latex": [
       "\\textbf{1:} 1.53318607188839"
      ],
      "text/markdown": [
       "**1:** 1.53318607188839"
      ],
      "text/plain": [
       "       1 \n",
       "1.533186 "
      ]
     },
     "metadata": {},
     "output_type": "display_data"
    }
   ],
   "source": [
    "#1 gram = .001kg\n",
    "#5200 grams = 5.2kg\n",
    "\n",
    "ols.horseshoecrab<-lm(satellites ~ weight, data=HorseshoeCrab) #lm() for least squares while glm() for maximum likelihood estimate \n",
    "round(ols.horseshoecrab$coeff,4)\n",
    "\n",
    "predict(ols.horseshoecrab,data.frame(weight = 5200))\n"
   ]
  },
  {
   "cell_type": "markdown",
   "metadata": {},
   "source": [
    "${\\hat{\\beta}}$=.0003\n",
    "\n",
    "For each 1 gram , there is a .0003 increase in predicted probability that a crab has at least one satellite.\n",
    "\n",
    "$\\alpha$= -0.1449\n",
    "\n",
    "When the weight of the  female horse shoe crab is 0 g, the predicted probability that a crab has at least one satellite is -0.1449 which is not possible \n",
    "because that number is outside of the [0,1] probability range.\n",
    "\n",
    "The predicted probability at the highest observed weight of 5.2kh (5200g) is 1.533 which exceeds the [0,1] probability range.\n",
    "\n",
    "\n",
    "###### b. Attempt to fit the model using ML, treating Y as binomial. What does your software report? [The failure is due to a fitted probability falling outside the (0, 1) range.]"
   ]
  },
  {
   "cell_type": "code",
   "execution_count": 4,
   "metadata": {},
   "outputs": [
    {
     "data": {
      "text/html": [
       "<table>\n",
       "<thead><tr><th></th><th scope=col>Estimate</th><th scope=col>Std. Error</th><th scope=col>t value</th><th scope=col>Pr(&gt;|t|)</th></tr></thead>\n",
       "<tbody>\n",
       "\t<tr><th scope=row>(Intercept)</th><td>-0.1449</td><td>0.1472 </td><td>-0.9845</td><td>0.3263 </td></tr>\n",
       "\t<tr><th scope=row>weight</th><td> 0.0003</td><td>0.0001 </td><td> 5.4916</td><td>0.0000 </td></tr>\n",
       "</tbody>\n",
       "</table>\n"
      ],
      "text/latex": [
       "\\begin{tabular}{r|llll}\n",
       "  & Estimate & Std. Error & t value & Pr(>\\textbar{}t\\textbar{})\\\\\n",
       "\\hline\n",
       "\t(Intercept) & -0.1449 & 0.1472  & -0.9845 & 0.3263 \\\\\n",
       "\tweight &  0.0003 & 0.0001  &  5.4916 & 0.0000 \\\\\n",
       "\\end{tabular}\n"
      ],
      "text/markdown": [
       "\n",
       "| <!--/--> | Estimate | Std. Error | t value | Pr(>|t|) | \n",
       "|---|---|\n",
       "| (Intercept) | -0.1449 | 0.1472  | -0.9845 | 0.3263  | \n",
       "| weight |  0.0003 | 0.0001  |  5.4916 | 0.0000  | \n",
       "\n",
       "\n"
      ],
      "text/plain": [
       "            Estimate Std. Error t value Pr(>|t|)\n",
       "(Intercept) -0.1449  0.1472     -0.9845 0.3263  \n",
       "weight       0.0003  0.0001      5.4916 0.0000  "
      ]
     },
     "metadata": {},
     "output_type": "display_data"
    }
   ],
   "source": [
    "ml_model<-summary(glm(satellites~weight,family=gaussian,data=HorseshoeCrab))\n",
    "round(ml_model$coeff,4)"
   ]
  },
  {
   "cell_type": "markdown",
   "metadata": {},
   "source": [
    "$\\pi$ = -0.1449 + 0.0003\n",
    "But like 7b we can see the predicted probability at the highest observed weight of 5.2kh (5200g) is 1.533 which exceeds the [0,1] probability range.\n",
    "\n",
    "###### c. Fit the logistic regression model. Show that the estimated logit at a weight of 5.20 kg equals 5.74. Show that πˆ = 0.9968 at that point by checking that log[ ˆπ/(1 − ˆπ )] = 5.74 when πˆ = 0.9968.\n",
    "\n",
    "Logistic regression model: logit[ ˆπ (x)]=−3.69 + 0.0018x\n",
    "\n",
    "We can see from the code below that log[ ˆπ/(1 − ˆπ )] = 5.74 when πˆ = 0.9968."
   ]
  },
  {
   "cell_type": "code",
   "execution_count": 5,
   "metadata": {},
   "outputs": [
    {
     "data": {
      "text/html": [
       "<ol class=list-inline>\n",
       "\t<li>'color'</li>\n",
       "\t<li>'spine'</li>\n",
       "\t<li>'width'</li>\n",
       "\t<li>'satellites'</li>\n",
       "\t<li>'weight'</li>\n",
       "\t<li>'Y'</li>\n",
       "</ol>\n"
      ],
      "text/latex": [
       "\\begin{enumerate*}\n",
       "\\item 'color'\n",
       "\\item 'spine'\n",
       "\\item 'width'\n",
       "\\item 'satellites'\n",
       "\\item 'weight'\n",
       "\\item 'Y'\n",
       "\\end{enumerate*}\n"
      ],
      "text/markdown": [
       "1. 'color'\n",
       "2. 'spine'\n",
       "3. 'width'\n",
       "4. 'satellites'\n",
       "5. 'weight'\n",
       "6. 'Y'\n",
       "\n",
       "\n"
      ],
      "text/plain": [
       "[1] \"color\"      \"spine\"      \"width\"      \"satellites\" \"weight\"    \n",
       "[6] \"Y\"         "
      ]
     },
     "metadata": {},
     "output_type": "display_data"
    },
    {
     "data": {
      "text/html": [
       "<table>\n",
       "<thead><tr><th scope=col>color</th><th scope=col>spine</th><th scope=col>width</th><th scope=col>satellites</th><th scope=col>weight</th><th scope=col>Y</th></tr></thead>\n",
       "<tbody>\n",
       "\t<tr><td>3   </td><td>3   </td><td>28.3</td><td>1   </td><td>3050</td><td>1   </td></tr>\n",
       "\t<tr><td>4   </td><td>3   </td><td>22.5</td><td>0   </td><td>1550</td><td>0   </td></tr>\n",
       "\t<tr><td>2   </td><td>1   </td><td>26.0</td><td>1   </td><td>2300</td><td>1   </td></tr>\n",
       "\t<tr><td>4   </td><td>3   </td><td>24.8</td><td>0   </td><td>2100</td><td>0   </td></tr>\n",
       "\t<tr><td>4   </td><td>3   </td><td>26.0</td><td>1   </td><td>2600</td><td>1   </td></tr>\n",
       "\t<tr><td>3   </td><td>3   </td><td>23.8</td><td>0   </td><td>2100</td><td>0   </td></tr>\n",
       "</tbody>\n",
       "</table>\n"
      ],
      "text/latex": [
       "\\begin{tabular}{r|llllll}\n",
       " color & spine & width & satellites & weight & Y\\\\\n",
       "\\hline\n",
       "\t 3    & 3    & 28.3 & 1    & 3050 & 1   \\\\\n",
       "\t 4    & 3    & 22.5 & 0    & 1550 & 0   \\\\\n",
       "\t 2    & 1    & 26.0 & 1    & 2300 & 1   \\\\\n",
       "\t 4    & 3    & 24.8 & 0    & 2100 & 0   \\\\\n",
       "\t 4    & 3    & 26.0 & 1    & 2600 & 1   \\\\\n",
       "\t 3    & 3    & 23.8 & 0    & 2100 & 0   \\\\\n",
       "\\end{tabular}\n"
      ],
      "text/markdown": [
       "\n",
       "color | spine | width | satellites | weight | Y | \n",
       "|---|---|---|---|---|---|\n",
       "| 3    | 3    | 28.3 | 1    | 3050 | 1    | \n",
       "| 4    | 3    | 22.5 | 0    | 1550 | 0    | \n",
       "| 2    | 1    | 26.0 | 1    | 2300 | 1    | \n",
       "| 4    | 3    | 24.8 | 0    | 2100 | 0    | \n",
       "| 4    | 3    | 26.0 | 1    | 2600 | 1    | \n",
       "| 3    | 3    | 23.8 | 0    | 2100 | 0    | \n",
       "\n",
       "\n"
      ],
      "text/plain": [
       "  color spine width satellites weight Y\n",
       "1 3     3     28.3  1          3050   1\n",
       "2 4     3     22.5  0          1550   0\n",
       "3 2     1     26.0  1          2300   1\n",
       "4 4     3     24.8  0          2100   0\n",
       "5 4     3     26.0  1          2600   1\n",
       "6 3     3     23.8  0          2100   0"
      ]
     },
     "metadata": {},
     "output_type": "display_data"
    },
    {
     "data": {
      "text/html": [
       "<dl class=dl-horizontal>\n",
       "\t<dt>(Intercept)</dt>\n",
       "\t\t<dd>-3.69472639168103</dd>\n",
       "\t<dt>weight</dt>\n",
       "\t\t<dd>0.00181514458834454</dd>\n",
       "</dl>\n"
      ],
      "text/latex": [
       "\\begin{description*}\n",
       "\\item[(Intercept)] -3.69472639168103\n",
       "\\item[weight] 0.00181514458834454\n",
       "\\end{description*}\n"
      ],
      "text/markdown": [
       "(Intercept)\n",
       ":   -3.69472639168103weight\n",
       ":   0.00181514458834454\n",
       "\n"
      ],
      "text/plain": [
       " (Intercept)       weight \n",
       "-3.694726392  0.001815145 "
      ]
     },
     "metadata": {},
     "output_type": "display_data"
    },
    {
     "data": {
      "text/html": [
       "<strong>1:</strong> 5.74402546771056"
      ],
      "text/latex": [
       "\\textbf{1:} 5.74402546771056"
      ],
      "text/markdown": [
       "**1:** 5.74402546771056"
      ],
      "text/plain": [
       "       1 \n",
       "5.744025 "
      ]
     },
     "metadata": {},
     "output_type": "display_data"
    },
    {
     "data": {
      "text/html": [
       "5.74139933822751"
      ],
      "text/latex": [
       "5.74139933822751"
      ],
      "text/markdown": [
       "5.74139933822751"
      ],
      "text/plain": [
       "[1] 5.741399"
      ]
     },
     "metadata": {},
     "output_type": "display_data"
    }
   ],
   "source": [
    "#1 gram = .001kg\n",
    "#5200 grams = 5.2kg\n",
    "\n",
    "colnames(HorseshoeCrab)\n",
    "head(HorseshoeCrab)\n",
    "library(dplyr)\n",
    "HorseshoeCrab<-read.csv(\"HorseshoeCrab.csv\")\n",
    "HorseshoeCrab$satellites<- ifelse(HorseshoeCrab$satellites>=1, 1,0) #making satellites binary\n",
    "\n",
    "LRM_HorseshoeCrab <- glm(satellites~weight,family=binomial,data=HorseshoeCrab)\n",
    "LRM_HorseshoeCrab$coef\n",
    "predict(LRM_HorseshoeCrab,data.frame(weight = 5200)) #5200 grams = 5.2 kg\n",
    "\n",
    "#Showing that  πˆ = 0.9968\n",
    "log((0.9968)/(1-0.9968))"
   ]
  },
  {
   "cell_type": "markdown",
   "metadata": {},
   "source": [
    "#### 3.8 Refer to the previous exercise for the horseshoe crab data.\n",
    "\n",
    "##### a. Report the fit for the probit model, with weight predictor.\n",
    "\n",
    "Let Y = 1 if a crab has at least one satellite, and let Y = 0 otherwise."
   ]
  },
  {
   "cell_type": "code",
   "execution_count": 6,
   "metadata": {},
   "outputs": [
    {
     "data": {
      "text/html": [
       "<ol class=list-inline>\n",
       "\t<li>'color'</li>\n",
       "\t<li>'spine'</li>\n",
       "\t<li>'width'</li>\n",
       "\t<li>'satellites'</li>\n",
       "\t<li>'weight'</li>\n",
       "\t<li>'Y'</li>\n",
       "</ol>\n"
      ],
      "text/latex": [
       "\\begin{enumerate*}\n",
       "\\item 'color'\n",
       "\\item 'spine'\n",
       "\\item 'width'\n",
       "\\item 'satellites'\n",
       "\\item 'weight'\n",
       "\\item 'Y'\n",
       "\\end{enumerate*}\n"
      ],
      "text/markdown": [
       "1. 'color'\n",
       "2. 'spine'\n",
       "3. 'width'\n",
       "4. 'satellites'\n",
       "5. 'weight'\n",
       "6. 'Y'\n",
       "\n",
       "\n"
      ],
      "text/plain": [
       "[1] \"color\"      \"spine\"      \"width\"      \"satellites\" \"weight\"    \n",
       "[6] \"Y\"         "
      ]
     },
     "metadata": {},
     "output_type": "display_data"
    },
    {
     "data": {
      "text/plain": [
       "\n",
       "Call:  glm(formula = satellites ~ weight, family = binomial(link = \"probit\"), \n",
       "    data = HorseshoeCrab)\n",
       "\n",
       "Coefficients:\n",
       "(Intercept)       weight  \n",
       "  -2.238295     0.001099  \n",
       "\n",
       "Degrees of Freedom: 172 Total (i.e. Null);  171 Residual\n",
       "Null Deviance:\t    225.8 \n",
       "Residual Deviance: 195.5 \tAIC: 199.5"
      ]
     },
     "metadata": {},
     "output_type": "display_data"
    }
   ],
   "source": [
    "HorseshoeCrab<-read.csv(\"HorseshoeCrab.csv\")\n",
    "colnames(HorseshoeCrab)\n",
    "HorseshoeCrab$satellites<- ifelse(HorseshoeCrab$satellites>=1, 1,0) #assigning satellites 0s and 1s \n",
    "\n",
    "#probit model\n",
    "probit_model_horseshoecrab<-glm(satellites~weight,family=binomial(link=\"probit\"),HorseshoeCrab);probit_model_horseshoecrab"
   ]
  },
  {
   "cell_type": "markdown",
   "metadata": {},
   "source": [
    "probit[$\\hat{\\pi}$(x)]=-2.238+0.001099(weight)\n",
    "\n",
    "##### b. Find πˆ (the fitted probability) at the highest observed weight, 5.20 kg."
   ]
  },
  {
   "cell_type": "code",
   "execution_count": 7,
   "metadata": {},
   "outputs": [
    {
     "data": {
      "text/html": [
       "<strong>1:</strong> 3.47670866893778"
      ],
      "text/latex": [
       "\\textbf{1:} 3.47670866893778"
      ],
      "text/markdown": [
       "**1:** 3.47670866893778"
      ],
      "text/plain": [
       "       1 \n",
       "3.476709 "
      ]
     },
     "metadata": {},
     "output_type": "display_data"
    },
    {
     "data": {
      "text/html": [
       "<strong>1:</strong> 0.99974619547229"
      ],
      "text/latex": [
       "\\textbf{1:} 0.99974619547229"
      ],
      "text/markdown": [
       "**1:** 0.99974619547229"
      ],
      "text/plain": [
       "        1 \n",
       "0.9997462 "
      ]
     },
     "metadata": {},
     "output_type": "display_data"
    }
   ],
   "source": [
    "#5.2 g = 5200g \n",
    "  \n",
    "predict(probit_model_horseshoecrab,data.frame(weight=5200)) #probit value \n",
    "pnorm(predict(probit_model_horseshoecrab,data.frame(weight=5200))) #left tail probability"
   ]
  },
  {
   "cell_type": "markdown",
   "metadata": {},
   "source": [
    "$\\hat{\\pi}$(x=5.20) ~ 0.013\n",
    "At observed weight x = 5.20, the probit equals approximately 3.47 which corresponds to a fitted probability of approximately 1. \n",
    "\n",
    "##### c. Describe the weight effect by finding the difference between the πˆ values at the upper and lower quartiles of weight, 2.85 and 2.00 kg."
   ]
  },
  {
   "cell_type": "code",
   "execution_count": 9,
   "metadata": {},
   "outputs": [
    {
     "data": {
      "text/html": [
       "<dl class=dl-horizontal>\n",
       "\t<dt>1</dt>\n",
       "\t\t<dd>0.893966841943152</dd>\n",
       "\t<dt>2</dt>\n",
       "\t\t<dd>-0.040216372076181</dd>\n",
       "</dl>\n"
      ],
      "text/latex": [
       "\\begin{description*}\n",
       "\\item[1] 0.893966841943152\n",
       "\\item[2] -0.040216372076181\n",
       "\\end{description*}\n"
      ],
      "text/markdown": [
       "1\n",
       ":   0.8939668419431522\n",
       ":   -0.040216372076181\n",
       "\n"
      ],
      "text/plain": [
       "          1           2 \n",
       " 0.89396684 -0.04021637 "
      ]
     },
     "metadata": {},
     "output_type": "display_data"
    },
    {
     "data": {
      "text/html": [
       "<strong>1:</strong> 0.330369871227189"
      ],
      "text/latex": [
       "\\textbf{1:} 0.330369871227189"
      ],
      "text/markdown": [
       "**1:** 0.330369871227189"
      ],
      "text/plain": [
       "        1 \n",
       "0.3303699 "
      ]
     },
     "metadata": {},
     "output_type": "display_data"
    }
   ],
   "source": [
    "predict(probit_model_horseshoecrab,data.frame(weight=c(2.85*1000,2.00*1000))) #probit value of weights 2.85kg (2850g) and 2.00 kg (2000g)\n",
    "pnorm(predict(probit_model_horseshoecrab,data.frame(weight=2.85*1000)))-pnorm(predict(probit_model_horseshoecrab,data.frame(weight=2.00*1000)))"
   ]
  },
  {
   "cell_type": "markdown",
   "metadata": {},
   "source": [
    "The weight effect is 0.33 - the difference between the probabality of quartiles of weight 2.85 and 2.00 kg.\n",
    "\n",
    "##### d. Interpret the parameter estimates using characteristics of the normal cdf that describes the response curve.\n",
    "\n",
    "weight: 0.001099\n",
    "(Intercept): -2.238\n",
    "\n",
    "This probit fit model corresponds to a normal cdf having mean (− ˆα/βˆ) = 2036.4 and standard deviation 1/|βˆ| = 909.92"
   ]
  },
  {
   "cell_type": "code",
   "execution_count": null,
   "metadata": {},
   "outputs": [],
   "source": []
  }
 ],
 "metadata": {
  "kernelspec": {
   "display_name": "R",
   "language": "R",
   "name": "ir"
  },
  "language_info": {
   "codemirror_mode": "r",
   "file_extension": ".r",
   "mimetype": "text/x-r-source",
   "name": "R",
   "pygments_lexer": "r",
   "version": "3.4.3"
  }
 },
 "nbformat": 4,
 "nbformat_minor": 2
}
