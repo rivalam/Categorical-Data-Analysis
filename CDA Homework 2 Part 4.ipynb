{
 "cells": [
  {
   "cell_type": "markdown",
   "metadata": {},
   "source": [
    "### 4. In the US, the estimated probability that a woman over the age of 35 dies of lung cancer equals 0.001304 for current smokers and 0.000121 for non smokers. "
   ]
  },
  {
   "cell_type": "markdown",
   "metadata": {},
   "source": [
    "##### Calculate and interpret the difference between these proportions, and compute the relative risk of cancer. Which statistics is more informative for these data? Why?"
   ]
  },
  {
   "cell_type": "markdown",
   "metadata": {},
   "source": [
    "difference of proportions = $p_{1} - p_{2}$\n",
    "\n",
    "sample relative risk = $\\frac{p_{1}}{p_{2}}$"
   ]
  },
  {
   "cell_type": "code",
   "execution_count": 3,
   "metadata": {},
   "outputs": [
    {
     "data": {
      "text/html": [
       "0.001183"
      ],
      "text/latex": [
       "0.001183"
      ],
      "text/markdown": [
       "0.001183"
      ],
      "text/plain": [
       "[1] 0.001183"
      ]
     },
     "metadata": {},
     "output_type": "display_data"
    },
    {
     "data": {
      "text/html": [
       "10.7768595041322"
      ],
      "text/latex": [
       "10.7768595041322"
      ],
      "text/markdown": [
       "10.7768595041322"
      ],
      "text/plain": [
       "[1] 10.77686"
      ]
     },
     "metadata": {},
     "output_type": "display_data"
    },
    {
     "data": {
      "text/html": [
       "0.001304"
      ],
      "text/latex": [
       "0.001304"
      ],
      "text/markdown": [
       "0.001304"
      ],
      "text/plain": [
       "[1] 0.001304"
      ]
     },
     "metadata": {},
     "output_type": "display_data"
    }
   ],
   "source": [
    "p_1<-0.001304\n",
    "p_2<-0.000121\n",
    "difference_of_prop<- p_1-p_2\n",
    "difference_of_prop\n",
    "relative_risk<-p_1/p_2\n",
    "relative_risk\n",
    "0.000121*relative_risk"
   ]
  },
  {
   "cell_type": "markdown",
   "metadata": {},
   "source": [
    "The difference between these proportions show that  a woman over the age of 35 dying of lung cancer is approximately .0012 greater when she is a smoker than when she is not. The sample difference of proportions show that the response (whether or not a woman over the age of 35 dies of lung cancer) depends on whether or not she is a smoker since $p_{1}$ $\\ne$ $p_{2}$. That is, when the response is not independent of the group. \n",
    "\n",
    "The relative risk is more informative because it shows the (striking) magnitude such that woman over the age of 35 who is a current smoker dying of lung cancer is apprixately 10.78 times that of a woman over the age of 35 who is not a current smoker. "
   ]
  },
  {
   "cell_type": "markdown",
   "metadata": {},
   "source": [
    "##### Calculate and interpret the odds ratio. Explain why the relative risk and the odds ratio take similar values."
   ]
  },
  {
   "cell_type": "markdown",
   "metadata": {},
   "source": [
    "Odds ratio = Relative Risk x $\\frac{1-p_{2}}{1-p_{1}}$"
   ]
  },
  {
   "cell_type": "code",
   "execution_count": 5,
   "metadata": {},
   "outputs": [
    {
     "data": {
      "text/html": [
       "10.7896251753609"
      ],
      "text/latex": [
       "10.7896251753609"
      ],
      "text/markdown": [
       "10.7896251753609"
      ],
      "text/plain": [
       "[1] 10.78963"
      ]
     },
     "metadata": {},
     "output_type": "display_data"
    }
   ],
   "source": [
    "odds_ratio<-relative_risk*((1-p_2)/(1-p_1))\n",
    "odds_ratio"
   ]
  },
  {
   "cell_type": "markdown",
   "metadata": {},
   "source": [
    "The odds ratio is approximately 10.79, which means that the odds of a woman over the age of 35 who is a current smoker dying of lung cancer is 10.79 times higher than one who is a non-smoker. \n",
    "\n",
    "The relative risk and the OR take similar values because $p_{1}$ and $p_{2}$ are both close to 0 and therefore the fraction used in the calculations for the OR equals approximately 1. So essentially, OR = relative risk* (1)= relative risk. "
   ]
  }
 ],
 "metadata": {
  "kernelspec": {
   "display_name": "R",
   "language": "R",
   "name": "ir"
  },
  "language_info": {
   "codemirror_mode": "r",
   "file_extension": ".r",
   "mimetype": "text/x-r-source",
   "name": "R",
   "pygments_lexer": "r",
   "version": "3.4.3"
  }
 },
 "nbformat": 4,
 "nbformat_minor": 2
}
