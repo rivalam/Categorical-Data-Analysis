{
 "cells": [
  {
   "cell_type": "markdown",
   "metadata": {},
   "source": [
    "### 2.18 Table 2.13 shows data from the 2002 General Social Survey cross classifying a person’s perceived happiness with their family income. The table displays the observed and expected cell counts and the standardized residuals for testing independence.\n",
    "\n",
    "#### a. Show how to obtain the estimated expected cell count of 35.8 for the first cell.\n",
    "\n",
    "$E_{1,1} = \\frac{row 1 times col 1}{Grand Total}$ \n",
    "\n",
    "(Please see calculations in code below.)"
   ]
  },
  {
   "cell_type": "code",
   "execution_count": 1,
   "metadata": {},
   "outputs": [
    {
     "data": {
      "text/html": [
       "<table>\n",
       "<thead><tr><th></th><th scope=col>Not.Too.Happy</th><th scope=col>Pretty.Happy</th><th scope=col>Very.Happy</th></tr></thead>\n",
       "<tbody>\n",
       "\t<tr><th scope=row>Above</th><td>21 </td><td>159</td><td>110</td></tr>\n",
       "\t<tr><th scope=row>Average</th><td>53 </td><td>372</td><td>221</td></tr>\n",
       "\t<tr><th scope=row>Below</th><td>94 </td><td>249</td><td> 83</td></tr>\n",
       "</tbody>\n",
       "</table>\n"
      ],
      "text/latex": [
       "\\begin{tabular}{r|lll}\n",
       "  & Not.Too.Happy & Pretty.Happy & Very.Happy\\\\\n",
       "\\hline\n",
       "\tAbove & 21  & 159 & 110\\\\\n",
       "\tAverage & 53  & 372 & 221\\\\\n",
       "\tBelow & 94  & 249 &  83\\\\\n",
       "\\end{tabular}\n"
      ],
      "text/markdown": [
       "\n",
       "| <!--/--> | Not.Too.Happy | Pretty.Happy | Very.Happy | \n",
       "|---|---|---|\n",
       "| Above | 21  | 159 | 110 | \n",
       "| Average | 53  | 372 | 221 | \n",
       "| Below | 94  | 249 |  83 | \n",
       "\n",
       "\n"
      ],
      "text/plain": [
       "         Happiness\n",
       "Income    Not.Too.Happy Pretty.Happy Very.Happy\n",
       "  Above   21            159          110       \n",
       "  Average 53            372          221       \n",
       "  Below   94            249           83       "
      ]
     },
     "metadata": {},
     "output_type": "display_data"
    },
    {
     "data": {
      "text/html": [
       "<dl class=dl-horizontal>\n",
       "\t<dt>Above</dt>\n",
       "\t\t<dd>290</dd>\n",
       "\t<dt>Average</dt>\n",
       "\t\t<dd>646</dd>\n",
       "\t<dt>Below</dt>\n",
       "\t\t<dd>426</dd>\n",
       "</dl>\n"
      ],
      "text/latex": [
       "\\begin{description*}\n",
       "\\item[Above] 290\n",
       "\\item[Average] 646\n",
       "\\item[Below] 426\n",
       "\\end{description*}\n"
      ],
      "text/markdown": [
       "Above\n",
       ":   290Average\n",
       ":   646Below\n",
       ":   426\n",
       "\n"
      ],
      "text/plain": [
       "  Above Average   Below \n",
       "    290     646     426 "
      ]
     },
     "metadata": {},
     "output_type": "display_data"
    },
    {
     "data": {
      "text/html": [
       "<dl class=dl-horizontal>\n",
       "\t<dt>Not.Too.Happy</dt>\n",
       "\t\t<dd>168</dd>\n",
       "\t<dt>Pretty.Happy</dt>\n",
       "\t\t<dd>780</dd>\n",
       "\t<dt>Very.Happy</dt>\n",
       "\t\t<dd>414</dd>\n",
       "</dl>\n"
      ],
      "text/latex": [
       "\\begin{description*}\n",
       "\\item[Not.Too.Happy] 168\n",
       "\\item[Pretty.Happy] 780\n",
       "\\item[Very.Happy] 414\n",
       "\\end{description*}\n"
      ],
      "text/markdown": [
       "Not.Too.Happy\n",
       ":   168Pretty.Happy\n",
       ":   780Very.Happy\n",
       ":   414\n",
       "\n"
      ],
      "text/plain": [
       "Not.Too.Happy  Pretty.Happy    Very.Happy \n",
       "          168           780           414 "
      ]
     },
     "metadata": {},
     "output_type": "display_data"
    },
    {
     "data": {
      "text/html": [
       "<strong>Above:</strong> 35.8"
      ],
      "text/latex": [
       "\\textbf{Above:} 35.8"
      ],
      "text/markdown": [
       "**Above:** 35.8"
      ],
      "text/plain": [
       "Above \n",
       " 35.8 "
      ]
     },
     "metadata": {},
     "output_type": "display_data"
    }
   ],
   "source": [
    "#Data is ordinal. Only ordinal if both variables are ordinal.\n",
    "H.table <- array(data=c(21, 53,94,159,372,249,110,221,83), \n",
    "                 dim= c(3,3),\n",
    "                 dimnames=list(Income=c(\"Above\",\"Average\", \"Below\"), \n",
    "                               Happiness=c(\"Not.Too.Happy\",\"Pretty.Happy\",\"Very.Happy\")))\n",
    "H.table\n",
    "rowSums(H.table)\n",
    "colSums(H.table)\n",
    "Grand.Mean.Using.R<-290+646+426\n",
    "Expected_Cell_Count_C11<-round((rowSums(H.table)[1]*168)/(Grand.Mean.Using.R),1)\n",
    "Expected_Cell_Count_C11"
   ]
  },
  {
   "cell_type": "markdown",
   "metadata": {},
   "source": [
    "#### b. For testing independence, X2 = 73.4. Report the df value and the P-value, and interpret.\n",
    "\n",
    "DF = (I-1)(J-1)=(3-1)(3-1)=4\n",
    "There are 4 degrees of freedom which indicates there are 4 cells that are not fixed."
   ]
  },
  {
   "cell_type": "code",
   "execution_count": 2,
   "metadata": {},
   "outputs": [
    {
     "data": {
      "text/html": [
       "4.44408995335442e-15"
      ],
      "text/latex": [
       "4.44408995335442e-15"
      ],
      "text/markdown": [
       "4.44408995335442e-15"
      ],
      "text/plain": [
       "[1] 4.44409e-15"
      ]
     },
     "metadata": {},
     "output_type": "display_data"
    }
   ],
   "source": [
    "Xsq <- chisq.test(H.table, correct=FALSE)\n",
    "Xsq$p.value"
   ]
  },
  {
   "cell_type": "markdown",
   "metadata": {},
   "source": [
    "The p value is  4.44409e-15. Because we have a p value that is less than .05, we have sufficient evidence to reject the null hypothesis that there is no association (independence) between income and happiness.\n",
    "\n",
    "#### c. Interpret the standardized residuals in the corner cells having counts 21 and 83.\n",
    "\n",
    "There are fewer people who have an above income and those who weren't too happy than the hypothesis of independence predicts for cell count 21 (standardized residual: −2.973).\n",
    "\n",
    "There are fewer people who have a below income and those who were very happy than the hypothesis of independence predicts for cell count 83 (standardized residual:−5.907).\n",
    "\n",
    "#### d. Interpret the standardized residuals in the corner cells having counts 110 and 94.\n",
    "\n",
    "\n",
    "There are more people who have an above income and  who were very happy than the hypothesis of independence predicts for cell count 110 (standardized residual:3.144).\n",
    "\n",
    "There are more people who have a below income and not too happy  than the hypothesis of independence predicts for cell count 94 (standardized residual: 7.368)\n",
    "\n"
   ]
  }
 ],
 "metadata": {
  "kernelspec": {
   "display_name": "R",
   "language": "R",
   "name": "ir"
  },
  "language_info": {
   "codemirror_mode": "r",
   "file_extension": ".r",
   "mimetype": "text/x-r-source",
   "name": "R",
   "pygments_lexer": "r",
   "version": "3.4.3"
  }
 },
 "nbformat": 4,
 "nbformat_minor": 2
}
