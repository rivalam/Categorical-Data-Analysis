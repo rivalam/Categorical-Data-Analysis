{
 "cells": [
  {
   "cell_type": "markdown",
   "metadata": {},
   "source": [
    "Agresti: Ch 3 # 5, 7, 8, 11"
   ]
  },
  {
   "cell_type": "markdown",
   "metadata": {},
   "source": [
    "#### 5. For Table 3.1 on snoring and heart disease, re-fit the linear probability model or the logistic regression model using the scores:\n",
    "$\\pi$(x)= probability of heart disease given snoring level \n",
    "\n",
    "#### (i) (0, 2, 4, 6)\n",
    "\n",
    "logit[ $\\hat{\\pi}$(x)]=−3.87 + 0.33x\n",
    "\n",
    "#### (ii) (0, 1, 2, 3)\n",
    "\n",
    "logit[ $\\hat{\\pi}$(x)]=−3.87 + 0.65x\n",
    "\n",
    "#### (iii) (1, 2, 3, 4)\n",
    "\n",
    "logit[ $\\hat{\\pi}$(x)]=−4.43 + 0.65x\n",
    "\n",
    "Code listed below for summary outputs and tables."
   ]
  },
  {
   "cell_type": "code",
   "execution_count": 5,
   "metadata": {},
   "outputs": [
    {
     "data": {
      "text/plain": [
       "   y\n",
       "x_1    0    1\n",
       "  0 1355   24\n",
       "  2  603   35\n",
       "  4  192   21\n",
       "  6  224   30"
      ]
     },
     "metadata": {},
     "output_type": "display_data"
    },
    {
     "data": {
      "text/html": [
       "<dl class=dl-horizontal>\n",
       "\t<dt>(Intercept)</dt>\n",
       "\t\t<dd>-3.78</dd>\n",
       "\t<dt>Snoring</dt>\n",
       "\t\t<dd>0.33</dd>\n",
       "</dl>\n"
      ],
      "text/latex": [
       "\\begin{description*}\n",
       "\\item[(Intercept)] -3.78\n",
       "\\item[Snoring] 0.33\n",
       "\\end{description*}\n"
      ],
      "text/markdown": [
       "(Intercept)\n",
       ":   -3.78Snoring\n",
       ":   0.33\n",
       "\n"
      ],
      "text/plain": [
       "(Intercept)     Snoring \n",
       "      -3.78        0.33 "
      ]
     },
     "metadata": {},
     "output_type": "display_data"
    },
    {
     "data": {
      "text/plain": [
       "   y\n",
       "x_2    0    1\n",
       "  0 1355   24\n",
       "  1  603   35\n",
       "  2  192   21\n",
       "  3  224   30"
      ]
     },
     "metadata": {},
     "output_type": "display_data"
    },
    {
     "data": {
      "text/html": [
       "<dl class=dl-horizontal>\n",
       "\t<dt>(Intercept)</dt>\n",
       "\t\t<dd>-3.78</dd>\n",
       "\t<dt>Snoring</dt>\n",
       "\t\t<dd>0.65</dd>\n",
       "</dl>\n"
      ],
      "text/latex": [
       "\\begin{description*}\n",
       "\\item[(Intercept)] -3.78\n",
       "\\item[Snoring] 0.65\n",
       "\\end{description*}\n"
      ],
      "text/markdown": [
       "(Intercept)\n",
       ":   -3.78Snoring\n",
       ":   0.65\n",
       "\n"
      ],
      "text/plain": [
       "(Intercept)     Snoring \n",
       "      -3.78        0.65 "
      ]
     },
     "metadata": {},
     "output_type": "display_data"
    },
    {
     "data": {
      "text/plain": [
       "   y\n",
       "x_3    0    1\n",
       "  1 1355   24\n",
       "  2  603   35\n",
       "  3  192   21\n",
       "  4  224   30"
      ]
     },
     "metadata": {},
     "output_type": "display_data"
    },
    {
     "data": {
      "text/html": [
       "<dl class=dl-horizontal>\n",
       "\t<dt>(Intercept)</dt>\n",
       "\t\t<dd>-4.43</dd>\n",
       "\t<dt>Snoring</dt>\n",
       "\t\t<dd>0.65</dd>\n",
       "</dl>\n"
      ],
      "text/latex": [
       "\\begin{description*}\n",
       "\\item[(Intercept)] -4.43\n",
       "\\item[Snoring] 0.65\n",
       "\\end{description*}\n"
      ],
      "text/markdown": [
       "(Intercept)\n",
       ":   -4.43Snoring\n",
       ":   0.65\n",
       "\n"
      ],
      "text/plain": [
       "(Intercept)     Snoring \n",
       "      -4.43        0.65 "
      ]
     },
     "metadata": {},
     "output_type": "display_data"
    }
   ],
   "source": [
    "#Scores (0,2,4,6)\n",
    "x_1 <- c(rep(0, 24+1355),\n",
    "       rep(2, 35+603),\n",
    "       rep(4, 21+192),\n",
    "       rep(6, 30+224))\n",
    "\n",
    "y <- c(rep(1, 24), rep(0, 1355),\n",
    "       rep(1, 35), rep(0, 603),\n",
    "       rep(1, 21), rep(0, 192),\n",
    "       rep(1, 30), rep(0, 224))\n",
    "\n",
    "x_3 <- c(rep(1, 24+1355),\n",
    "       rep(2, 35+603),\n",
    "       rep(3, 21+192),\n",
    "       rep(4, 30+224))\n",
    "\n",
    "Table_0246<-table(x_1,y)\n",
    "Table_0246\n",
    "\n",
    "#Renaming variables for use.\n",
    "HeartDisease <- y\n",
    "Snoring <- x_1\n",
    "\n",
    "ds_1 <- data.frame(Snoring, HeartDisease)\n",
    "\n",
    "#Summary output for logistic regression\n",
    "#family= binomial= logistic; family=gaussian = normal distribution\n",
    "mdl.glm.1 <- glm(HeartDisease~Snoring,family=binomial,data=ds_1); #not treating as categorical,\n",
    "                                            #leave out ds_1$Snoring in order to find fitted values\n",
    "                      #Can't do predict(mdl.glm.1, data.frame(ds_1$Snoring = c(0, 2, 4, 6)))\n",
    "round(coef(mdl.glm.1),2) #get coefficients of logistic regression model, rounded 2 decimal places \n",
    "\n",
    "#Scores (0, 1, 2, 3)\n",
    "x_2 <- c(rep(0, 24+1355),\n",
    "       rep(1, 35+603),\n",
    "       rep(2, 21+192),\n",
    "       rep(3, 30+224))\n",
    "Snoring <- x_2\n",
    "ds_2 <- data.frame(Snoring, HeartDisease)\n",
    "Table_0123<-table(x_2,y);Table_0123\n",
    "mdl.glm.2 <- glm(HeartDisease~Snoring,family=binomial,data=ds_2);\n",
    "round(coef(mdl.glm.2),2)\n",
    "\n",
    "# Scores (1, 2, 3, 4)\n",
    "x_3 <- c(rep(1, 24+1355),\n",
    "       rep(2, 35+603),\n",
    "       rep(3, 21+192),\n",
    "       rep(4, 30+224))\n",
    "Snoring <- x_3\n",
    "ds_3 <- data.frame(Snoring, HeartDisease)\n",
    "Table_1234<-table(x_3,y);Table_1234\n",
    "mdl.glm.3 <- glm(HeartDisease~Snoring,family=binomial,data=ds_3);\n",
    "round(coef(mdl.glm.3),2)"
   ]
  },
  {
   "cell_type": "markdown",
   "metadata": {},
   "source": [
    "#### Compare the model parameter estimates under the three choices. Compare the fitted values. What can you conclude about the effect of transformations of scores (called linear) that preserve relative sizes of spacings between scores?"
   ]
  },
  {
   "cell_type": "code",
   "execution_count": 4,
   "metadata": {},
   "outputs": [
    {
     "data": {
      "text/html": [
       "<dl class=dl-horizontal>\n",
       "\t<dt>1</dt>\n",
       "\t\t<dd>-3.77737563045651</dd>\n",
       "\t<dt>2</dt>\n",
       "\t\t<dd>-3.12284604312915</dd>\n",
       "\t<dt>3</dt>\n",
       "\t\t<dd>-2.46831645580179</dd>\n",
       "\t<dt>4</dt>\n",
       "\t\t<dd>-1.81378686847443</dd>\n",
       "</dl>\n"
      ],
      "text/latex": [
       "\\begin{description*}\n",
       "\\item[1] -3.77737563045651\n",
       "\\item[2] -3.12284604312915\n",
       "\\item[3] -2.46831645580179\n",
       "\\item[4] -1.81378686847443\n",
       "\\end{description*}\n"
      ],
      "text/markdown": [
       "1\n",
       ":   -3.777375630456512\n",
       ":   -3.122846043129153\n",
       ":   -2.468316455801794\n",
       ":   -1.81378686847443\n",
       "\n"
      ],
      "text/plain": [
       "        1         2         3         4 \n",
       "-3.777376 -3.122846 -2.468316 -1.813787 "
      ]
     },
     "metadata": {},
     "output_type": "display_data"
    },
    {
     "data": {
      "text/html": [
       "<dl class=dl-horizontal>\n",
       "\t<dt>1</dt>\n",
       "\t\t<dd>-3.77737563045651</dd>\n",
       "\t<dt>2</dt>\n",
       "\t\t<dd>-3.12284604312915</dd>\n",
       "\t<dt>3</dt>\n",
       "\t\t<dd>-2.46831645580179</dd>\n",
       "\t<dt>4</dt>\n",
       "\t\t<dd>-1.81378686847443</dd>\n",
       "</dl>\n"
      ],
      "text/latex": [
       "\\begin{description*}\n",
       "\\item[1] -3.77737563045651\n",
       "\\item[2] -3.12284604312915\n",
       "\\item[3] -2.46831645580179\n",
       "\\item[4] -1.81378686847443\n",
       "\\end{description*}\n"
      ],
      "text/markdown": [
       "1\n",
       ":   -3.777375630456512\n",
       ":   -3.122846043129153\n",
       ":   -2.468316455801794\n",
       ":   -1.81378686847443\n",
       "\n"
      ],
      "text/plain": [
       "        1         2         3         4 \n",
       "-3.777376 -3.122846 -2.468316 -1.813787 "
      ]
     },
     "metadata": {},
     "output_type": "display_data"
    },
    {
     "data": {
      "text/html": [
       "<dl class=dl-horizontal>\n",
       "\t<dt>1</dt>\n",
       "\t\t<dd>-3.77737563045658</dd>\n",
       "\t<dt>2</dt>\n",
       "\t\t<dd>-3.12284604312918</dd>\n",
       "\t<dt>3</dt>\n",
       "\t\t<dd>-2.46831645580178</dd>\n",
       "\t<dt>4</dt>\n",
       "\t\t<dd>-1.81378686847438</dd>\n",
       "</dl>\n"
      ],
      "text/latex": [
       "\\begin{description*}\n",
       "\\item[1] -3.77737563045658\n",
       "\\item[2] -3.12284604312918\n",
       "\\item[3] -2.46831645580178\n",
       "\\item[4] -1.81378686847438\n",
       "\\end{description*}\n"
      ],
      "text/markdown": [
       "1\n",
       ":   -3.777375630456582\n",
       ":   -3.122846043129183\n",
       ":   -2.468316455801784\n",
       ":   -1.81378686847438\n",
       "\n"
      ],
      "text/plain": [
       "        1         2         3         4 \n",
       "-3.777376 -3.122846 -2.468316 -1.813787 "
      ]
     },
     "metadata": {},
     "output_type": "display_data"
    }
   ],
   "source": [
    "predict(mdl.glm.1, data.frame(Snoring = c(0, 2, 4, 6))) #Fitted values for Snoring levels: 0,2,4,6\n",
    "predict(mdl.glm.2, data.frame(Snoring = c(0, 1, 2, 3))) #Fitted values for Snoring levels: 0,1,2,3\n",
    "predict(mdl.glm.3, data.frame(Snoring = c(1,2,3,4))) #Fitted values for Snoring levels: 1,2,3,4"
   ]
  },
  {
   "cell_type": "markdown",
   "metadata": {},
   "source": [
    "We can see beow that (rounded to 2 decimal places) model parameter estimates as a pair (intercept and slope) are unique and the intercept is only the same for i and ii.\n",
    "\n",
    "The fitted values, are the same across the three different snoring level scores (i-iii). \n",
    "\n",
    "What I can conclude about the effect of transformation of scores (called linear) that preserve relative sizes of spacings between scores is that the fitted values do not change across the score levels but the model parameter estimates does vary. \n",
    "\n",
    "#### (i) (0, 2, 4, 6)\n",
    "\n",
    "logit[ $\\hat{\\pi}$(x)]=−3.87 + 0.33x\n",
    "\n",
    "#### (ii) (0, 1, 2, 3)\n",
    "\n",
    "logit[ $\\hat{\\pi}$(x)]=−3.87 + 0.65x\n",
    "\n",
    "#### (iii) (1, 2, 3, 4)\n",
    "\n",
    "logit[ $\\hat{\\pi}$(x)]=−4.43 + 0.65x\n"
   ]
  }
 ],
 "metadata": {
  "kernelspec": {
   "display_name": "R",
   "language": "R",
   "name": "ir"
  },
  "language_info": {
   "codemirror_mode": "r",
   "file_extension": ".r",
   "mimetype": "text/x-r-source",
   "name": "R",
   "pygments_lexer": "r",
   "version": "3.4.3"
  }
 },
 "nbformat": 4,
 "nbformat_minor": 2
}
