{
 "cells": [
  {
   "cell_type": "markdown",
   "metadata": {},
   "source": [
    "3.2 In the 2000 US Presidential election, Palm Beach County in Florida was the\n",
    "focus of unusual voting patterns apparently caused by a confusing “butterfly\n",
    "ballot.” Many voters claimed they voted mistakenly for the Reform party\n",
    "candidate, Pat Buchanan, when they intended to vote for Al Gore. Figure 3.8\n",
    "shows the total number of votes for Buchanan plotted against the number of\n",
    "votes for the Reform party candidate in 1996 (Ross Perot), by county in Florida.\n",
    "(For details, see A. Agresti and B. Presnell, Statist. Sci., 17: 436–440, 2003.)\n",
    "\n",
    "#### a. In county i, let πi denote the proportion of the vote for Buchanan and let xi denote the proportion of the vote for Perot in 1996. For the linear probability model fitted to all counties except Palm Beach County, πˆi = −0.0003 + 0.0304xi. Give the value of P in the interpretation: The estimated proportion vote for Buchanan in 2000 was roughly P % of that for Perot in 1996.\n",
    "\n",
    "πi:the proportion of the vote for Buchanan\n",
    "xi: the proportion of the vote for Perot in 1996\n",
    "\n",
    "The estimated proportion vote for Buchanan (πi) in 2000 was roughly 3.04 % of that for Perot in 1996 ."
   ]
  },
  {
   "cell_type": "code",
   "execution_count": 1,
   "metadata": {},
   "outputs": [
    {
     "data": {
      "text/html": [
       "3.04"
      ],
      "text/latex": [
       "3.04"
      ],
      "text/markdown": [
       "3.04"
      ],
      "text/plain": [
       "[1] 3.04"
      ]
     },
     "metadata": {},
     "output_type": "display_data"
    }
   ],
   "source": [
    "0.0304*100"
   ]
  },
  {
   "cell_type": "markdown",
   "metadata": {},
   "source": [
    "#### b. For Palm Beach County, πi = 0.0079 and xi = 0.0774. Does this result appear to be an outlier? Investigate, by finding πi/πˆi and πi − ˆπi. (Analyses conducted by statisticians predicted that fewer than 900 votes were truly intended for Buchanan, compared with the 3407 he received. George W. Bush won the state by 537 votes and, with it, the Electoral College and the election. Other ballot design problems played a role in 110,000 disqualified “overvote” ballots, in which people mistakenly voted for more than one candidate, with Gore marked on 84,197 ballots and Bush on 37,731.)"
   ]
  },
  {
   "cell_type": "code",
   "execution_count": 2,
   "metadata": {},
   "outputs": [
    {
     "data": {
      "text/html": [
       "0.00205296"
      ],
      "text/latex": [
       "0.00205296"
      ],
      "text/markdown": [
       "0.00205296"
      ],
      "text/plain": [
       "[1] 0.00205296"
      ]
     },
     "metadata": {},
     "output_type": "display_data"
    },
    {
     "data": {
      "text/html": [
       "3.85"
      ],
      "text/latex": [
       "3.85"
      ],
      "text/markdown": [
       "3.85"
      ],
      "text/plain": [
       "[1] 3.85"
      ]
     },
     "metadata": {},
     "output_type": "display_data"
    },
    {
     "data": {
      "text/html": [
       "0.01"
      ],
      "text/latex": [
       "0.01"
      ],
      "text/markdown": [
       "0.01"
      ],
      "text/plain": [
       "[1] 0.01"
      ]
     },
     "metadata": {},
     "output_type": "display_data"
    }
   ],
   "source": [
    "param_i<-0.0079\n",
    "param_ei<-(-0.0003) + (0.0304*(0.0774))\n",
    "param_ei\n",
    "round(param_i/param_ei,2)\n",
    "round(param_i-param_ei,2) #residual is close to 0, so it is a good fit."
   ]
  },
  {
   "cell_type": "markdown",
   "metadata": {},
   "source": [
    "This result may be an outlier becase the proportion of the vote for Buchanan πi = 0.0079 is approximately 3.5 times bigger than the estimated proportion πi^= 0.002 but  πi − ˆπi is close to 0 which indicates a small residual."
   ]
  }
 ],
 "metadata": {
  "kernelspec": {
   "display_name": "R",
   "language": "R",
   "name": "ir"
  },
  "language_info": {
   "codemirror_mode": "r",
   "file_extension": ".r",
   "mimetype": "text/x-r-source",
   "name": "R",
   "pygments_lexer": "r",
   "version": "3.4.3"
  }
 },
 "nbformat": 4,
 "nbformat_minor": 2
}
