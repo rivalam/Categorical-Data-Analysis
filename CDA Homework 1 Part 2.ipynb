{
 "cells": [
  {
   "cell_type": "markdown",
   "metadata": {},
   "source": [
    "## 2. Continuing exercise 1, find the Wald, Wilson, and Agresti-Couli 95% confidence intervals for $\\pi$ (the probability of success in each experiment. Interpret the intervals in the content of the experiments. (See section 1.3.4 in your textbook for this material)"
   ]
  },
  {
   "cell_type": "markdown",
   "metadata": {},
   "source": [
    "Infant and Cheerios.\n",
    "w= 9 successes are observed out of n= 20 trials. "
   ]
  },
  {
   "cell_type": "code",
   "execution_count": 7,
   "metadata": {},
   "outputs": [
    {
     "name": "stderr",
     "output_type": "stream",
     "text": [
      "Updating HTML index of packages in '.Library'\n",
      "Making 'packages.html' ... done\n"
     ]
    },
    {
     "data": {
      "text/html": [
       "<table>\n",
       "<thead><tr><th scope=col>method</th><th scope=col>x</th><th scope=col>n</th><th scope=col>mean</th><th scope=col>lower</th><th scope=col>upper</th></tr></thead>\n",
       "<tbody>\n",
       "\t<tr><td>agresti-coull</td><td>9            </td><td>20           </td><td>0.45         </td><td>0.2580617    </td><td>0.6580508    </td></tr>\n",
       "\t<tr><td>asymptotic   </td><td>9            </td><td>20           </td><td>0.45         </td><td>0.2319678    </td><td>0.6680322    </td></tr>\n",
       "\t<tr><td>wilson       </td><td>9            </td><td>20           </td><td>0.45         </td><td>0.2581979    </td><td>0.6579147    </td></tr>\n",
       "</tbody>\n",
       "</table>\n"
      ],
      "text/latex": [
       "\\begin{tabular}{r|llllll}\n",
       " method & x & n & mean & lower & upper\\\\\n",
       "\\hline\n",
       "\t agresti-coull & 9             & 20            & 0.45          & 0.2580617     & 0.6580508    \\\\\n",
       "\t asymptotic    & 9             & 20            & 0.45          & 0.2319678     & 0.6680322    \\\\\n",
       "\t wilson        & 9             & 20            & 0.45          & 0.2581979     & 0.6579147    \\\\\n",
       "\\end{tabular}\n"
      ],
      "text/markdown": [
       "\n",
       "method | x | n | mean | lower | upper | \n",
       "|---|---|---|\n",
       "| agresti-coull | 9             | 20            | 0.45          | 0.2580617     | 0.6580508     | \n",
       "| asymptotic    | 9             | 20            | 0.45          | 0.2319678     | 0.6680322     | \n",
       "| wilson        | 9             | 20            | 0.45          | 0.2581979     | 0.6579147     | \n",
       "\n",
       "\n"
      ],
      "text/plain": [
       "  method        x n  mean lower     upper    \n",
       "1 agresti-coull 9 20 0.45 0.2580617 0.6580508\n",
       "2 asymptotic    9 20 0.45 0.2319678 0.6680322\n",
       "3 wilson        9 20 0.45 0.2581979 0.6579147"
      ]
     },
     "metadata": {},
     "output_type": "display_data"
    }
   ],
   "source": [
    "install.packages(\"binom\")\n",
    "library(binom)\n",
    "w_a<-9\n",
    "n_a<- 20\n",
    "alpha<-0.05\n",
    "binom.confint(x=w_a,n=n_a,conf.level = 1 - alpha, methods =c(\"asymptotic\",\"wilson\",\"ac\"))"
   ]
  },
  {
   "cell_type": "markdown",
   "metadata": {},
   "source": [
    "*Agretsi-Coull CI*: We are 95% confident that the population proportion of Cheerios that made it into an infant's mouth is between 0.258 and 0.658\n",
    "\n",
    "*Wald CI*: We are 95% confident that the population proportion of Cheerios that made it into an infant's mouth is  between 0.232 and 0.668\n",
    "\n",
    "*Wilson CI*: We are 95% confident that the population proportion of Cheerios that made it into an infant's mouth is between 0.258 and 0.658"
   ]
  },
  {
   "cell_type": "markdown",
   "metadata": {},
   "source": [
    "### 2B. Billiard Games\n",
    "w= 15 ball sunks are observed out of the n=25 consecutive breaks. "
   ]
  },
  {
   "cell_type": "code",
   "execution_count": 8,
   "metadata": {},
   "outputs": [
    {
     "data": {
      "text/html": [
       "<table>\n",
       "<thead><tr><th scope=col>method</th><th scope=col>x</th><th scope=col>n</th><th scope=col>mean</th><th scope=col>lower</th><th scope=col>upper</th></tr></thead>\n",
       "<tbody>\n",
       "\t<tr><td>agresti-coull</td><td>15           </td><td>25           </td><td>0.6          </td><td>0.4069662    </td><td>0.7663953    </td></tr>\n",
       "\t<tr><td>asymptotic   </td><td>15           </td><td>25           </td><td>0.6          </td><td>0.4079635    </td><td>0.7920365    </td></tr>\n",
       "\t<tr><td>wilson       </td><td>15           </td><td>25           </td><td>0.6          </td><td>0.4073946    </td><td>0.7659670    </td></tr>\n",
       "</tbody>\n",
       "</table>\n"
      ],
      "text/latex": [
       "\\begin{tabular}{r|llllll}\n",
       " method & x & n & mean & lower & upper\\\\\n",
       "\\hline\n",
       "\t agresti-coull & 15            & 25            & 0.6           & 0.4069662     & 0.7663953    \\\\\n",
       "\t asymptotic    & 15            & 25            & 0.6           & 0.4079635     & 0.7920365    \\\\\n",
       "\t wilson        & 15            & 25            & 0.6           & 0.4073946     & 0.7659670    \\\\\n",
       "\\end{tabular}\n"
      ],
      "text/markdown": [
       "\n",
       "method | x | n | mean | lower | upper | \n",
       "|---|---|---|\n",
       "| agresti-coull | 15            | 25            | 0.6           | 0.4069662     | 0.7663953     | \n",
       "| asymptotic    | 15            | 25            | 0.6           | 0.4079635     | 0.7920365     | \n",
       "| wilson        | 15            | 25            | 0.6           | 0.4073946     | 0.7659670     | \n",
       "\n",
       "\n"
      ],
      "text/plain": [
       "  method        x  n  mean lower     upper    \n",
       "1 agresti-coull 15 25 0.6  0.4069662 0.7663953\n",
       "2 asymptotic    15 25 0.6  0.4079635 0.7920365\n",
       "3 wilson        15 25 0.6  0.4073946 0.7659670"
      ]
     },
     "metadata": {},
     "output_type": "display_data"
    }
   ],
   "source": [
    "w_b<-15\n",
    "n_b<- 25\n",
    "alpha<-0.05\n",
    "binom.confint(x=w_b,n=n_b,conf.level = 1 - alpha, methods = c(\"asymptotic\",\"wilson\",\"ac\"))"
   ]
  },
  {
   "cell_type": "markdown",
   "metadata": {},
   "source": [
    "*Agretsi-Coull CI*: We are 95% confident that the true (population) proportion of a person's success of sinking a ball on the break is between 0.407 and 0.766\n",
    "\n",
    "*Wald CI*: We are 95% confident that the true (population) proportion of a person's success of sinking a ball on the break is between 0.408 and 0.792\n",
    "\n",
    "*Wilson CI*: We are 95% confident that the true (population) proportion of a person's success of sinking a ball on the break is between 0.407 and 0.766"
   ]
  },
  {
   "cell_type": "markdown",
   "metadata": {},
   "source": [
    "### 2C. Germination Rate."
   ]
  },
  {
   "cell_type": "markdown",
   "metadata": {},
   "source": [
    "w= 48 seeds sprouted out of the n=64 seeds. "
   ]
  },
  {
   "cell_type": "code",
   "execution_count": 9,
   "metadata": {},
   "outputs": [
    {
     "data": {
      "text/html": [
       "<table>\n",
       "<thead><tr><th scope=col>method</th><th scope=col>x</th><th scope=col>n</th><th scope=col>mean</th><th scope=col>lower</th><th scope=col>upper</th></tr></thead>\n",
       "<tbody>\n",
       "\t<tr><td>agresti-coull</td><td>48           </td><td>64           </td><td>0.75         </td><td>0.6309324    </td><td>0.8407556    </td></tr>\n",
       "\t<tr><td>asymptotic   </td><td>48           </td><td>64           </td><td>0.75         </td><td>0.6439138    </td><td>0.8560862    </td></tr>\n",
       "\t<tr><td>wilson       </td><td>48           </td><td>64           </td><td>0.75         </td><td>0.6318372    </td><td>0.8398507    </td></tr>\n",
       "</tbody>\n",
       "</table>\n"
      ],
      "text/latex": [
       "\\begin{tabular}{r|llllll}\n",
       " method & x & n & mean & lower & upper\\\\\n",
       "\\hline\n",
       "\t agresti-coull & 48            & 64            & 0.75          & 0.6309324     & 0.8407556    \\\\\n",
       "\t asymptotic    & 48            & 64            & 0.75          & 0.6439138     & 0.8560862    \\\\\n",
       "\t wilson        & 48            & 64            & 0.75          & 0.6318372     & 0.8398507    \\\\\n",
       "\\end{tabular}\n"
      ],
      "text/markdown": [
       "\n",
       "method | x | n | mean | lower | upper | \n",
       "|---|---|---|\n",
       "| agresti-coull | 48            | 64            | 0.75          | 0.6309324     | 0.8407556     | \n",
       "| asymptotic    | 48            | 64            | 0.75          | 0.6439138     | 0.8560862     | \n",
       "| wilson        | 48            | 64            | 0.75          | 0.6318372     | 0.8398507     | \n",
       "\n",
       "\n"
      ],
      "text/plain": [
       "  method        x  n  mean lower     upper    \n",
       "1 agresti-coull 48 64 0.75 0.6309324 0.8407556\n",
       "2 asymptotic    48 64 0.75 0.6439138 0.8560862\n",
       "3 wilson        48 64 0.75 0.6318372 0.8398507"
      ]
     },
     "metadata": {},
     "output_type": "display_data"
    }
   ],
   "source": [
    "w_c<-48\n",
    "n_c<- 64\n",
    "alpha<-0.05\n",
    "binom.confint(x=w_c,n=n_c,conf.level = 1 - alpha, methods =c(\"asymptotic\",\"wilson\",\"ac\"))"
   ]
  },
  {
   "cell_type": "markdown",
   "metadata": {},
   "source": [
    "*Agretsi-Coull CI*: We are 95% confident that the true (population) proportion of a particular type of sweet corn seeds that will sprout after being planted into soil is between 0.631 and 0.841\n",
    "\n",
    "*Wald CI*: We are 95% confident that the true (population) proportion of of a particular type of sweet corn seeds that will sprout after being planted into the soil is between 0.644 and 0.856\n",
    "\n",
    "*Wilson CI*: We are 95% confident that the true (population) proportion of of a particular type of sweet cornsweet corn seeds that will sprout after being planted into the soil is between 0.632 and 0.840"
   ]
  },
  {
   "cell_type": "markdown",
   "metadata": {},
   "source": [
    "### 2D.  Alternative Fuel Cars."
   ]
  },
  {
   "cell_type": "markdown",
   "metadata": {},
   "source": [
    "w= 14 alternative fuel cars are observed out of n=125 cars that passed through the intersection. "
   ]
  },
  {
   "cell_type": "markdown",
   "metadata": {},
   "source": [
    "This is a Poisson random variable being that the PRV counts the number of given occurences in a given interval.\n",
    "The two maint characteristics of the PVR:\n",
    "\n",
    "1)Rate of occurence is assumed to be the same throughout the interval.\n",
    "\n",
    "2)Occurences are independent of one another. \n",
    "\n",
    "We can still use the normal approximation to compute the CI."
   ]
  },
  {
   "cell_type": "code",
   "execution_count": 3,
   "metadata": {},
   "outputs": [
    {
     "data": {
      "text/html": [
       "<table>\n",
       "<thead><tr><th scope=col>lower</th><th scope=col>upper</th></tr></thead>\n",
       "<tbody>\n",
       "\t<tr><td>6.6665 </td><td>21.3335</td></tr>\n",
       "</tbody>\n",
       "</table>\n"
      ],
      "text/latex": [
       "\\begin{tabular}{r|ll}\n",
       " lower & upper\\\\\n",
       "\\hline\n",
       "\t 6.6665  & 21.3335\\\\\n",
       "\\end{tabular}\n"
      ],
      "text/markdown": [
       "\n",
       "lower | upper | \n",
       "|---|\n",
       "| 6.6665  | 21.3335 | \n",
       "\n",
       "\n"
      ],
      "text/plain": [
       "  lower  upper  \n",
       "1 6.6665 21.3335"
      ]
     },
     "metadata": {},
     "output_type": "display_data"
    }
   ],
   "source": [
    "rate<-14\n",
    "var.poisson<-rate\n",
    "lower<-rate-qnorm(p=1-alpha/2)*sqrt(var.poisson)\n",
    "upper<-rate+qnorm(p=1-alpha/2)*sqrt(var.poisson)\n",
    "round(data.frame(lower,upper),4)"
   ]
  },
  {
   "cell_type": "markdown",
   "metadata": {},
   "source": [
    "I am 95% sure that the true rate per half hour of alternative fuel cars in any random sample of cars that is collected in this location at a similar time of day and day of week is between 6.7 and 21.3 cars per half hour. "
   ]
  }
 ],
 "metadata": {
  "kernelspec": {
   "display_name": "R",
   "language": "R",
   "name": "ir"
  },
  "language_info": {
   "codemirror_mode": "r",
   "file_extension": ".r",
   "mimetype": "text/x-r-source",
   "name": "R",
   "pygments_lexer": "r",
   "version": "3.4.3"
  }
 },
 "nbformat": 4,
 "nbformat_minor": 2
}
