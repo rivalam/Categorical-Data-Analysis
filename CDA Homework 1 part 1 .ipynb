{
 "cells": [
  {
   "cell_type": "markdown",
   "metadata": {},
   "source": [
    "## 1. There are many simple experiments that can be performed to estimate $\\pi$ (the probability of a success) for a particular problem. The parts below discuss some experiments that have tried by various students or faculty in the past. For each part discuss the conditions that are needed in order to satisfy the five assumptions using the binomial model. "
   ]
  },
  {
   "cell_type": "markdown",
   "metadata": {},
   "source": [
    "### 1A. Infants and Cheerios.\n",
    "\n",
    "##### *1. There are n identical trials.* \n",
    "In this case, there are n=20 trials. The trial is always performed the same way: a Cheerio is set on an infant's food tray and if the cheerio made it into the infant's mouth, the response for the trial was considered a failure; otherwise the response was considered a failure. \n",
    "\n",
    "##### *2. There are 2 possible outcomes for each trial.* \n",
    "Each response is either a success (cheerio made it into the infant's mouth) or a failure. \n",
    "\n",
    "##### *3. The trials are independent of each other.*\n",
    "The infant needs to be applying the same technique on each trial because after one failed attempt, they might be adjusting their technique in how they get the Cheerio to their mouth on their next attempt. There should be nothing from the first trial that will carry over and affect the results of the second one, third, etc. \n",
    "\n",
    "##### *4. The probability of success remains constant for each trial.* \n",
    "The experiment is designed such that the experiment is performed the same way each time:a Cheerio is set on an infant's food tray. We will assume that the amount of time the experimenter give the infant to try to get the Cheerio into their mouth is the same across each trial.\n",
    "\n",
    "##### *5. The Binomial random variable X, counts the number of successes.*  \n",
    "What counts as success is the child being able to get the Cheerio in their mouth. To estimate the probability of success, we need to only record  X=0,1,2,3...or 20 possible different number of trials where the infant is able to get the Cheerio in their mouth. We don't care about order, only the outcomes. "
   ]
  },
  {
   "cell_type": "markdown",
   "metadata": {},
   "source": [
    "### 1B. Billiard Games.\n",
    "\n",
    "##### *1. There are n identical trials.* \n",
    "In this case, there are n=25 trials. The trial is always performed the same way: a person trying get at least one ball to sunk, excluding the cue ball, on the break. \n",
    "\n",
    "##### *2. There are 2 possible outcomes for each trial.*\n",
    "Each response is whether or not a break has at least 1 ball sunk. \n",
    "\n",
    "\n",
    "##### *3. The trials are independent of each other.* \n",
    "The breaks should not be measured in a time series such that they are not within a few short amount of time with each other as the results might be similar or the person might feel rushed after one break is over, which affects the next trial. \n",
    "\n",
    "\n",
    "##### *4. The probability of success remains constant for each trial.*\n",
    "The same balls are used each time. We are assuming that fatigue is not affecting the person's probability of sinking a ball on each break and there is a consistent amount of time between each break such that there is not a substantial effect on the person's success.\n",
    "\n",
    "\n",
    "##### *5. The Binomial random variable X, counts the number of successes.* \n",
    "What counts as success is at least one ball being sunk on the break.\n",
    "To estimate the probability of success, we need only to record X=0,1,2....or 25 possible different number of trials where at least one ball sunk,excluding the cue ball. We don't care about order, only the outcomes. "
   ]
  },
  {
   "cell_type": "markdown",
   "metadata": {},
   "source": [
    "### 1C. Germination Rate.\n",
    "\n",
    "##### *1. There are n identical trials.* \n",
    "In this case, there are 64 (type of sweet corn) seeds that were planted in a 3' x 4' plot of land with fertile soil that are examined. \n",
    "\n",
    "##### *2. There are 2 possible outcomes for each trial.* \n",
    "Each response is either a success such that a (type of sweet corn) seed sprouted out of the soil after waiting for three weeks or it did not. \n",
    "\n",
    "##### *3. The trials are independent of each other.*  \n",
    "One's seed ability to sprout shouldn't be impacting another seed's ability to grow, therefore, the conditions for each seed should be monitored. For example, the seeds shouldn't be planted so closely to one another such that they are fighting for resources. \n",
    "\n",
    "##### *4. The probability of success remains constant for each trial.* \n",
    "All planting and care guidelines given on the seed packet were followed as closely as possible and the seeds were planted in a 3' x 4' plot of land with fertile soil. So if possible, each seed should be tacken care of and tended to evenly. However, there are some factors such as one seed not getting enough sunlight or rain compared to another seed, and that should also be addressed. \n",
    "\n",
    "\n",
    "##### *5. The Binomial random variable X, counts the number of successes.* \n",
    "What counts as success is a seed sprouting out from the soil. \n",
    "To estimate the probability of success, we need only to record X=0,1,2....or 64 different possible number of seeds that sprouted out of the soil. We don't care about order, only the outcomes."
   ]
  },
  {
   "cell_type": "markdown",
   "metadata": {},
   "source": [
    "### 1D. Alternative Fuel Cars. \n",
    "\n",
    "##### *1. There are n identical trials.* (Check)\n",
    "For this study, the trials were not fixed ahead of the study/when the study was created. \n",
    "\n",
    "##### *2. There are 2 possible outcomes for each trial.*\n",
    "Each response is a car being recorded as alternative-fuel or not. \n",
    "\n",
    "##### *3. The trials are independent of each other.* (Check)\n",
    "The person is applying the same technique on each trial (judging whether or not a car is alternative fuel). \n",
    "\n",
    "##### *4. The probability of success remains constant for each trial.* (Check)\n",
    "We are assuming that fatigue is not affecting the person's judgement. We need the conditions for one half hour time period to be the same as any other one half hour time and there is nothing special or unique about the intersection or day that favors a certain type of car passing through the intersection.It's also important that the car driving through the intersection belongs to a resident of a town.\n",
    "\n",
    "##### *5. The Binomial random variable X, counts the number of successes.* \n",
    "X is not a binomial random variable, but to estimate the probability of success, we need only to record the number of cars that weren't alternative fuel cars.\n"
   ]
  }
 ],
 "metadata": {
  "kernelspec": {
   "display_name": "R",
   "language": "R",
   "name": "ir"
  },
  "language_info": {
   "codemirror_mode": "r",
   "file_extension": ".r",
   "mimetype": "text/x-r-source",
   "name": "R",
   "pygments_lexer": "r",
   "version": "3.4.3"
  }
 },
 "nbformat": 4,
 "nbformat_minor": 2
}
