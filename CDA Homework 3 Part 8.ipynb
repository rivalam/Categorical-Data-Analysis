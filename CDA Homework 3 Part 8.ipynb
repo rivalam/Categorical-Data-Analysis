{
 "cells": [
  {
   "cell_type": "markdown",
   "metadata": {},
   "source": [
    "#### A research study estimated that under a certain condition, the probability a subject would be referred for heart catheterization was 0.906 for whites and 0.847 for blacks.\n",
    "###### a. A press release about the study stated that the odds of referral for cardiac catheterization for blacks are 60% of the odds for whites. Explain how they obtained 60% (more accurately, 57%).\n",
    "\n",
    "They obtained 60% (more accurately, 57%) by calculating the odds ratio. \n",
    "The odds ratio is the ratio of the odds of a subject being black referred for heart catheterization to the odds of a subject being white referred for heart catheterization. The odds of a subject being black referred is 5.54 , while the odds of a subject being white referred is 9.63 \n",
    "\n",
    "The OR can be calculated as OR = $\\frac{5.54}{9.63} \\approx 60\\%$\n",
    "This  means that the odds of a subject being black referred to heart catheterization is 60%  of the odds of the subject being white referred to heart catheterization."
   ]
  },
  {
   "cell_type": "code",
   "execution_count": 1,
   "metadata": {},
   "outputs": [
    {
     "data": {
      "text/html": [
       "<table>\n",
       "<thead><tr><th></th><th scope=col>Y</th><th scope=col>N</th></tr></thead>\n",
       "<tbody>\n",
       "\t<tr><th scope=row>B</th><td>0.847</td><td>0.153</td></tr>\n",
       "\t<tr><th scope=row>W</th><td>0.906</td><td>0.094</td></tr>\n",
       "</tbody>\n",
       "</table>\n"
      ],
      "text/latex": [
       "\\begin{tabular}{r|ll}\n",
       "  & Y & N\\\\\n",
       "\\hline\n",
       "\tB & 0.847 & 0.153\\\\\n",
       "\tW & 0.906 & 0.094\\\\\n",
       "\\end{tabular}\n"
      ],
      "text/markdown": [
       "\n",
       "| <!--/--> | Y | N | \n",
       "|---|---|\n",
       "| B | 0.847 | 0.153 | \n",
       "| W | 0.906 | 0.094 | \n",
       "\n",
       "\n"
      ],
      "text/plain": [
       "     Heart.Catheterization\n",
       "Group Y     N    \n",
       "    B 0.847 0.153\n",
       "    W 0.906 0.094"
      ]
     },
     "metadata": {},
     "output_type": "display_data"
    },
    {
     "data": {
      "text/html": [
       "0.574369850957307"
      ],
      "text/latex": [
       "0.574369850957307"
      ],
      "text/markdown": [
       "0.574369850957307"
      ],
      "text/plain": [
       "[1] 0.5743699"
      ]
     },
     "metadata": {},
     "output_type": "display_data"
    }
   ],
   "source": [
    "# Creates a 2x2 table \n",
    "b1<-0.847\n",
    "b2<- 1-b1\n",
    "w1<- 0.906\n",
    "w2<-1-w1\n",
    "CTable_8<-array(data=c(b1,w1,b2,w2),dim=c(2,2),\n",
    "dimnames=list(Group=c('B','W'),\n",
    "Heart.Catheterization=c(\"Y\",\"N\")))\n",
    "\n",
    "CTable_8\n",
    "\n",
    "#odds_group_b<-b1/b2;odds_group_b\n",
    "#odds_group_w<-w1/w2;odds_group_w\n",
    "#OR_group_b_w<- odds_group_b/odds_group_w;OR_group_b_w\n",
    "#odds_group_w*OR_group_b_w #odds of referral for heart catherization for whites times the odds ratio \n",
    "\n",
    "# Another way of calculating Odds Ratio \n",
    "OR.hat1<-CTable_8[1,1]*CTable_8[2,2] / (CTable_8[2,1]*CTable_8[1,2])\n",
    "OR.hat1"
   ]
  },
  {
   "cell_type": "markdown",
   "metadata": {},
   "source": [
    "###### b. An Associated Press story that described the study stated “Doctors were only 60% as likely to order cardiac catheterization for blacks as for whites.”What is wrong with this interpretation? Give the correct percentage for this interpretation. (In stating results to the general public, it is better to use the relative risk than the odds ratio. It is simpler to understand and less likely to be misinterpreted. For details, see New Engl. J. Med., 341: 279–283, 1999.)\n",
    "\n",
    "This intepretation is  mixing up the value for the odds ratio with probabilty. Probability is associated with relative risk, more accurately, the ratio of two probabilities, while the odds ratio deal with the ratio of two odds. The relative risk is approximately 0.93. Doctors were only 93% likely to order cardiac catheterization for blacks as for whites.\n"
   ]
  },
  {
   "cell_type": "code",
   "execution_count": 2,
   "metadata": {},
   "outputs": [
    {
     "data": {
      "text/html": [
       "0.934878587196468"
      ],
      "text/latex": [
       "0.934878587196468"
      ],
      "text/markdown": [
       "0.934878587196468"
      ],
      "text/plain": [
       "[1] 0.9348786"
      ]
     },
     "metadata": {},
     "output_type": "display_data"
    }
   ],
   "source": [
    "relative.risk<-b1/w1; relative.risk"
   ]
  }
 ],
 "metadata": {
  "kernelspec": {
   "display_name": "R",
   "language": "R",
   "name": "ir"
  },
  "language_info": {
   "codemirror_mode": "r",
   "file_extension": ".r",
   "mimetype": "text/x-r-source",
   "name": "R",
   "pygments_lexer": "r",
   "version": "3.4.3"
  }
 },
 "nbformat": 4,
 "nbformat_minor": 2
}
