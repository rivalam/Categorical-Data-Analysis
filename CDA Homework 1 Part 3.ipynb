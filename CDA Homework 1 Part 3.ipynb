{
 "cells": [
  {
   "cell_type": "markdown",
   "metadata": {},
   "source": [
    "## 3. A coin is flipped twice. Let Y= number of heads obtained when the probability of a head on any toss is $\\pi$ (ICDA 1.4)"
   ]
  },
  {
   "cell_type": "markdown",
   "metadata": {},
   "source": [
    "### A. Assume $\\pi$ = 0.5, specify the probabilities for the possible values Y can take, and find the distribution's mean and standard deviation."
   ]
  },
  {
   "cell_type": "markdown",
   "metadata": {},
   "source": [
    "There are possible outcomes for each trial: heads or tails. The outcome of one coin flip does not influence the outcome of another and the probability of success is the same for each trial which is 0.50 These trials are called \n",
    "Bernoulli trials. \n",
    "\n",
    "$\\pi$ is the probability of success (getting a head) for a given trial. \n",
    "\n",
    "The possible values Y can take: 0,1,2.\n",
    "\n",
    "The binomial distribution for n trials with parameter $\\pi$ has mean and standard deviation:\n",
    "             E(Y)= $\\mu$=n$\\pi$, $\\sigma$= $\\sqrt{n\\pi(1-\\pi)}$"
   ]
  },
  {
   "cell_type": "code",
   "execution_count": 2,
   "metadata": {},
   "outputs": [
    {
     "data": {
      "text/html": [
       "0.25"
      ],
      "text/latex": [
       "0.25"
      ],
      "text/markdown": [
       "0.25"
      ],
      "text/plain": [
       "[1] 0.25"
      ]
     },
     "metadata": {},
     "output_type": "display_data"
    },
    {
     "data": {
      "text/html": [
       "0.5"
      ],
      "text/latex": [
       "0.5"
      ],
      "text/markdown": [
       "0.5"
      ],
      "text/plain": [
       "[1] 0.5"
      ]
     },
     "metadata": {},
     "output_type": "display_data"
    },
    {
     "data": {
      "text/html": [
       "0.25"
      ],
      "text/latex": [
       "0.25"
      ],
      "text/markdown": [
       "0.25"
      ],
      "text/plain": [
       "[1] 0.25"
      ]
     },
     "metadata": {},
     "output_type": "display_data"
    }
   ],
   "source": [
    "dbinom(x=0,size=2,prob=0.5)\n",
    "dbinom(x=1,size=2,prob=0.5)\n",
    "dbinom(x=2,size=2,prob=0.5)"
   ]
  },
  {
   "cell_type": "markdown",
   "metadata": {},
   "source": [
    "The probability of y=0 head(s), given $\\pi$ = 0.5 and n=2, equals 0.25 \n",
    "\n",
    "The probability of y=1 head(s), given $\\pi$ = 0.5 and n=2, equals 0.50\n",
    "\n",
    "The probability of y=2 head(s), given $\\pi$ = 0.5 and n=2, equals 0.25"
   ]
  },
  {
   "cell_type": "code",
   "execution_count": 2,
   "metadata": {},
   "outputs": [
    {
     "data": {
      "text/html": [
       "1"
      ],
      "text/latex": [
       "1"
      ],
      "text/markdown": [
       "1"
      ],
      "text/plain": [
       "[1] 1"
      ]
     },
     "metadata": {},
     "output_type": "display_data"
    },
    {
     "data": {
      "text/html": [
       "0.707106781186548"
      ],
      "text/latex": [
       "0.707106781186548"
      ],
      "text/markdown": [
       "0.707106781186548"
      ],
      "text/plain": [
       "[1] 0.7071068"
      ]
     },
     "metadata": {},
     "output_type": "display_data"
    }
   ],
   "source": [
    "mean<-function(n,parameter){n*parameter}\n",
    "\n",
    "standard_deviation<-function(mean,parameter){(mean*(1-parameter))**(0.5)}\n",
    "\n",
    "mean(2,0.5)\n",
    "standard_deviation(1,0.5)"
   ]
  },
  {
   "cell_type": "markdown",
   "metadata": {},
   "source": [
    "The binomial distribution for n=2 trials with parameter $\\pi$=0.5 has mean E(Y) = 1\n",
    "\n",
    "This means that if one flips a coin n=2 times, one would expect to get heads 1 time.\n",
    "\n",
    "The binomial distribution for n=2 trials with parameter $\\pi$=0.5 has $\\sigma$= 0.71\n",
    "On average, the number of heads will deviate 0.71 from the mean (which is 1)."
   ]
  },
  {
   "cell_type": "markdown",
   "metadata": {},
   "source": [
    "### B. Repeat part A for (i) $\\pi$=0.60 and (ii) $\\pi$=0.40"
   ]
  },
  {
   "cell_type": "code",
   "execution_count": 3,
   "metadata": {},
   "outputs": [
    {
     "data": {
      "text/html": [
       "0.16"
      ],
      "text/latex": [
       "0.16"
      ],
      "text/markdown": [
       "0.16"
      ],
      "text/plain": [
       "[1] 0.16"
      ]
     },
     "metadata": {},
     "output_type": "display_data"
    },
    {
     "data": {
      "text/html": [
       "0.48"
      ],
      "text/latex": [
       "0.48"
      ],
      "text/markdown": [
       "0.48"
      ],
      "text/plain": [
       "[1] 0.48"
      ]
     },
     "metadata": {},
     "output_type": "display_data"
    },
    {
     "data": {
      "text/html": [
       "0.36"
      ],
      "text/latex": [
       "0.36"
      ],
      "text/markdown": [
       "0.36"
      ],
      "text/plain": [
       "[1] 0.36"
      ]
     },
     "metadata": {},
     "output_type": "display_data"
    },
    {
     "data": {
      "text/html": [
       "1.2"
      ],
      "text/latex": [
       "1.2"
      ],
      "text/markdown": [
       "1.2"
      ],
      "text/plain": [
       "[1] 1.2"
      ]
     },
     "metadata": {},
     "output_type": "display_data"
    },
    {
     "data": {
      "text/html": [
       "0.692820323027551"
      ],
      "text/latex": [
       "0.692820323027551"
      ],
      "text/markdown": [
       "0.692820323027551"
      ],
      "text/plain": [
       "[1] 0.6928203"
      ]
     },
     "metadata": {},
     "output_type": "display_data"
    }
   ],
   "source": [
    "# for $\\pi$=0.60\n",
    "dbinom(x=0,size=2,prob=0.6)\n",
    "dbinom(x=1,size=2,prob=0.6)\n",
    "dbinom(x=2,size=2,prob=0.6)\n",
    "\n",
    "mean(2,0.6)\n",
    "standard_deviation(1.2,0.6)"
   ]
  },
  {
   "cell_type": "markdown",
   "metadata": {},
   "source": [
    "The probability of y=0 head(s), given $\\pi$ = 0.6 and n=2, equals 0.16\n",
    "\n",
    "The probability of y=1 head(s), given $\\pi$ = 0.6 and n=2, equals 0.48\n",
    "\n",
    "The probability of y=2 head(s), given $\\pi$ = 0.6 and n=2, equals 0.36\n",
    "\n",
    "The binomial distribution for n=2 trials with parameter $\\pi$=0.6 has mean E(Y) = 1.2\n",
    "\n",
    "This means that if one flips a coin n=2 times, one would expect to get heads 1.2 times.\n",
    "\n",
    "The binomial distribution for n=2 trials with parameter $\\pi$=0.6 has $\\sigma$= 0.69\n",
    "On average, the number of heads will deviate 0.69 from the mean (which is 1.2)."
   ]
  },
  {
   "cell_type": "code",
   "execution_count": 4,
   "metadata": {},
   "outputs": [
    {
     "data": {
      "text/html": [
       "0.36"
      ],
      "text/latex": [
       "0.36"
      ],
      "text/markdown": [
       "0.36"
      ],
      "text/plain": [
       "[1] 0.36"
      ]
     },
     "metadata": {},
     "output_type": "display_data"
    },
    {
     "data": {
      "text/html": [
       "0.48"
      ],
      "text/latex": [
       "0.48"
      ],
      "text/markdown": [
       "0.48"
      ],
      "text/plain": [
       "[1] 0.48"
      ]
     },
     "metadata": {},
     "output_type": "display_data"
    },
    {
     "data": {
      "text/html": [
       "0.16"
      ],
      "text/latex": [
       "0.16"
      ],
      "text/markdown": [
       "0.16"
      ],
      "text/plain": [
       "[1] 0.16"
      ]
     },
     "metadata": {},
     "output_type": "display_data"
    },
    {
     "data": {
      "text/html": [
       "0.8"
      ],
      "text/latex": [
       "0.8"
      ],
      "text/markdown": [
       "0.8"
      ],
      "text/plain": [
       "[1] 0.8"
      ]
     },
     "metadata": {},
     "output_type": "display_data"
    },
    {
     "data": {
      "text/html": [
       "0.692820323027551"
      ],
      "text/latex": [
       "0.692820323027551"
      ],
      "text/markdown": [
       "0.692820323027551"
      ],
      "text/plain": [
       "[1] 0.6928203"
      ]
     },
     "metadata": {},
     "output_type": "display_data"
    }
   ],
   "source": [
    "# for $\\pi$=0.40\n",
    "dbinom(x=0,size=2,prob=0.4)\n",
    "dbinom(x=1,size=2,prob=0.4)\n",
    "dbinom(x=2,size=2,prob=0.4)\n",
    "mean(2,0.4)\n",
    "standard_deviation(0.8,0.4)"
   ]
  },
  {
   "cell_type": "markdown",
   "metadata": {},
   "source": [
    "The probability of y=0 head(s), given $\\pi$ = 0.4 and n=2, equals 0.36\n",
    "\n",
    "The probability of y=1 head(s), given $\\pi$ = 0.4 and n=2, equals 0.48\n",
    "\n",
    "The probability of y=2 head(s), given $\\pi$ = 0.4 and n=2, equals 0.16\n",
    "\n",
    "The binomial distribution for n=2 trials with parameter $\\pi$=0.5 has mean E(Y) = 0.8\n",
    "\n",
    "This means that if one flips a coin n=2 times, one would expect to get heads 0.8 time.\n",
    "\n",
    "The binomial distribution for n=2 trials with parameter $\\pi$=0.4 has $\\sigma$= 0.69\n",
    "On average, the number of heads will deviate 0.69 from the mean (which is 0.8)."
   ]
  },
  {
   "cell_type": "markdown",
   "metadata": {},
   "source": [
    "### C. Suppose you observe y the data point y =1 and do not know $\\pi$. Calculate and sketch the likelihood function. "
   ]
  },
  {
   "cell_type": "markdown",
   "metadata": {},
   "source": [
    "With y = 1 success and n=2 trials, the bionomial likelihood function is l($\\pi$) = $\\pi$(1-$\\pi$)"
   ]
  },
  {
   "cell_type": "markdown",
   "metadata": {},
   "source": [
    "*Calculations*\n",
    "\n",
    "$l(\\pi)=\\frac{n!}{y!(n-y)!}\\pi^{y}(1-\\pi)^{n-y}$\n",
    "\n",
    "$l(\\pi)=\\pi^{1}(1-\\pi)^{2-1}$\n",
    "\n",
    "$l(\\pi)=\\pi(1-\\pi)$\n"
   ]
  },
  {
   "cell_type": "markdown",
   "metadata": {},
   "source": [
    "The bionomial likelihood function is l($\\pi$) = 2$\\pi$(1-$\\pi$) but we can drop the 2 because the constant will only stretch the curve and the location for the MLE will still be the same. The constant does not matter when you take the derivative for the MLE. "
   ]
  },
  {
   "cell_type": "markdown",
   "metadata": {},
   "source": [
    "### D. Using your plot from C, show that the ML estimate of $\\pi$ is 0.50"
   ]
  },
  {
   "cell_type": "markdown",
   "metadata": {},
   "source": [
    "The MLE is the parameter value for which the likelihood function takes its greatest value. We can see from the plot that the likelihood fuction $l(\\pi)=\\pi(1-\\pi)$ has its maximum at $\\pi$=0.50 such that $l(0.50)=0.50$ "
   ]
  },
  {
   "cell_type": "code",
   "execution_count": 39,
   "metadata": {},
   "outputs": [
    {
     "data": {
      "text/html": [
       "<ol class=list-inline>\n",
       "\t<li>0</li>\n",
       "\t<li>0.19</li>\n",
       "\t<li>0.36</li>\n",
       "\t<li>0.51</li>\n",
       "\t<li>0.64</li>\n",
       "\t<li>0.75</li>\n",
       "\t<li>0.84</li>\n",
       "\t<li>0.91</li>\n",
       "\t<li>0.96</li>\n",
       "\t<li>0.99</li>\n",
       "\t<li>1</li>\n",
       "\t<li>0.99</li>\n",
       "\t<li>0.96</li>\n",
       "\t<li>0.91</li>\n",
       "\t<li>0.84</li>\n",
       "\t<li>0.75</li>\n",
       "\t<li>0.64</li>\n",
       "\t<li>0.51</li>\n",
       "\t<li>0.36</li>\n",
       "\t<li>0.19</li>\n",
       "\t<li>0</li>\n",
       "</ol>\n"
      ],
      "text/latex": [
       "\\begin{enumerate*}\n",
       "\\item 0\n",
       "\\item 0.19\n",
       "\\item 0.36\n",
       "\\item 0.51\n",
       "\\item 0.64\n",
       "\\item 0.75\n",
       "\\item 0.84\n",
       "\\item 0.91\n",
       "\\item 0.96\n",
       "\\item 0.99\n",
       "\\item 1\n",
       "\\item 0.99\n",
       "\\item 0.96\n",
       "\\item 0.91\n",
       "\\item 0.84\n",
       "\\item 0.75\n",
       "\\item 0.64\n",
       "\\item 0.51\n",
       "\\item 0.36\n",
       "\\item 0.19\n",
       "\\item 0\n",
       "\\end{enumerate*}\n"
      ],
      "text/markdown": [
       "1. 0\n",
       "2. 0.19\n",
       "3. 0.36\n",
       "4. 0.51\n",
       "5. 0.64\n",
       "6. 0.75\n",
       "7. 0.84\n",
       "8. 0.91\n",
       "9. 0.96\n",
       "10. 0.99\n",
       "11. 1\n",
       "12. 0.99\n",
       "13. 0.96\n",
       "14. 0.91\n",
       "15. 0.84\n",
       "16. 0.75\n",
       "17. 0.64\n",
       "18. 0.51\n",
       "19. 0.36\n",
       "20. 0.19\n",
       "21. 0\n",
       "\n",
       "\n"
      ],
      "text/plain": [
       " [1] 0.00 0.19 0.36 0.51 0.64 0.75 0.84 0.91 0.96 0.99 1.00 0.99 0.96 0.91 0.84\n",
       "[16] 0.75 0.64 0.51 0.36 0.19 0.00"
      ]
     },
     "metadata": {},
     "output_type": "display_data"
    },
    {
     "data": {
      "text/html": [
       "0.5"
      ],
      "text/latex": [
       "0.5"
      ],
      "text/markdown": [
       "0.5"
      ],
      "text/plain": [
       "[1] 0.5"
      ]
     },
     "metadata": {},
     "output_type": "display_data"
    },
    {
     "data": {
      "text/html": [
       "<table>\n",
       "<thead><tr><th></th><th scope=col>pi</th><th scope=col>lik</th></tr></thead>\n",
       "<tbody>\n",
       "\t<tr><th scope=row>11</th><td>0.5</td><td>1  </td></tr>\n",
       "</tbody>\n",
       "</table>\n"
      ],
      "text/latex": [
       "\\begin{tabular}{r|ll}\n",
       "  & pi & lik\\\\\n",
       "\\hline\n",
       "\t11 & 0.5 & 1  \\\\\n",
       "\\end{tabular}\n"
      ],
      "text/markdown": [
       "\n",
       "| <!--/--> | pi | lik | \n",
       "|---|\n",
       "| 11 | 0.5 | 1   | \n",
       "\n",
       "\n"
      ],
      "text/plain": [
       "   pi  lik\n",
       "11 0.5 1  "
      ]
     },
     "metadata": {},
     "output_type": "display_data"
    },
    {
     "data": {
      "image/png": "[encoded data removed]",
      "text/plain": [
       "plot without title"
      ]
     },
     "metadata": {},
     "output_type": "display_data"
    }
   ],
   "source": [
    "#par function: combine multiple graphs into 1 overall graph \n",
    "par(mfrow=c(1,1))\n",
    "pi=seq(0,1,by=.05) #values used on horizontal scale (parameter)\n",
    "lik=(1-pi)*pi #likelihood function\n",
    "top=max(lik) #maximum value is 0.25\n",
    "lik=lik/top #This rescales the vertical axis so maximum is 1.\n",
    "lik\n",
    "plot(pi, lik, xlab=\"pi\", ylab=\"Likelihood\", type=\"l\") #graphs likelihood function\n",
    "abline(v=1/4) #find max(lik) from calculus\n",
    "abline(h=1.0)\n",
    "\n",
    "#find approximate max(lik) in R\n",
    "newx <- pi[which(lik > 0.999)]\n",
    "newx\n",
    "\n",
    "#also try\n",
    "all <- data.frame(pi, lik)\n",
    "atMax <- max(all$lik) == all$lik \n",
    "all[ atMax, ]\n",
    "\n",
    "# note that the data are discrete, if 0.50 is not one of the values of pi,\n",
    "# we can't observe a value of exactly 0.50 for the maximum.\n"
   ]
  },
  {
   "cell_type": "code",
   "execution_count": 53,
   "metadata": {},
   "outputs": [
    {
     "data": {
      "text/html": [
       "-1.38669444114123"
      ],
      "text/latex": [
       "-1.38669444114123"
      ],
      "text/markdown": [
       "-1.38669444114123"
      ],
      "text/plain": [
       "[1] -1.386694"
      ]
     },
     "metadata": {},
     "output_type": "display_data"
    },
    {
     "data": {
      "text/html": [
       "<ol class=list-inline>\n",
       "\t<li>0.47</li>\n",
       "\t<li>0.49</li>\n",
       "\t<li>0.51</li>\n",
       "\t<li>0.53</li>\n",
       "</ol>\n"
      ],
      "text/latex": [
       "\\begin{enumerate*}\n",
       "\\item 0.47\n",
       "\\item 0.49\n",
       "\\item 0.51\n",
       "\\item 0.53\n",
       "\\end{enumerate*}\n"
      ],
      "text/markdown": [
       "1. 0.47\n",
       "2. 0.49\n",
       "3. 0.51\n",
       "4. 0.53\n",
       "\n",
       "\n"
      ],
      "text/plain": [
       "[1] 0.47 0.49 0.51 0.53"
      ]
     },
     "metadata": {},
     "output_type": "display_data"
    },
    {
     "data": {
      "image/png": "[encoded data removed]",
      "text/plain": [
       "plot without title"
      ]
     },
     "metadata": {},
     "output_type": "display_data"
    }
   ],
   "source": [
    "# The log[likelihood] maximizes at the same value of pi as the likelihood \n",
    "# Here log[L(pi|x)]= ln(pi)+ ln(1-pi)\n",
    "# Note that the log function in R uses base e\n",
    "pi= seq(0.01,0.99, length=50) # because ln(0) is infinity\n",
    "lnlik=log(pi) + log(1-pi)\n",
    "topl=max(lnlik)\n",
    "topl\n",
    "plot(pi, lnlik, xlab=\"pi\", ylab=\"Log[Likelihood]\", type=\"l\")\n",
    "abline(v=1/4)\n",
    "abline(h=topl)\n",
    "\n",
    "# find approximate max(lik) in R\n",
    "newx2 <- pi[which(lnlik > -1.39)]\n",
    "newx2\n",
    "# The log[likelihood] is more ueful when using calculus to find the maximum"
   ]
  }
 ],
 "metadata": {
  "kernelspec": {
   "display_name": "R",
   "language": "R",
   "name": "ir"
  },
  "language_info": {
   "codemirror_mode": "r",
   "file_extension": ".r",
   "mimetype": "text/x-r-source",
   "name": "R",
   "pygments_lexer": "r",
   "version": "3.4.3"
  }
 },
 "nbformat": 4,
 "nbformat_minor": 2
}
