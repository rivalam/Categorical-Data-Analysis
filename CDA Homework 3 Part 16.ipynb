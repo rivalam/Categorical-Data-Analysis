{
 "cells": [
  {
   "cell_type": "markdown",
   "metadata": {},
   "source": [
    "#### Table 2.12 comes from one of the first studies of the link between lung cancer and smoking, by Richard Doll and A. Bradford Hill. In 20 hospitals in London, UK, patients admitted with lung cancer in the previous year were queried about their smoking behavior. For each patient admitted, researchers studied the smoking behavior of a noncancer control patient at the same hospital of the same sex and within the same 5-year grouping on age.A smoker was defined as a person who had smoked at least one cigarette a day for at least a year.\n",
    "\n",
    "###### a. Identify the response variable and the explanatory variable.\n",
    "\n",
    "Response variable: Lung Cancer (Cases/Controls)\n",
    "\n",
    "Explanatory variable: Have Smoked (Y/N)"
   ]
  },
  {
   "cell_type": "code",
   "execution_count": 1,
   "metadata": {},
   "outputs": [
    {
     "data": {
      "text/html": [
       "<table>\n",
       "<thead><tr><th></th><th scope=col>Cases</th><th scope=col>Controls</th></tr></thead>\n",
       "<tbody>\n",
       "\t<tr><th scope=row>Y</th><td>688</td><td>650</td></tr>\n",
       "\t<tr><th scope=row>N</th><td> 21</td><td> 59</td></tr>\n",
       "</tbody>\n",
       "</table>\n"
      ],
      "text/latex": [
       "\\begin{tabular}{r|ll}\n",
       "  & Cases & Controls\\\\\n",
       "\\hline\n",
       "\tY & 688 & 650\\\\\n",
       "\tN &  21 &  59\\\\\n",
       "\\end{tabular}\n"
      ],
      "text/markdown": [
       "\n",
       "| <!--/--> | Cases | Controls | \n",
       "|---|---|\n",
       "| Y | 688 | 650 | \n",
       "| N |  21 |  59 | \n",
       "\n",
       "\n"
      ],
      "text/plain": [
       "           Lung.Cancer\n",
       "Have.Smoked Cases Controls\n",
       "          Y 688   650     \n",
       "          N  21    59     "
      ]
     },
     "metadata": {},
     "output_type": "display_data"
    },
    {
     "data": {
      "text/html": [
       "<table>\n",
       "<thead><tr><th></th><th scope=col>Cases</th><th scope=col>Controls</th></tr></thead>\n",
       "<tbody>\n",
       "\t<tr><th scope=row>Y</th><td>0.5142003</td><td>0.4857997</td></tr>\n",
       "\t<tr><th scope=row>N</th><td>0.2625000</td><td>0.7375000</td></tr>\n",
       "</tbody>\n",
       "</table>\n"
      ],
      "text/latex": [
       "\\begin{tabular}{r|ll}\n",
       "  & Cases & Controls\\\\\n",
       "\\hline\n",
       "\tY & 0.5142003 & 0.4857997\\\\\n",
       "\tN & 0.2625000 & 0.7375000\\\\\n",
       "\\end{tabular}\n"
      ],
      "text/markdown": [
       "\n",
       "| <!--/--> | Cases | Controls | \n",
       "|---|---|\n",
       "| Y | 0.5142003 | 0.4857997 | \n",
       "| N | 0.2625000 | 0.7375000 | \n",
       "\n",
       "\n"
      ],
      "text/plain": [
       "           Lung.Cancer\n",
       "Have.Smoked Cases     Controls \n",
       "          Y 0.5142003 0.4857997\n",
       "          N 0.2625000 0.7375000"
      ]
     },
     "metadata": {},
     "output_type": "display_data"
    }
   ],
   "source": [
    "# 2x2 table\n",
    "b1<-688 #aspirin yes\n",
    "b2<- 650 #aspirin no \n",
    "w1<- 21\n",
    "w2<-59\n",
    "CTable_16<-array(data=c(b1,w1,b2,w2),dim=c(2,2),\n",
    "dimnames=list(Have.Smoked=c('Y','N'),\n",
    "Lung.Cancer=c(\"Cases\",\"Controls\")))\n",
    "CTable_16\n",
    "\n",
    "# 2x2 table (probability)\n",
    "pi.hat.table.16<-CTable_16/rowSums(CTable_16)\n",
    "pi.hat.table.16"
   ]
  },
  {
   "cell_type": "markdown",
   "metadata": {},
   "source": [
    "###### b. Identify the type of study this was.\n",
    "\n",
    "This type of study is a  case control study because the researchers started with subjects who already have the disease - so this would not be a cohort study. It is not a cross sectional study either as it is one of many first studies and the data is collected more than once. \n",
    "\n",
    "###### c. Can you use these data to compare smokers with nonsmokers in terms of the proportion who suffered lung cancer? Why or why not?\n",
    "I can not use this data to compare smokers with nonsmokers in terms of the proportion who suffered lung cancer because this is a case control study and using relative risk only makes sense when you defined your groups based on the exposure. We were given a study where researchers started with subjects who already have the disease and there was matching involved where a random sample was drawn from a group that has the disease and another random sample from a group that does not have it (control).\n",
    "\n",
    "###### d. Summarize the association, and explain how to interpret it.\n",
    "The principal summary statistic to use for case control study is the odds ratio. \n",
    "\n",
    "Odds Ratio Interpretation: The odds of a smoker who suffered lung cancer is 2.97 times larger than the odds of a non-smoker. "
   ]
  },
  {
   "cell_type": "code",
   "execution_count": 3,
   "metadata": {},
   "outputs": [
    {
     "data": {
      "text/html": [
       "2.97"
      ],
      "text/latex": [
       "2.97"
      ],
      "text/markdown": [
       "2.97"
      ],
      "text/plain": [
       "[1] 2.97"
      ]
     },
     "metadata": {},
     "output_type": "display_data"
    },
    {
     "data": {
      "text/html": [
       "0.34"
      ],
      "text/latex": [
       "0.34"
      ],
      "text/markdown": [
       "0.34"
      ],
      "text/plain": [
       "[1] 0.34"
      ]
     },
     "metadata": {},
     "output_type": "display_data"
    }
   ],
   "source": [
    "OR.hat16<-CTable_16[1,1]*CTable_16[2,2] / (CTable_16[2,1]*CTable_16[1,2])\n",
    "round(OR.hat16,2)\n",
    "round(1/OR.hat16,2)"
   ]
  }
 ],
 "metadata": {
  "kernelspec": {
   "display_name": "R",
   "language": "R",
   "name": "ir"
  },
  "language_info": {
   "codemirror_mode": "r",
   "file_extension": ".r",
   "mimetype": "text/x-r-source",
   "name": "R",
   "pygments_lexer": "r",
   "version": "3.4.3"
  }
 },
 "nbformat": 4,
 "nbformat_minor": 2
}
