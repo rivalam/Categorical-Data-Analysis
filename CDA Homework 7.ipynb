{
 "cells": [
  {
   "cell_type": "markdown",
   "metadata": {},
   "source": [
    "\n",
    "Agresti: Ch 3 # 13,14,15\n",
    "\n",
    "### 13. Access the horseshoe crab data of Table 3.2 at www.stat.ufl.edu/∼aa/intro-cda/appendix.html.\n",
    "\n",
    "a. Using x = weight and Y = number of satellites, fit a Poisson loglinear model. Report the prediction equation.\n",
    "\n",
    "logμˆ = ˆα + βxˆ =  -0.4284+0.0006x     (g)\n",
    "\n",
    "logμˆ = ˆα + βxˆ =  -0.4284+0.59x     (kg)\n"
   ]
  },
  {
   "cell_type": "code",
   "execution_count": 1,
   "metadata": {},
   "outputs": [
    {
     "name": "stderr",
     "output_type": "stream",
     "text": [
      "\n",
      "Attaching package: ‘dplyr’\n",
      "\n",
      "The following objects are masked from ‘package:stats’:\n",
      "\n",
      "    filter, lag\n",
      "\n",
      "The following objects are masked from ‘package:base’:\n",
      "\n",
      "    intersect, setdiff, setequal, union\n",
      "\n"
     ]
    },
    {
     "data": {
      "text/html": [
       "<ol class=list-inline>\n",
       "\t<li>'color'</li>\n",
       "\t<li>'spine'</li>\n",
       "\t<li>'width'</li>\n",
       "\t<li>'satellites'</li>\n",
       "\t<li>'weight'</li>\n",
       "\t<li>'Y'</li>\n",
       "</ol>\n"
      ],
      "text/latex": [
       "\\begin{enumerate*}\n",
       "\\item 'color'\n",
       "\\item 'spine'\n",
       "\\item 'width'\n",
       "\\item 'satellites'\n",
       "\\item 'weight'\n",
       "\\item 'Y'\n",
       "\\end{enumerate*}\n"
      ],
      "text/markdown": [
       "1. 'color'\n",
       "2. 'spine'\n",
       "3. 'width'\n",
       "4. 'satellites'\n",
       "5. 'weight'\n",
       "6. 'Y'\n",
       "\n",
       "\n"
      ],
      "text/plain": [
       "[1] \"color\"      \"spine\"      \"width\"      \"satellites\" \"weight\"    \n",
       "[6] \"Y\"         "
      ]
     },
     "metadata": {},
     "output_type": "display_data"
    },
    {
     "data": {
      "text/html": [
       "<table>\n",
       "<thead><tr><th scope=col>color</th><th scope=col>spine</th><th scope=col>width</th><th scope=col>satellites</th><th scope=col>weight</th><th scope=col>Y</th></tr></thead>\n",
       "<tbody>\n",
       "\t<tr><td>3   </td><td>3   </td><td>28.3</td><td>8   </td><td>3.05</td><td>1   </td></tr>\n",
       "\t<tr><td>4   </td><td>3   </td><td>22.5</td><td>0   </td><td>1.55</td><td>0   </td></tr>\n",
       "\t<tr><td>2   </td><td>1   </td><td>26.0</td><td>9   </td><td>2.30</td><td>1   </td></tr>\n",
       "\t<tr><td>4   </td><td>3   </td><td>24.8</td><td>0   </td><td>2.10</td><td>0   </td></tr>\n",
       "\t<tr><td>4   </td><td>3   </td><td>26.0</td><td>4   </td><td>2.60</td><td>1   </td></tr>\n",
       "\t<tr><td>3   </td><td>3   </td><td>23.8</td><td>0   </td><td>2.10</td><td>0   </td></tr>\n",
       "</tbody>\n",
       "</table>\n"
      ],
      "text/latex": [
       "\\begin{tabular}{r|llllll}\n",
       " color & spine & width & satellites & weight & Y\\\\\n",
       "\\hline\n",
       "\t 3    & 3    & 28.3 & 8    & 3.05 & 1   \\\\\n",
       "\t 4    & 3    & 22.5 & 0    & 1.55 & 0   \\\\\n",
       "\t 2    & 1    & 26.0 & 9    & 2.30 & 1   \\\\\n",
       "\t 4    & 3    & 24.8 & 0    & 2.10 & 0   \\\\\n",
       "\t 4    & 3    & 26.0 & 4    & 2.60 & 1   \\\\\n",
       "\t 3    & 3    & 23.8 & 0    & 2.10 & 0   \\\\\n",
       "\\end{tabular}\n"
      ],
      "text/markdown": [
       "\n",
       "color | spine | width | satellites | weight | Y | \n",
       "|---|---|---|---|---|---|\n",
       "| 3    | 3    | 28.3 | 8    | 3.05 | 1    | \n",
       "| 4    | 3    | 22.5 | 0    | 1.55 | 0    | \n",
       "| 2    | 1    | 26.0 | 9    | 2.30 | 1    | \n",
       "| 4    | 3    | 24.8 | 0    | 2.10 | 0    | \n",
       "| 4    | 3    | 26.0 | 4    | 2.60 | 1    | \n",
       "| 3    | 3    | 23.8 | 0    | 2.10 | 0    | \n",
       "\n",
       "\n"
      ],
      "text/plain": [
       "  color spine width satellites weight Y\n",
       "1 3     3     28.3  8          3.05   1\n",
       "2 4     3     22.5  0          1.55   0\n",
       "3 2     1     26.0  9          2.30   1\n",
       "4 4     3     24.8  0          2.10   0\n",
       "5 4     3     26.0  4          2.60   1\n",
       "6 3     3     23.8  0          2.10   0"
      ]
     },
     "metadata": {},
     "output_type": "display_data"
    },
    {
     "data": {
      "text/plain": [
       "\n",
       "Call:\n",
       "glm(formula = satellites ~ weight, family = poisson(link = \"log\"), \n",
       "    data = HorseshoeCrab)\n",
       "\n",
       "Deviance Residuals: \n",
       "    Min       1Q   Median       3Q      Max  \n",
       "-2.9307  -1.9981  -0.5627   0.9298   4.9992  \n",
       "\n",
       "Coefficients:\n",
       "            Estimate Std. Error z value Pr(>|z|)    \n",
       "(Intercept) -0.42841    0.17893  -2.394   0.0167 *  \n",
       "weight       0.58930    0.06502   9.064   <2e-16 ***\n",
       "---\n",
       "Signif. codes:  0 ‘***’ 0.001 ‘**’ 0.01 ‘*’ 0.05 ‘.’ 0.1 ‘ ’ 1\n",
       "\n",
       "(Dispersion parameter for poisson family taken to be 1)\n",
       "\n",
       "    Null deviance: 632.79  on 172  degrees of freedom\n",
       "Residual deviance: 560.87  on 171  degrees of freedom\n",
       "AIC: 920.16\n",
       "\n",
       "Number of Fisher Scoring iterations: 5\n"
      ]
     },
     "metadata": {},
     "output_type": "display_data"
    }
   ],
   "source": [
    "library(dplyr)\n",
    "HorseshoeCrab<-read.csv(\"HorseshoeCrab.csv\")\n",
    "colnames(HorseshoeCrab)\n",
    "HorseshoeCrab<-HorseshoeCrab%>%mutate(weight=weight/1000)\n",
    "head(HorseshoeCrab)\n",
    "mdl.pois <- glm(satellites~weight,family=poisson(link=\"log\"),data=HorseshoeCrab)\n",
    "summary(mdl.pois)"
   ]
  },
  {
   "cell_type": "markdown",
   "metadata": {},
   "source": [
    "b. Estimate the mean of Y for female crabs of average weight 2.44 kg.\n",
    "\n",
    "The model fit yields an estimated mean number of 2.75 (~3)  satellites μˆ, a fitted value, at 2440 g (i.e. 2.44kg)"
   ]
  },
  {
   "cell_type": "code",
   "execution_count": 2,
   "metadata": {},
   "outputs": [
    {
     "data": {
      "text/html": [
       "2.74889771385864"
      ],
      "text/latex": [
       "2.74889771385864"
      ],
      "text/markdown": [
       "2.74889771385864"
      ],
      "text/plain": [
       "[1] 2.748898"
      ]
     },
     "metadata": {},
     "output_type": "display_data"
    }
   ],
   "source": [
    "fitted_value_2.44kg<-exp( -0.4284+(0.59*2.44))\n",
    "fitted_value_2.44kg"
   ]
  },
  {
   "cell_type": "markdown",
   "metadata": {},
   "source": [
    "c. Use βˆ to describe the weight effect. Construct a 95% confidence interval for β and for the multiplicative effect of a 1 kg increase.\n",
    "\n",
    "logμˆ = ˆα + βxˆ =  -0.4284+0.59x     (kg)\n",
    "\n",
    "βˆ in this model is additive, not multiplicative.\n",
    "\n",
    "A 1 kg increase in weight has a predicted increase of βˆ= 0.59 in the expected number of sattelites.\n",
    "\n",
    "The multiplicative effect on the fitted value for each of 1 unit increase in weight (kg) is exp(.59)= 1.803\n",
    "\n",
    "For the Poisson model, with weight in kg, the 95% Wald confidence interval for the effect of weight (β) is 0.59 ± 1.96(0.07), which is (0.45, 0.73).\n",
    "\n",
    "For the Poisson model, the 95% Wald confidence interval for the multiplicative effect of weight in kg (β) is exp(0.59 ± 1.96(0.07)), which is (1.57, 2.08)"
   ]
  },
  {
   "cell_type": "code",
   "execution_count": 3,
   "metadata": {},
   "outputs": [
    {
     "data": {
      "text/html": [
       "1.80398841539786"
      ],
      "text/latex": [
       "1.80398841539786"
      ],
      "text/markdown": [
       "1.80398841539786"
      ],
      "text/plain": [
       "[1] 1.803988"
      ]
     },
     "metadata": {},
     "output_type": "display_data"
    },
    {
     "data": {
      "text/html": [
       "0.4528"
      ],
      "text/latex": [
       "0.4528"
      ],
      "text/markdown": [
       "0.4528"
      ],
      "text/plain": [
       "[1] 0.4528"
      ]
     },
     "metadata": {},
     "output_type": "display_data"
    },
    {
     "data": {
      "text/html": [
       "0.7272"
      ],
      "text/latex": [
       "0.7272"
      ],
      "text/markdown": [
       "0.7272"
      ],
      "text/plain": [
       "[1] 0.7272"
      ]
     },
     "metadata": {},
     "output_type": "display_data"
    },
    {
     "data": {
      "text/html": [
       "1.56831218549017"
      ],
      "text/latex": [
       "1.56831218549017"
      ],
      "text/markdown": [
       "1.56831218549017"
      ],
      "text/plain": [
       "[1] 1.568312"
      ]
     },
     "metadata": {},
     "output_type": "display_data"
    },
    {
     "data": {
      "text/html": [
       "2.07508060767412"
      ],
      "text/latex": [
       "2.07508060767412"
      ],
      "text/markdown": [
       "2.07508060767412"
      ],
      "text/plain": [
       "[1] 2.075081"
      ]
     },
     "metadata": {},
     "output_type": "display_data"
    }
   ],
   "source": [
    "exp(.59)\n",
    "\n",
    "#95% confidence interval for βˆ \n",
    "round(0.59-(1.96*(0.07)),4)\n",
    "round(0.59+(1.96*(0.07)),4)\n",
    "\n",
    "\n",
    "#95% confidence interval for multiplicative effect of a 1 kg increase.\n",
    "exp(round(0.59-(1.96*(0.07)),2))\n",
    "exp(round(0.59+(1.96*(0.07)),2))"
   ]
  },
  {
   "cell_type": "markdown",
   "metadata": {},
   "source": [
    "d. Conduct a Wald test of the hypothesis that the mean of Y is independent of weight. Interpret.\n",
    "\n",
    "H0: β = 0 against Ha: β $\\neq$ 0 \n",
    "\n",
    "z = β/SE\n",
    "\n",
    "The Z score 9.64 has a p value less than .05 which shows that Y is dependent on weight (kg)."
   ]
  },
  {
   "cell_type": "code",
   "execution_count": 4,
   "metadata": {},
   "outputs": [
    {
     "data": {
      "text/html": [
       "9.0633651184251"
      ],
      "text/latex": [
       "9.0633651184251"
      ],
      "text/markdown": [
       "9.0633651184251"
      ],
      "text/plain": [
       "[1] 9.063365"
      ]
     },
     "metadata": {},
     "output_type": "display_data"
    },
    {
     "data": {
      "text/html": [
       "1.26486783140923e-19"
      ],
      "text/latex": [
       "1.26486783140923e-19"
      ],
      "text/markdown": [
       "1.26486783140923e-19"
      ],
      "text/plain": [
       "[1] 1.264868e-19"
      ]
     },
     "metadata": {},
     "output_type": "display_data"
    },
    {
     "data": {
      "text/html": [
       "1"
      ],
      "text/latex": [
       "1"
      ],
      "text/markdown": [
       "1"
      ],
      "text/plain": [
       "[1] 1"
      ]
     },
     "metadata": {},
     "output_type": "display_data"
    },
    {
     "data": {
      "text/html": [
       "0"
      ],
      "text/latex": [
       "0"
      ],
      "text/markdown": [
       "0"
      ],
      "text/plain": [
       "[1] 0"
      ]
     },
     "metadata": {},
     "output_type": "display_data"
    }
   ],
   "source": [
    "0.58930/0.06502\n",
    "2*pnorm(0.58930/0.06502,lower.tail=F) # two tail test\n",
    "pnorm(9.64) #left tail\n",
    "1- pnorm(9.64) #upper  right tail"
   ]
  },
  {
   "cell_type": "markdown",
   "metadata": {},
   "source": [
    "e. Conduct a likelihood-ratio test about the weight effect. Interpret.\n",
    "\n",
    "The LR chisquare statistic is 71.925, df=1 with a corresponding p value (0.00) less than .05 which provides a strong evidence of a weight effect (kg) on the mean number of satellites. \n",
    "\n",
    "*Notice that the p value for the LR chisquare statistic is the same as the one for the Wald test."
   ]
  },
  {
   "cell_type": "code",
   "execution_count": 5,
   "metadata": {},
   "outputs": [
    {
     "name": "stderr",
     "output_type": "stream",
     "text": [
      "Loading required package: carData\n",
      "\n",
      "Attaching package: ‘car’\n",
      "\n",
      "The following object is masked from ‘package:dplyr’:\n",
      "\n",
      "    recode\n",
      "\n"
     ]
    },
    {
     "data": {
      "text/html": [
       "<table>\n",
       "<thead><tr><th></th><th scope=col>LR Chisq</th><th scope=col>Df</th><th scope=col>Pr(&gt;Chisq)</th></tr></thead>\n",
       "<tbody>\n",
       "\t<tr><th scope=row>weight</th><td>71.92524    </td><td>1           </td><td>2.235066e-17</td></tr>\n",
       "</tbody>\n",
       "</table>\n"
      ],
      "text/latex": [
       "\\begin{tabular}{r|lll}\n",
       "  & LR Chisq & Df & Pr(>Chisq)\\\\\n",
       "\\hline\n",
       "\tweight & 71.92524     & 1            & 2.235066e-17\\\\\n",
       "\\end{tabular}\n"
      ],
      "text/markdown": [
       "\n",
       "| <!--/--> | LR Chisq | Df | Pr(>Chisq) | \n",
       "|---|\n",
       "| weight | 71.92524     | 1            | 2.235066e-17 | \n",
       "\n",
       "\n"
      ],
      "text/plain": [
       "       LR Chisq Df Pr(>Chisq)  \n",
       "weight 71.92524 1  2.235066e-17"
      ]
     },
     "metadata": {},
     "output_type": "display_data"
    },
    {
     "data": {
      "text/html": [
       "2.23506576754704e-17"
      ],
      "text/latex": [
       "2.23506576754704e-17"
      ],
      "text/markdown": [
       "2.23506576754704e-17"
      ],
      "text/plain": [
       "[1] 2.235066e-17"
      ]
     },
     "metadata": {},
     "output_type": "display_data"
    }
   ],
   "source": [
    "library(package=car)\n",
    "Anova(mdl.pois,test=\"LR\")\n",
    "pchisq(mdl.pois$null.deviance-mdl.pois$deviance,1,lower.tail=F)"
   ]
  },
  {
   "cell_type": "markdown",
   "metadata": {},
   "source": [
    "### 14. Refer to the previous exercise. Allow overdispersion by fitting the negative binomial loglinear model."
   ]
  },
  {
   "cell_type": "code",
   "execution_count": 6,
   "metadata": {},
   "outputs": [
    {
     "name": "stderr",
     "output_type": "stream",
     "text": [
      "\n",
      "Attaching package: ‘MASS’\n",
      "\n",
      "The following object is masked from ‘package:dplyr’:\n",
      "\n",
      "    select\n",
      "\n"
     ]
    },
    {
     "data": {
      "text/html": [
       "<ol class=list-inline>\n",
       "\t<li>'color'</li>\n",
       "\t<li>'spine'</li>\n",
       "\t<li>'width'</li>\n",
       "\t<li>'satellites'</li>\n",
       "\t<li>'weight'</li>\n",
       "\t<li>'Y'</li>\n",
       "</ol>\n"
      ],
      "text/latex": [
       "\\begin{enumerate*}\n",
       "\\item 'color'\n",
       "\\item 'spine'\n",
       "\\item 'width'\n",
       "\\item 'satellites'\n",
       "\\item 'weight'\n",
       "\\item 'Y'\n",
       "\\end{enumerate*}\n"
      ],
      "text/markdown": [
       "1. 'color'\n",
       "2. 'spine'\n",
       "3. 'width'\n",
       "4. 'satellites'\n",
       "5. 'weight'\n",
       "6. 'Y'\n",
       "\n",
       "\n"
      ],
      "text/plain": [
       "[1] \"color\"      \"spine\"      \"width\"      \"satellites\" \"weight\"    \n",
       "[6] \"Y\"         "
      ]
     },
     "metadata": {},
     "output_type": "display_data"
    },
    {
     "data": {
      "text/plain": [
       "\n",
       "Call:\n",
       "glm.nb(formula = satellites ~ weight, data = HorseshoeCrab, init.theta = 0.9310592338, \n",
       "    link = log)\n",
       "\n",
       "Deviance Residuals: \n",
       "    Min       1Q   Median       3Q      Max  \n",
       "-1.8394  -1.4122  -0.3247   0.4744   2.1279  \n",
       "\n",
       "Coefficients:\n",
       "            Estimate Std. Error z value Pr(>|z|)    \n",
       "(Intercept)  -0.8647     0.4048  -2.136   0.0327 *  \n",
       "weight        0.7603     0.1578   4.817 1.45e-06 ***\n",
       "---\n",
       "Signif. codes:  0 ‘***’ 0.001 ‘**’ 0.01 ‘*’ 0.05 ‘.’ 0.1 ‘ ’ 1\n",
       "\n",
       "(Dispersion parameter for Negative Binomial(0.9311) family taken to be 1)\n",
       "\n",
       "    Null deviance: 216.43  on 172  degrees of freedom\n",
       "Residual deviance: 196.16  on 171  degrees of freedom\n",
       "AIC: 754.64\n",
       "\n",
       "Number of Fisher Scoring iterations: 1\n",
       "\n",
       "\n",
       "              Theta:  0.931 \n",
       "          Std. Err.:  0.168 \n",
       "\n",
       " 2 x log-likelihood:  -748.644 "
      ]
     },
     "metadata": {},
     "output_type": "display_data"
    }
   ],
   "source": [
    "library(dplyr)\n",
    "library(MASS)\n",
    "HorseshoeCrab<-read.csv(\"HorseshoeCrab.csv\")\n",
    "colnames(HorseshoeCrab)\n",
    "HorseshoeCrab<-HorseshoeCrab%>%mutate(weight=weight/1000)\n",
    "mdl.nb <- glm.nb(satellites~weight, data = HorseshoeCrab)\n",
    "summary(mdl.nb)"
   ]
  },
  {
   "cell_type": "markdown",
   "metadata": {},
   "source": [
    "a. Report the prediction equation and the estimate of the dispersion parameter and its SE. Is there evidence that this model gives a better fit than the\n",
    "Poisson model?\n",
    "\n",
    "\n",
    "The predicted equation is log(μ)ˆ = −0.8647 + 0.7603x\n",
    "\n",
    "Dˆ=0.9311\n",
    "SE= 0.1578\n",
    "\n",
    "There is evidence that the NB model gives a better fit because we can see that the Dispersion paramater is significant such that the value is greater than 0, which indicates overdispersion such that the variance is greater than the mean. \n",
    "\n",
    "b. Construct a 95% confidence interval for β. Compare it with the one in (c) in the previous exercise. Interpret, and explain why the interval is wider with the negative binomial model.\n",
    "\n",
    "For the Negative bionomial regression  model, with weight in kg, the 95% Wald confidence interval for the effect of weight (β)  is (-1.174, -0.5554) \n",
    "\n",
    "The interval is wider with the negative binomial model because it is conservative and it allows overdispersion ie it allows the variance to exceed the mean.  \n"
   ]
  },
  {
   "cell_type": "code",
   "execution_count": 7,
   "metadata": {},
   "outputs": [
    {
     "data": {
      "text/html": [
       "-1.174"
      ],
      "text/latex": [
       "-1.174"
      ],
      "text/markdown": [
       "-1.174"
      ],
      "text/plain": [
       "[1] -1.174"
      ]
     },
     "metadata": {},
     "output_type": "display_data"
    },
    {
     "data": {
      "text/html": [
       "-0.5554"
      ],
      "text/latex": [
       "-0.5554"
      ],
      "text/markdown": [
       "-0.5554"
      ],
      "text/plain": [
       "[1] -0.5554"
      ]
     },
     "metadata": {},
     "output_type": "display_data"
    }
   ],
   "source": [
    "#95% confidence interval for Negative Binomial Regression Model\n",
    "round(-0.8647 -(1.96*(0.1578)),4)\n",
    "round(-0.8647 +(1.96*(0.1578)),4)"
   ]
  },
  {
   "cell_type": "markdown",
   "metadata": {},
   "source": [
    "### 15. A recent General Social Survey asked subjects, “Within the past 12 months, how many people have you known personally that were victims of homicide”? The sample mean for the 159 blacks was 0.522, with a variance of 1.150. The sample mean for the 1149 whites was 0.092, with a variance of 0.155.\n",
    "\n",
    "a. Let yij denote the response for subject j of race i, and let μij = E(Yij ).\n",
    "The Poisson model log(μij ) = α + βxij with x1j = 1 (blacks) and x2j =\n",
    "0 (whites) has fit log(μˆij ) = −2.38 + 1.733xij . Show that the estimated\n",
    "population means are 0.522 for blacks and 0.092 for whites, which are the\n",
    "sample means.\n",
    "\n",
    "\n",
    "The Poisson model log(μij ) = α + βxij \n",
    "\n",
    "log(μˆij ) = −2.38 + 1.733xij\n",
    "\n",
    "x1j = 1 (blacks)\n",
    "\n",
    "x2j = 0 (whites)\n",
    "\n",
    "Code can be show below that the the estimated population means are 0.522 for blacks and 0.092 for whites, which are the sample means."
   ]
  },
  {
   "cell_type": "code",
   "execution_count": 8,
   "metadata": {},
   "outputs": [
    {
     "data": {
      "text/html": [
       "0.523614265648264"
      ],
      "text/latex": [
       "0.523614265648264"
      ],
      "text/markdown": [
       "0.523614265648264"
      ],
      "text/plain": [
       "[1] 0.5236143"
      ]
     },
     "metadata": {},
     "output_type": "display_data"
    },
    {
     "data": {
      "text/html": [
       "0.0925505775103433"
      ],
      "text/latex": [
       "0.0925505775103433"
      ],
      "text/markdown": [
       "0.0925505775103433"
      ],
      "text/plain": [
       "[1] 0.09255058"
      ]
     },
     "metadata": {},
     "output_type": "display_data"
    }
   ],
   "source": [
    "exp(-2.38+1.733) # x1j = 1 (blacks)\n",
    "exp(-2.38) #x2j = 0 (whites)"
   ]
  },
  {
   "cell_type": "markdown",
   "metadata": {},
   "source": [
    "b. For the Poisson GLM, the standard error of βˆ is 0.147. Show that the Wald\n",
    "95% confidence interval for the ratio of means for blacks and whites is\n",
    "(4.2, 7.5). [Hint: Note that β is the log of the ratio of the means.]\n",
    "\n",
    "Code can be show below that the Wald 95% confidence interval for the ratio of means for blacks and whites is\n",
    "(4.2, 7.5)"
   ]
  },
  {
   "cell_type": "code",
   "execution_count": 9,
   "metadata": {},
   "outputs": [
    {
     "data": {
      "text/html": [
       "4.2"
      ],
      "text/latex": [
       "4.2"
      ],
      "text/markdown": [
       "4.2"
      ],
      "text/plain": [
       "[1] 4.2"
      ]
     },
     "metadata": {},
     "output_type": "display_data"
    },
    {
     "data": {
      "text/html": [
       "7.5"
      ],
      "text/latex": [
       "7.5"
      ],
      "text/markdown": [
       "7.5"
      ],
      "text/plain": [
       "[1] 7.5"
      ]
     },
     "metadata": {},
     "output_type": "display_data"
    }
   ],
   "source": [
    "round(exp(1.733-(1.96*.147)),1)\n",
    "round(exp(1.733+(1.96*0.147)),1)"
   ]
  },
  {
   "cell_type": "markdown",
   "metadata": {},
   "source": [
    "c. The negative binomial loglinear model has the same estimates as in (a), but the standard error of βˆ increases to 0.238 and the Wald 95% confidence interval for the ratio of means is (3.5, 9.0). Based on the sample means and variances, which confidence interval is more believeable? Why?\n",
    "\n",
    "The sample mean for the 159 blacks was 0.522, with a variance of 1.150. The sample mean for the 1149 whites was 0.092, with a variance of 0.155.\n",
    "\n",
    "For Poisson distributions, the variance equals the mean.\n",
    "The (negative binomial loglinear model) Wald 95% confidence interval for the ratio of means is more believable because as we can see for the sample means and variances of the data, the variances are greater than the mean. The negative binomial distribution allows the variance to exceed the mean. \n",
    "\n",
    "d. The negative binomial model has Dˆ = 4.94 (SE = 1.00). Explain why this shows strong evidence that the negative binomial GLM is more appropriate than the Poisson GLM.\n",
    "\n",
    "This shows strong evidence that the negative binomial GLM is more appropriate than the Poisson GLM because the estimate of D (dispersion parameter) is greater than 0, indicating greater disperson and therefore, the variance is greater than the mean, suggesting that the Poisson model is not appropriate for this data.  \n"
   ]
  }
 ],
 "metadata": {
  "kernelspec": {
   "display_name": "R",
   "language": "R",
   "name": "ir"
  },
  "language_info": {
   "codemirror_mode": "r",
   "file_extension": ".r",
   "mimetype": "text/x-r-source",
   "name": "R",
   "pygments_lexer": "r",
   "version": "3.4.3"
  }
 },
 "nbformat": 4,
 "nbformat_minor": 2
}
