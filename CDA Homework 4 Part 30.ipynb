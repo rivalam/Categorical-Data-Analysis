{
 "cells": [
  {
   "cell_type": "markdown",
   "metadata": {},
   "source": [
    "### Table 2.17 contains results of a study comparing radiation therapy with surgery in treating cancer of the larynx. Use Fisher’s exact test to test H0: θ = 1 against Ha: θ > 1. Interpret results.\n",
    "\n",
    "θ: Odds Ratio.\n",
    "\n",
    "H0: θ = 1\n",
    "The status of the cancer does not dependent on the type of treatment. (No association)\n",
    "\n",
    "Ha: θ > 1.\n",
    "There is an association between the type of treatment of cancer and the status of the cancer. (association)"
   ]
  },
  {
   "cell_type": "code",
   "execution_count": 1,
   "metadata": {},
   "outputs": [
    {
     "data": {
      "text/html": [
       "<table>\n",
       "<thead><tr><th></th><th scope=col>Cancer.Controlled</th><th scope=col>Cancer.Not.Controlled</th></tr></thead>\n",
       "<tbody>\n",
       "\t<tr><th scope=row>Surgery</th><td>21</td><td>2 </td></tr>\n",
       "\t<tr><th scope=row>Radiation.Therapy</th><td>15</td><td>3 </td></tr>\n",
       "</tbody>\n",
       "</table>\n"
      ],
      "text/latex": [
       "\\begin{tabular}{r|ll}\n",
       "  & Cancer.Controlled & Cancer.Not.Controlled\\\\\n",
       "\\hline\n",
       "\tSurgery & 21 & 2 \\\\\n",
       "\tRadiation.Therapy & 15 & 3 \\\\\n",
       "\\end{tabular}\n"
      ],
      "text/markdown": [
       "\n",
       "| <!--/--> | Cancer.Controlled | Cancer.Not.Controlled | \n",
       "|---|---|\n",
       "| Surgery | 21 | 2  | \n",
       "| Radiation.Therapy | 15 | 3  | \n",
       "\n",
       "\n"
      ],
      "text/plain": [
       "                   Cancer\n",
       "Treatment           Cancer.Controlled Cancer.Not.Controlled\n",
       "  Surgery           21                2                    \n",
       "  Radiation.Therapy 15                3                    "
      ]
     },
     "metadata": {},
     "output_type": "display_data"
    },
    {
     "data": {
      "text/plain": [
       "\n",
       "\tFisher's Exact Test for Count Data\n",
       "\n",
       "data:  L.table\n",
       "p-value = 0.3808\n",
       "alternative hypothesis: true odds ratio is greater than 1\n",
       "95 percent confidence interval:\n",
       " 0.2864828       Inf\n",
       "sample estimates:\n",
       "odds ratio \n",
       "  2.061731 \n"
      ]
     },
     "metadata": {},
     "output_type": "display_data"
    }
   ],
   "source": [
    "L.table <- array(data=c(21,15,2,3), \n",
    "                 dim= c(2,2),\n",
    "                 dimnames=list(Treatment=c(\"Surgery\",\"Radiation.Therapy\"), \n",
    "                               Cancer=c(\"Cancer.Controlled\",\"Cancer.Not.Controlled\")))\n",
    "\n",
    "L.table\n",
    "fisher.test(x =L.table,alternative= 'greater')"
   ]
  },
  {
   "cell_type": "code",
   "execution_count": 2,
   "metadata": {},
   "outputs": [
    {
     "data": {
      "text/html": [
       "<ol class=list-inline>\n",
       "\t<li>0</li>\n",
       "\t<li>0</li>\n",
       "\t<li>0</li>\n",
       "\t<li>0</li>\n",
       "\t<li>0</li>\n",
       "\t<li>0</li>\n",
       "\t<li>0</li>\n",
       "\t<li>0</li>\n",
       "\t<li>0</li>\n",
       "\t<li>0</li>\n",
       "\t<li>0</li>\n",
       "\t<li>0</li>\n",
       "\t<li>0</li>\n",
       "\t<li>0</li>\n",
       "\t<li>0</li>\n",
       "\t<li>0</li>\n",
       "\t<li>0</li>\n",
       "\t<li>0</li>\n",
       "\t<li>0.0449013741696668</li>\n",
       "\t<li>0.212690719751053</li>\n",
       "\t<li>0.361574223576791</li>\n",
       "\t<li>0.275485122725174</li>\n",
       "\t<li>0.0939153827472185</li>\n",
       "\t<li>0.0114331770300962</li>\n",
       "</ol>\n"
      ],
      "text/latex": [
       "\\begin{enumerate*}\n",
       "\\item 0\n",
       "\\item 0\n",
       "\\item 0\n",
       "\\item 0\n",
       "\\item 0\n",
       "\\item 0\n",
       "\\item 0\n",
       "\\item 0\n",
       "\\item 0\n",
       "\\item 0\n",
       "\\item 0\n",
       "\\item 0\n",
       "\\item 0\n",
       "\\item 0\n",
       "\\item 0\n",
       "\\item 0\n",
       "\\item 0\n",
       "\\item 0\n",
       "\\item 0.0449013741696668\n",
       "\\item 0.212690719751053\n",
       "\\item 0.361574223576791\n",
       "\\item 0.275485122725174\n",
       "\\item 0.0939153827472185\n",
       "\\item 0.0114331770300962\n",
       "\\end{enumerate*}\n"
      ],
      "text/markdown": [
       "1. 0\n",
       "2. 0\n",
       "3. 0\n",
       "4. 0\n",
       "5. 0\n",
       "6. 0\n",
       "7. 0\n",
       "8. 0\n",
       "9. 0\n",
       "10. 0\n",
       "11. 0\n",
       "12. 0\n",
       "13. 0\n",
       "14. 0\n",
       "15. 0\n",
       "16. 0\n",
       "17. 0\n",
       "18. 0\n",
       "19. 0.0449013741696668\n",
       "20. 0.212690719751053\n",
       "21. 0.361574223576791\n",
       "22. 0.275485122725174\n",
       "23. 0.0939153827472185\n",
       "24. 0.0114331770300962\n",
       "\n",
       "\n"
      ],
      "text/plain": [
       " [1] 0.00000000 0.00000000 0.00000000 0.00000000 0.00000000 0.00000000\n",
       " [7] 0.00000000 0.00000000 0.00000000 0.00000000 0.00000000 0.00000000\n",
       "[13] 0.00000000 0.00000000 0.00000000 0.00000000 0.00000000 0.00000000\n",
       "[19] 0.04490137 0.21269072 0.36157422 0.27548512 0.09391538 0.01143318"
      ]
     },
     "metadata": {},
     "output_type": "display_data"
    },
    {
     "data": {
      "text/html": [
       "<table>\n",
       "<thead><tr><th scope=col>x</th><th scope=col>prob</th></tr></thead>\n",
       "<tbody>\n",
       "\t<tr><td> 0    </td><td>0.0000</td></tr>\n",
       "\t<tr><td> 1    </td><td>0.0000</td></tr>\n",
       "\t<tr><td> 2    </td><td>0.0000</td></tr>\n",
       "\t<tr><td> 3    </td><td>0.0000</td></tr>\n",
       "\t<tr><td> 4    </td><td>0.0000</td></tr>\n",
       "\t<tr><td> 5    </td><td>0.0000</td></tr>\n",
       "\t<tr><td> 6    </td><td>0.0000</td></tr>\n",
       "\t<tr><td> 7    </td><td>0.0000</td></tr>\n",
       "\t<tr><td> 8    </td><td>0.0000</td></tr>\n",
       "\t<tr><td> 9    </td><td>0.0000</td></tr>\n",
       "\t<tr><td>10    </td><td>0.0000</td></tr>\n",
       "\t<tr><td>11    </td><td>0.0000</td></tr>\n",
       "\t<tr><td>12    </td><td>0.0000</td></tr>\n",
       "\t<tr><td>13    </td><td>0.0000</td></tr>\n",
       "\t<tr><td>14    </td><td>0.0000</td></tr>\n",
       "\t<tr><td>15    </td><td>0.0000</td></tr>\n",
       "\t<tr><td>16    </td><td>0.0000</td></tr>\n",
       "\t<tr><td>17    </td><td>0.0000</td></tr>\n",
       "\t<tr><td>18    </td><td>0.0449</td></tr>\n",
       "\t<tr><td>19    </td><td>0.2127</td></tr>\n",
       "\t<tr><td>20    </td><td>0.3616</td></tr>\n",
       "\t<tr><td>21    </td><td>0.2755</td></tr>\n",
       "\t<tr><td>22    </td><td>0.0939</td></tr>\n",
       "\t<tr><td>23    </td><td>0.0114</td></tr>\n",
       "</tbody>\n",
       "</table>\n"
      ],
      "text/latex": [
       "\\begin{tabular}{r|ll}\n",
       " x & prob\\\\\n",
       "\\hline\n",
       "\t  0     & 0.0000\\\\\n",
       "\t  1     & 0.0000\\\\\n",
       "\t  2     & 0.0000\\\\\n",
       "\t  3     & 0.0000\\\\\n",
       "\t  4     & 0.0000\\\\\n",
       "\t  5     & 0.0000\\\\\n",
       "\t  6     & 0.0000\\\\\n",
       "\t  7     & 0.0000\\\\\n",
       "\t  8     & 0.0000\\\\\n",
       "\t  9     & 0.0000\\\\\n",
       "\t 10     & 0.0000\\\\\n",
       "\t 11     & 0.0000\\\\\n",
       "\t 12     & 0.0000\\\\\n",
       "\t 13     & 0.0000\\\\\n",
       "\t 14     & 0.0000\\\\\n",
       "\t 15     & 0.0000\\\\\n",
       "\t 16     & 0.0000\\\\\n",
       "\t 17     & 0.0000\\\\\n",
       "\t 18     & 0.0449\\\\\n",
       "\t 19     & 0.2127\\\\\n",
       "\t 20     & 0.3616\\\\\n",
       "\t 21     & 0.2755\\\\\n",
       "\t 22     & 0.0939\\\\\n",
       "\t 23     & 0.0114\\\\\n",
       "\\end{tabular}\n"
      ],
      "text/markdown": [
       "\n",
       "x | prob | \n",
       "|---|---|---|---|---|---|---|---|---|---|---|---|---|---|---|---|---|---|---|---|---|---|---|---|\n",
       "|  0     | 0.0000 | \n",
       "|  1     | 0.0000 | \n",
       "|  2     | 0.0000 | \n",
       "|  3     | 0.0000 | \n",
       "|  4     | 0.0000 | \n",
       "|  5     | 0.0000 | \n",
       "|  6     | 0.0000 | \n",
       "|  7     | 0.0000 | \n",
       "|  8     | 0.0000 | \n",
       "|  9     | 0.0000 | \n",
       "| 10     | 0.0000 | \n",
       "| 11     | 0.0000 | \n",
       "| 12     | 0.0000 | \n",
       "| 13     | 0.0000 | \n",
       "| 14     | 0.0000 | \n",
       "| 15     | 0.0000 | \n",
       "| 16     | 0.0000 | \n",
       "| 17     | 0.0000 | \n",
       "| 18     | 0.0449 | \n",
       "| 19     | 0.2127 | \n",
       "| 20     | 0.3616 | \n",
       "| 21     | 0.2755 | \n",
       "| 22     | 0.0939 | \n",
       "| 23     | 0.0114 | \n",
       "\n",
       "\n"
      ],
      "text/plain": [
       "   x  prob  \n",
       "1   0 0.0000\n",
       "2   1 0.0000\n",
       "3   2 0.0000\n",
       "4   3 0.0000\n",
       "5   4 0.0000\n",
       "6   5 0.0000\n",
       "7   6 0.0000\n",
       "8   7 0.0000\n",
       "9   8 0.0000\n",
       "10  9 0.0000\n",
       "11 10 0.0000\n",
       "12 11 0.0000\n",
       "13 12 0.0000\n",
       "14 13 0.0000\n",
       "15 14 0.0000\n",
       "16 15 0.0000\n",
       "17 16 0.0000\n",
       "18 17 0.0000\n",
       "19 18 0.0449\n",
       "20 19 0.2127\n",
       "21 20 0.3616\n",
       "22 21 0.2755\n",
       "23 22 0.0939\n",
       "24 23 0.0114"
      ]
     },
     "metadata": {},
     "output_type": "display_data"
    },
    {
     "data": {
      "text/html": [
       "<ol class=list-inline>\n",
       "\t<li>0</li>\n",
       "\t<li>0</li>\n",
       "\t<li>0</li>\n",
       "\t<li>0</li>\n",
       "\t<li>0</li>\n",
       "\t<li>0</li>\n",
       "\t<li>0</li>\n",
       "\t<li>0</li>\n",
       "\t<li>0</li>\n",
       "\t<li>0</li>\n",
       "\t<li>0</li>\n",
       "\t<li>0</li>\n",
       "\t<li>0</li>\n",
       "\t<li>0</li>\n",
       "\t<li>0</li>\n",
       "\t<li>0</li>\n",
       "\t<li>0</li>\n",
       "\t<li>0</li>\n",
       "\t<li>0.0449013741696668</li>\n",
       "\t<li>0.212690719751053</li>\n",
       "\t<li>0.361574223576791</li>\n",
       "\t<li>0.275485122725174</li>\n",
       "\t<li>0.0939153827472185</li>\n",
       "\t<li>0.0114331770300962</li>\n",
       "</ol>\n"
      ],
      "text/latex": [
       "\\begin{enumerate*}\n",
       "\\item 0\n",
       "\\item 0\n",
       "\\item 0\n",
       "\\item 0\n",
       "\\item 0\n",
       "\\item 0\n",
       "\\item 0\n",
       "\\item 0\n",
       "\\item 0\n",
       "\\item 0\n",
       "\\item 0\n",
       "\\item 0\n",
       "\\item 0\n",
       "\\item 0\n",
       "\\item 0\n",
       "\\item 0\n",
       "\\item 0\n",
       "\\item 0\n",
       "\\item 0.0449013741696668\n",
       "\\item 0.212690719751053\n",
       "\\item 0.361574223576791\n",
       "\\item 0.275485122725174\n",
       "\\item 0.0939153827472185\n",
       "\\item 0.0114331770300962\n",
       "\\end{enumerate*}\n"
      ],
      "text/markdown": [
       "1. 0\n",
       "2. 0\n",
       "3. 0\n",
       "4. 0\n",
       "5. 0\n",
       "6. 0\n",
       "7. 0\n",
       "8. 0\n",
       "9. 0\n",
       "10. 0\n",
       "11. 0\n",
       "12. 0\n",
       "13. 0\n",
       "14. 0\n",
       "15. 0\n",
       "16. 0\n",
       "17. 0\n",
       "18. 0\n",
       "19. 0.0449013741696668\n",
       "20. 0.212690719751053\n",
       "21. 0.361574223576791\n",
       "22. 0.275485122725174\n",
       "23. 0.0939153827472185\n",
       "24. 0.0114331770300962\n",
       "\n",
       "\n"
      ],
      "text/plain": [
       " [1] 0.00000000 0.00000000 0.00000000 0.00000000 0.00000000 0.00000000\n",
       " [7] 0.00000000 0.00000000 0.00000000 0.00000000 0.00000000 0.00000000\n",
       "[13] 0.00000000 0.00000000 0.00000000 0.00000000 0.00000000 0.00000000\n",
       "[19] 0.04490137 0.21269072 0.36157422 0.27548512 0.09391538 0.01143318"
      ]
     },
     "metadata": {},
     "output_type": "display_data"
    }
   ],
   "source": [
    "x<-0:23\n",
    "dhyper(x,23,18,36)\n",
    "prob <- round(dhyper(x,23,18,36),4)\n",
    "ct.tab <- data.frame(x,prob)\n",
    "ct.tab\n",
    "dhyper(x,23,18,36)"
   ]
  },
  {
   "cell_type": "code",
   "execution_count": 3,
   "metadata": {},
   "outputs": [
    {
     "data": {
      "text/html": [
       "<ol class=list-inline>\n",
       "\t<li>0</li>\n",
       "\t<li>0</li>\n",
       "\t<li>0</li>\n",
       "\t<li>0</li>\n",
       "\t<li>0</li>\n",
       "\t<li>0</li>\n",
       "\t<li>0</li>\n",
       "\t<li>0</li>\n",
       "\t<li>0</li>\n",
       "\t<li>0</li>\n",
       "\t<li>0</li>\n",
       "\t<li>0</li>\n",
       "\t<li>0</li>\n",
       "\t<li>0</li>\n",
       "\t<li>0</li>\n",
       "\t<li>0</li>\n",
       "\t<li>0</li>\n",
       "\t<li>0</li>\n",
       "\t<li>0.0449013741696668</li>\n",
       "\t<li>0.212690719751053</li>\n",
       "\t<li>0.361574223576791</li>\n",
       "\t<li>0.275485122725174</li>\n",
       "\t<li>0.0939153827472185</li>\n",
       "\t<li>0.0114331770300962</li>\n",
       "</ol>\n"
      ],
      "text/latex": [
       "\\begin{enumerate*}\n",
       "\\item 0\n",
       "\\item 0\n",
       "\\item 0\n",
       "\\item 0\n",
       "\\item 0\n",
       "\\item 0\n",
       "\\item 0\n",
       "\\item 0\n",
       "\\item 0\n",
       "\\item 0\n",
       "\\item 0\n",
       "\\item 0\n",
       "\\item 0\n",
       "\\item 0\n",
       "\\item 0\n",
       "\\item 0\n",
       "\\item 0\n",
       "\\item 0\n",
       "\\item 0.0449013741696668\n",
       "\\item 0.212690719751053\n",
       "\\item 0.361574223576791\n",
       "\\item 0.275485122725174\n",
       "\\item 0.0939153827472185\n",
       "\\item 0.0114331770300962\n",
       "\\end{enumerate*}\n"
      ],
      "text/markdown": [
       "1. 0\n",
       "2. 0\n",
       "3. 0\n",
       "4. 0\n",
       "5. 0\n",
       "6. 0\n",
       "7. 0\n",
       "8. 0\n",
       "9. 0\n",
       "10. 0\n",
       "11. 0\n",
       "12. 0\n",
       "13. 0\n",
       "14. 0\n",
       "15. 0\n",
       "16. 0\n",
       "17. 0\n",
       "18. 0\n",
       "19. 0.0449013741696668\n",
       "20. 0.212690719751053\n",
       "21. 0.361574223576791\n",
       "22. 0.275485122725174\n",
       "23. 0.0939153827472185\n",
       "24. 0.0114331770300962\n",
       "\n",
       "\n"
      ],
      "text/plain": [
       " [1] 0.00000000 0.00000000 0.00000000 0.00000000 0.00000000 0.00000000\n",
       " [7] 0.00000000 0.00000000 0.00000000 0.00000000 0.00000000 0.00000000\n",
       "[13] 0.00000000 0.00000000 0.00000000 0.00000000 0.00000000 0.00000000\n",
       "[19] 0.04490137 0.21269072 0.36157422 0.27548512 0.09391538 0.01143318"
      ]
     },
     "metadata": {},
     "output_type": "display_data"
    },
    {
     "data": {
      "text/html": [
       "0.3808"
      ],
      "text/latex": [
       "0.3808"
      ],
      "text/markdown": [
       "0.3808"
      ],
      "text/plain": [
       "[1] 0.3808"
      ]
     },
     "metadata": {},
     "output_type": "display_data"
    }
   ],
   "source": [
    "dhyper(x,23,18,36)\n",
    "0.2755+ 0.0939+0.0114"
   ]
  },
  {
   "cell_type": "markdown",
   "metadata": {},
   "source": [
    "Because the p value is greater than .05, we do not have enough evidence to reject the null hypothesis that there is no association between the type of treatment of the cancer and the status of the cancer."
   ]
  }
 ],
 "metadata": {
  "kernelspec": {
   "display_name": "R",
   "language": "R",
   "name": "ir"
  },
  "language_info": {
   "codemirror_mode": "r",
   "file_extension": ".r",
   "mimetype": "text/x-r-source",
   "name": "R",
   "pygments_lexer": "r",
   "version": "3.4.3"
  }
 },
 "nbformat": 4,
 "nbformat_minor": 2
}
