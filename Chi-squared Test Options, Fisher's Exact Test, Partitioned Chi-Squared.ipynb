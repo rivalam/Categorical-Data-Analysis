{
 "cells": [
  {
   "cell_type": "markdown",
   "metadata": {},
   "source": [
    "##### Chi-squared Test Options File"
   ]
  },
  {
   "cell_type": "code",
   "execution_count": 1,
   "metadata": {},
   "outputs": [
    {
     "data": {
      "text/html": [
       "<table>\n",
       "<thead><tr><th></th><th scope=col>Dem</th><th scope=col>Indep</th><th scope=col>Repub</th></tr></thead>\n",
       "<tbody>\n",
       "\t<tr><th scope=row>F</th><td>762</td><td>327</td><td>468</td></tr>\n",
       "\t<tr><th scope=row>M</th><td>484</td><td>239</td><td>477</td></tr>\n",
       "</tbody>\n",
       "</table>\n"
      ],
      "text/latex": [
       "\\begin{tabular}{r|lll}\n",
       "  & Dem & Indep & Repub\\\\\n",
       "\\hline\n",
       "\tF & 762 & 327 & 468\\\\\n",
       "\tM & 484 & 239 & 477\\\\\n",
       "\\end{tabular}\n"
      ],
      "text/markdown": [
       "\n",
       "| <!--/--> | Dem | Indep | Repub | \n",
       "|---|---|\n",
       "| F | 762 | 327 | 468 | \n",
       "| M | 484 | 239 | 477 | \n",
       "\n",
       "\n"
      ],
      "text/plain": [
       "      Party\n",
       "Gender Dem Indep Repub\n",
       "     F 762 327   468  \n",
       "     M 484 239   477  "
      ]
     },
     "metadata": {},
     "output_type": "display_data"
    },
    {
     "data": {
      "text/plain": [
       "\n",
       "\tPearson's Chi-squared test\n",
       "\n",
       "data:  c.table\n",
       "X-squared = 30.07, df = 2, p-value = 2.954e-07\n"
      ]
     },
     "metadata": {},
     "output_type": "display_data"
    },
    {
     "data": {
      "text/html": [
       "<table>\n",
       "<thead><tr><th></th><th scope=col>Dem</th><th scope=col>Indep</th><th scope=col>Repub</th></tr></thead>\n",
       "<tbody>\n",
       "\t<tr><th scope=row>F</th><td>762</td><td>327</td><td>468</td></tr>\n",
       "\t<tr><th scope=row>M</th><td>484</td><td>239</td><td>477</td></tr>\n",
       "</tbody>\n",
       "</table>\n"
      ],
      "text/latex": [
       "\\begin{tabular}{r|lll}\n",
       "  & Dem & Indep & Repub\\\\\n",
       "\\hline\n",
       "\tF & 762 & 327 & 468\\\\\n",
       "\tM & 484 & 239 & 477\\\\\n",
       "\\end{tabular}\n"
      ],
      "text/markdown": [
       "\n",
       "| <!--/--> | Dem | Indep | Repub | \n",
       "|---|---|\n",
       "| F | 762 | 327 | 468 | \n",
       "| M | 484 | 239 | 477 | \n",
       "\n",
       "\n"
      ],
      "text/plain": [
       "      Party\n",
       "Gender Dem Indep Repub\n",
       "     F 762 327   468  \n",
       "     M 484 239   477  "
      ]
     },
     "metadata": {},
     "output_type": "display_data"
    },
    {
     "data": {
      "text/html": [
       "<table>\n",
       "<thead><tr><th></th><th scope=col>Dem</th><th scope=col>Indep</th><th scope=col>Repub</th></tr></thead>\n",
       "<tbody>\n",
       "\t<tr><th scope=row>F</th><td>703.6714</td><td>319.6453</td><td>533.6834</td></tr>\n",
       "\t<tr><th scope=row>M</th><td>542.3286</td><td>246.3547</td><td>411.3166</td></tr>\n",
       "</tbody>\n",
       "</table>\n"
      ],
      "text/latex": [
       "\\begin{tabular}{r|lll}\n",
       "  & Dem & Indep & Repub\\\\\n",
       "\\hline\n",
       "\tF & 703.6714 & 319.6453 & 533.6834\\\\\n",
       "\tM & 542.3286 & 246.3547 & 411.3166\\\\\n",
       "\\end{tabular}\n"
      ],
      "text/markdown": [
       "\n",
       "| <!--/--> | Dem | Indep | Repub | \n",
       "|---|---|\n",
       "| F | 703.6714 | 319.6453 | 533.6834 | \n",
       "| M | 542.3286 | 246.3547 | 411.3166 | \n",
       "\n",
       "\n"
      ],
      "text/plain": [
       "      Party\n",
       "Gender Dem      Indep    Repub   \n",
       "     F 703.6714 319.6453 533.6834\n",
       "     M 542.3286 246.3547 411.3166"
      ]
     },
     "metadata": {},
     "output_type": "display_data"
    },
    {
     "data": {
      "text/html": [
       "<table>\n",
       "<thead><tr><th></th><th scope=col>Dem</th><th scope=col>Indep</th><th scope=col>Repub</th></tr></thead>\n",
       "<tbody>\n",
       "\t<tr><th scope=row>F</th><td> 2.198856 </td><td> 0.4113702</td><td>-2.843240 </td></tr>\n",
       "\t<tr><th scope=row>M</th><td>-2.504669 </td><td>-0.4685829</td><td> 3.238673 </td></tr>\n",
       "</tbody>\n",
       "</table>\n"
      ],
      "text/latex": [
       "\\begin{tabular}{r|lll}\n",
       "  & Dem & Indep & Repub\\\\\n",
       "\\hline\n",
       "\tF &  2.198856  &  0.4113702 & -2.843240 \\\\\n",
       "\tM & -2.504669  & -0.4685829 &  3.238673 \\\\\n",
       "\\end{tabular}\n"
      ],
      "text/markdown": [
       "\n",
       "| <!--/--> | Dem | Indep | Repub | \n",
       "|---|---|\n",
       "| F |  2.198856  |  0.4113702 | -2.843240  | \n",
       "| M | -2.504669  | -0.4685829 |  3.238673  | \n",
       "\n",
       "\n"
      ],
      "text/plain": [
       "      Party\n",
       "Gender Dem       Indep      Repub    \n",
       "     F  2.198856  0.4113702 -2.843240\n",
       "     M -2.504669 -0.4685829  3.238673"
      ]
     },
     "metadata": {},
     "output_type": "display_data"
    },
    {
     "data": {
      "text/html": [
       "<table>\n",
       "<thead><tr><th></th><th scope=col>Dem</th><th scope=col>Indep</th><th scope=col>Repub</th></tr></thead>\n",
       "<tbody>\n",
       "\t<tr><th scope=row>F</th><td> 4.502054 </td><td> 0.6994517</td><td>-5.315946 </td></tr>\n",
       "\t<tr><th scope=row>M</th><td>-4.502054 </td><td>-0.6994517</td><td> 5.315946 </td></tr>\n",
       "</tbody>\n",
       "</table>\n"
      ],
      "text/latex": [
       "\\begin{tabular}{r|lll}\n",
       "  & Dem & Indep & Repub\\\\\n",
       "\\hline\n",
       "\tF &  4.502054  &  0.6994517 & -5.315946 \\\\\n",
       "\tM & -4.502054  & -0.6994517 &  5.315946 \\\\\n",
       "\\end{tabular}\n"
      ],
      "text/markdown": [
       "\n",
       "| <!--/--> | Dem | Indep | Repub | \n",
       "|---|---|\n",
       "| F |  4.502054  |  0.6994517 | -5.315946  | \n",
       "| M | -4.502054  | -0.6994517 |  5.315946  | \n",
       "\n",
       "\n"
      ],
      "text/plain": [
       "      Party\n",
       "Gender Dem       Indep      Repub    \n",
       "     F  4.502054  0.6994517 -5.315946\n",
       "     M -4.502054 -0.6994517  5.315946"
      ]
     },
     "metadata": {},
     "output_type": "display_data"
    },
    {
     "data": {
      "text/html": [
       "2.95358918321176e-07"
      ],
      "text/latex": [
       "2.95358918321176e-07"
      ],
      "text/markdown": [
       "2.95358918321176e-07"
      ],
      "text/plain": [
       "[1] 2.953589e-07"
      ]
     },
     "metadata": {},
     "output_type": "display_data"
    }
   ],
   "source": [
    "#Chi-squared test in 2x3 table (Agresti, p39)\n",
    "c.table <- array(data=c(762,484,327,239,468,477), \n",
    "                 dim= c(2,3),\n",
    "                 dimnames=list(Gender=c(\"F\",\"M\"), \n",
    "                               Party=c(\"Dem\",\"Indep\",\"Repub\")))\n",
    "c.table\n",
    "Xsq <- chisq.test(c.table, correct=FALSE)\n",
    "Xsq\n",
    "# Examine options\n",
    "Xsq$observed\n",
    "Xsq$expected\n",
    "Xsq$residuals\n",
    "Xsq$stdres\n",
    "Xsq$p.value\n"
   ]
  },
  {
   "cell_type": "markdown",
   "metadata": {},
   "source": [
    "###### Fisher's Exact Test"
   ]
  },
  {
   "cell_type": "code",
   "execution_count": 2,
   "metadata": {},
   "outputs": [
    {
     "data": {
      "text/html": [
       "<ol class=list-inline>\n",
       "\t<li>0</li>\n",
       "\t<li>1</li>\n",
       "\t<li>2</li>\n",
       "\t<li>3</li>\n",
       "\t<li>4</li>\n",
       "\t<li>5</li>\n",
       "\t<li>6</li>\n",
       "\t<li>7</li>\n",
       "</ol>\n"
      ],
      "text/latex": [
       "\\begin{enumerate*}\n",
       "\\item 0\n",
       "\\item 1\n",
       "\\item 2\n",
       "\\item 3\n",
       "\\item 4\n",
       "\\item 5\n",
       "\\item 6\n",
       "\\item 7\n",
       "\\end{enumerate*}\n"
      ],
      "text/markdown": [
       "1. 0\n",
       "2. 1\n",
       "3. 2\n",
       "4. 3\n",
       "5. 4\n",
       "6. 5\n",
       "7. 6\n",
       "8. 7\n",
       "\n",
       "\n"
      ],
      "text/plain": [
       "[1] 0 1 2 3 4 5 6 7"
      ]
     },
     "metadata": {},
     "output_type": "display_data"
    },
    {
     "data": {
      "text/html": [
       "<ol class=list-inline>\n",
       "\t<li>0.00316091954022989</li>\n",
       "\t<li>0.0368773946360154</li>\n",
       "\t<li>0.154885057471264</li>\n",
       "\t<li>0.30507662835249</li>\n",
       "\t<li>0.30507662835249</li>\n",
       "\t<li>0.154885057471264</li>\n",
       "\t<li>0.0368773946360154</li>\n",
       "\t<li>0.00316091954022989</li>\n",
       "</ol>\n"
      ],
      "text/latex": [
       "\\begin{enumerate*}\n",
       "\\item 0.00316091954022989\n",
       "\\item 0.0368773946360154\n",
       "\\item 0.154885057471264\n",
       "\\item 0.30507662835249\n",
       "\\item 0.30507662835249\n",
       "\\item 0.154885057471264\n",
       "\\item 0.0368773946360154\n",
       "\\item 0.00316091954022989\n",
       "\\end{enumerate*}\n"
      ],
      "text/markdown": [
       "1. 0.00316091954022989\n",
       "2. 0.0368773946360154\n",
       "3. 0.154885057471264\n",
       "4. 0.30507662835249\n",
       "5. 0.30507662835249\n",
       "6. 0.154885057471264\n",
       "7. 0.0368773946360154\n",
       "8. 0.00316091954022989\n",
       "\n",
       "\n"
      ],
      "text/plain": [
       "[1] 0.00316092 0.03687739 0.15488506 0.30507663 0.30507663 0.15488506 0.03687739\n",
       "[8] 0.00316092"
      ]
     },
     "metadata": {},
     "output_type": "display_data"
    },
    {
     "data": {
      "text/html": [
       "1"
      ],
      "text/latex": [
       "1"
      ],
      "text/markdown": [
       "1"
      ],
      "text/plain": [
       "[1] 1"
      ]
     },
     "metadata": {},
     "output_type": "display_data"
    },
    {
     "data": {
      "text/html": [
       "<table>\n",
       "<thead><tr><th scope=col>x</th><th scope=col>prob</th></tr></thead>\n",
       "<tbody>\n",
       "\t<tr><td>0     </td><td>0.0032</td></tr>\n",
       "\t<tr><td>1     </td><td>0.0369</td></tr>\n",
       "\t<tr><td>2     </td><td>0.1549</td></tr>\n",
       "\t<tr><td>3     </td><td>0.3051</td></tr>\n",
       "\t<tr><td>4     </td><td>0.3051</td></tr>\n",
       "\t<tr><td>5     </td><td>0.1549</td></tr>\n",
       "\t<tr><td>6     </td><td>0.0369</td></tr>\n",
       "\t<tr><td>7     </td><td>0.0032</td></tr>\n",
       "</tbody>\n",
       "</table>\n"
      ],
      "text/latex": [
       "\\begin{tabular}{r|ll}\n",
       " x & prob\\\\\n",
       "\\hline\n",
       "\t 0      & 0.0032\\\\\n",
       "\t 1      & 0.0369\\\\\n",
       "\t 2      & 0.1549\\\\\n",
       "\t 3      & 0.3051\\\\\n",
       "\t 4      & 0.3051\\\\\n",
       "\t 5      & 0.1549\\\\\n",
       "\t 6      & 0.0369\\\\\n",
       "\t 7      & 0.0032\\\\\n",
       "\\end{tabular}\n"
      ],
      "text/markdown": [
       "\n",
       "x | prob | \n",
       "|---|---|---|---|---|---|---|---|\n",
       "| 0      | 0.0032 | \n",
       "| 1      | 0.0369 | \n",
       "| 2      | 0.1549 | \n",
       "| 3      | 0.3051 | \n",
       "| 4      | 0.3051 | \n",
       "| 5      | 0.1549 | \n",
       "| 6      | 0.0369 | \n",
       "| 7      | 0.0032 | \n",
       "\n",
       "\n"
      ],
      "text/plain": [
       "  x prob  \n",
       "1 0 0.0032\n",
       "2 1 0.0369\n",
       "3 2 0.1549\n",
       "4 3 0.3051\n",
       "5 4 0.3051\n",
       "6 5 0.1549\n",
       "7 6 0.0369\n",
       "8 7 0.0032"
      ]
     },
     "metadata": {},
     "output_type": "display_data"
    },
    {
     "data": {
      "text/html": [
       "0.00316091954022989"
      ],
      "text/latex": [
       "0.00316091954022989"
      ],
      "text/markdown": [
       "0.00316091954022989"
      ],
      "text/plain": [
       "[1] 0.00316092"
      ]
     },
     "metadata": {},
     "output_type": "display_data"
    }
   ],
   "source": [
    "# Fisher's Exact Test\n",
    "# Exercise 2.29, Agresti, p 62\n",
    "#\n",
    "y <- seq(1:8)\n",
    "x <- (y-1)\n",
    "x\n",
    "dhyper(x,15,15,7)\n",
    "# check that this is the whole distribution\n",
    "sum(dhyper(x,15,15,7))\n",
    "#\n",
    "# To make th output more readable\n",
    "# make a table of the probabilities\n",
    "prob <- round(dhyper(x,15,15,7),4)\n",
    "fisher.tab <- data.frame(x,prob)\n",
    "fisher.tab\n",
    "\n",
    "#\n",
    "# p-value is the probability of the observed\n",
    "# table plus the probabilities of any table\n",
    "# more extreme.\n",
    "#\n",
    "# observed table has 7/15 in TMT group and\n",
    "# 0/15 in control group.\n",
    "# no table is more extreme.\n",
    "#P-value is \n",
    "dhyper(7,15,15,7)"
   ]
  },
  {
   "cell_type": "markdown",
   "metadata": {},
   "source": [
    "###### Partitioned Chi-Squared"
   ]
  },
  {
   "cell_type": "code",
   "execution_count": 3,
   "metadata": {},
   "outputs": [
    {
     "data": {
      "text/html": [
       "<table>\n",
       "<thead><tr><th></th><th scope=col>Dem</th><th scope=col>Indep</th><th scope=col>Repub</th></tr></thead>\n",
       "<tbody>\n",
       "\t<tr><th scope=row>F</th><td>762</td><td>327</td><td>468</td></tr>\n",
       "\t<tr><th scope=row>M</th><td>484</td><td>239</td><td>477</td></tr>\n",
       "</tbody>\n",
       "</table>\n"
      ],
      "text/latex": [
       "\\begin{tabular}{r|lll}\n",
       "  & Dem & Indep & Repub\\\\\n",
       "\\hline\n",
       "\tF & 762 & 327 & 468\\\\\n",
       "\tM & 484 & 239 & 477\\\\\n",
       "\\end{tabular}\n"
      ],
      "text/markdown": [
       "\n",
       "| <!--/--> | Dem | Indep | Repub | \n",
       "|---|---|\n",
       "| F | 762 | 327 | 468 | \n",
       "| M | 484 | 239 | 477 | \n",
       "\n",
       "\n"
      ],
      "text/plain": [
       "      Party\n",
       "Gender Dem Indep Repub\n",
       "     F 762 327   468  \n",
       "     M 484 239   477  "
      ]
     },
     "metadata": {},
     "output_type": "display_data"
    },
    {
     "data": {
      "text/plain": [
       "\n",
       "\tPearson's Chi-squared test\n",
       "\n",
       "data:  c.table\n",
       "X-squared = 30.07, df = 2, p-value = 2.954e-07\n"
      ]
     },
     "metadata": {},
     "output_type": "display_data"
    },
    {
     "data": {
      "text/html": [
       "<table>\n",
       "<thead><tr><th></th><th scope=col>Dem</th><th scope=col>Indep</th></tr></thead>\n",
       "<tbody>\n",
       "\t<tr><th scope=row>F</th><td>762</td><td>327</td></tr>\n",
       "\t<tr><th scope=row>M</th><td>484</td><td>239</td></tr>\n",
       "</tbody>\n",
       "</table>\n"
      ],
      "text/latex": [
       "\\begin{tabular}{r|ll}\n",
       "  & Dem & Indep\\\\\n",
       "\\hline\n",
       "\tF & 762 & 327\\\\\n",
       "\tM & 484 & 239\\\\\n",
       "\\end{tabular}\n"
      ],
      "text/markdown": [
       "\n",
       "| <!--/--> | Dem | Indep | \n",
       "|---|---|\n",
       "| F | 762 | 327 | \n",
       "| M | 484 | 239 | \n",
       "\n",
       "\n"
      ],
      "text/plain": [
       "      Party\n",
       "Gender Dem Indep\n",
       "     F 762 327  \n",
       "     M 484 239  "
      ]
     },
     "metadata": {},
     "output_type": "display_data"
    },
    {
     "data": {
      "text/plain": [
       "\n",
       "\tPearson's Chi-squared test\n",
       "\n",
       "data:  c1.table\n",
       "X-squared = 1.8562, df = 1, p-value = 0.1731\n"
      ]
     },
     "metadata": {},
     "output_type": "display_data"
    },
    {
     "data": {
      "text/html": [
       "<table>\n",
       "<thead><tr><th></th><th scope=col>D+I</th><th scope=col>Repub</th></tr></thead>\n",
       "<tbody>\n",
       "\t<tr><th scope=row>F</th><td>1089</td><td>468 </td></tr>\n",
       "\t<tr><th scope=row>M</th><td> 723</td><td>477 </td></tr>\n",
       "</tbody>\n",
       "</table>\n"
      ],
      "text/latex": [
       "\\begin{tabular}{r|ll}\n",
       "  & D+I & Repub\\\\\n",
       "\\hline\n",
       "\tF & 1089 & 468 \\\\\n",
       "\tM &  723 & 477 \\\\\n",
       "\\end{tabular}\n"
      ],
      "text/markdown": [
       "\n",
       "| <!--/--> | D+I | Repub | \n",
       "|---|---|\n",
       "| F | 1089 | 468  | \n",
       "| M |  723 | 477  | \n",
       "\n",
       "\n"
      ],
      "text/plain": [
       "      Party\n",
       "Gender D+I  Repub\n",
       "     F 1089 468  \n",
       "     M  723 477  "
      ]
     },
     "metadata": {},
     "output_type": "display_data"
    },
    {
     "data": {
      "text/plain": [
       "\n",
       "\tPearson's Chi-squared test\n",
       "\n",
       "data:  c2.table\n",
       "X-squared = 28.259, df = 1, p-value = 1.061e-07\n"
      ]
     },
     "metadata": {},
     "output_type": "display_data"
    }
   ],
   "source": [
    "#Chi-squared test in 2x3 table (Agresti, p39)\n",
    "c.table <- array(data=c(762,484,327,239,468,477), \n",
    "                 dim= c(2,3),\n",
    "                 dimnames=list(Gender=c(\"F\",\"M\"), \n",
    "                 Party=c(\"Dem\",\"Indep\",\"Repub\")))\n",
    "c.table\n",
    "chisq.test(c.table, correct=FALSE)\n",
    "#\n",
    "#Partition this table - first test Dem vs Indep\n",
    "c1.table <- array(data=c(762,484,327,239), \n",
    "                  dim= c(2,2),\n",
    "                  dimnames=list(Gender=c(\"F\",\"M\"), \n",
    "                                Party=c(\"Dem\",\"Indep\")))\n",
    "c1.table\n",
    "chisq.test(c1.table, correct=FALSE)\n",
    "\n",
    "#Partition this table - next test (Dem + Indep)vs Repub\n",
    "c2.table <- array(data=c((762+327),(484+239),468,477), \n",
    "                 dim= c(2,2),\n",
    "                 dimnames=list(Gender=c(\"F\",\"M\"), \n",
    "                               Party=c(\"D+I\",\"Repub\")))\n",
    "c2.table\n",
    "chisq.test(c2.table, correct=FALSE)"
   ]
  },
  {
   "cell_type": "code",
   "execution_count": null,
   "metadata": {},
   "outputs": [],
   "source": [
    "##### Larry Bird ChiSquare Test"
   ]
  },
  {
   "cell_type": "code",
   "execution_count": 4,
   "metadata": {},
   "outputs": [
    {
     "data": {
      "text/html": [
       "<table>\n",
       "<thead><tr><th></th><th scope=col>Made</th><th scope=col>Miss</th></tr></thead>\n",
       "<tbody>\n",
       "\t<tr><th scope=row>Made</th><td>251</td><td>34 </td></tr>\n",
       "\t<tr><th scope=row>Miss</th><td> 48</td><td> 5 </td></tr>\n",
       "</tbody>\n",
       "</table>\n"
      ],
      "text/latex": [
       "\\begin{tabular}{r|ll}\n",
       "  & Made & Miss\\\\\n",
       "\\hline\n",
       "\tMade & 251 & 34 \\\\\n",
       "\tMiss &  48 &  5 \\\\\n",
       "\\end{tabular}\n"
      ],
      "text/markdown": [
       "\n",
       "| <!--/--> | Made | Miss | \n",
       "|---|---|\n",
       "| Made | 251 | 34  | \n",
       "| Miss |  48 |  5  | \n",
       "\n",
       "\n"
      ],
      "text/plain": [
       "          Second_Shot\n",
       "First_Shot Made Miss\n",
       "      Made 251  34  \n",
       "      Miss  48   5  "
      ]
     },
     "metadata": {},
     "output_type": "display_data"
    },
    {
     "data": {
      "text/plain": [
       "\n",
       "\tPearson's Chi-squared test\n",
       "\n",
       "data:  c.table\n",
       "X-squared = 0.27274, df = 1, p-value = 0.6015\n"
      ]
     },
     "metadata": {},
     "output_type": "display_data"
    },
    {
     "data": {
      "text/html": [
       "<table>\n",
       "<thead><tr><th></th><th scope=col>Made</th><th scope=col>Miss</th></tr></thead>\n",
       "<tbody>\n",
       "\t<tr><th scope=row>Made</th><td>251</td><td>34 </td></tr>\n",
       "\t<tr><th scope=row>Miss</th><td> 48</td><td> 5 </td></tr>\n",
       "</tbody>\n",
       "</table>\n"
      ],
      "text/latex": [
       "\\begin{tabular}{r|ll}\n",
       "  & Made & Miss\\\\\n",
       "\\hline\n",
       "\tMade & 251 & 34 \\\\\n",
       "\tMiss &  48 &  5 \\\\\n",
       "\\end{tabular}\n"
      ],
      "text/markdown": [
       "\n",
       "| <!--/--> | Made | Miss | \n",
       "|---|---|\n",
       "| Made | 251 | 34  | \n",
       "| Miss |  48 |  5  | \n",
       "\n",
       "\n"
      ],
      "text/plain": [
       "          Second_Shot\n",
       "First_Shot Made Miss\n",
       "      Made 251  34  \n",
       "      Miss  48   5  "
      ]
     },
     "metadata": {},
     "output_type": "display_data"
    },
    {
     "data": {
      "text/html": [
       "<table>\n",
       "<thead><tr><th></th><th scope=col>Made</th><th scope=col>Miss</th></tr></thead>\n",
       "<tbody>\n",
       "\t<tr><th scope=row>Made</th><td>252.11538</td><td>32.884615</td></tr>\n",
       "\t<tr><th scope=row>Miss</th><td> 46.88462</td><td> 6.115385</td></tr>\n",
       "</tbody>\n",
       "</table>\n"
      ],
      "text/latex": [
       "\\begin{tabular}{r|ll}\n",
       "  & Made & Miss\\\\\n",
       "\\hline\n",
       "\tMade & 252.11538 & 32.884615\\\\\n",
       "\tMiss &  46.88462 &  6.115385\\\\\n",
       "\\end{tabular}\n"
      ],
      "text/markdown": [
       "\n",
       "| <!--/--> | Made | Miss | \n",
       "|---|---|\n",
       "| Made | 252.11538 | 32.884615 | \n",
       "| Miss |  46.88462 |  6.115385 | \n",
       "\n",
       "\n"
      ],
      "text/plain": [
       "          Second_Shot\n",
       "First_Shot Made      Miss     \n",
       "      Made 252.11538 32.884615\n",
       "      Miss  46.88462  6.115385"
      ]
     },
     "metadata": {},
     "output_type": "display_data"
    },
    {
     "data": {
      "text/html": [
       "<table>\n",
       "<thead><tr><th></th><th scope=col>Made</th><th scope=col>Miss</th></tr></thead>\n",
       "<tbody>\n",
       "\t<tr><th scope=row>Made</th><td>-0.07024655</td><td> 0.1945039 </td></tr>\n",
       "\t<tr><th scope=row>Miss</th><td> 0.16289564</td><td>-0.4510376 </td></tr>\n",
       "</tbody>\n",
       "</table>\n"
      ],
      "text/latex": [
       "\\begin{tabular}{r|ll}\n",
       "  & Made & Miss\\\\\n",
       "\\hline\n",
       "\tMade & -0.07024655 &  0.1945039 \\\\\n",
       "\tMiss &  0.16289564 & -0.4510376 \\\\\n",
       "\\end{tabular}\n"
      ],
      "text/markdown": [
       "\n",
       "| <!--/--> | Made | Miss | \n",
       "|---|---|\n",
       "| Made | -0.07024655 |  0.1945039  | \n",
       "| Miss |  0.16289564 | -0.4510376  | \n",
       "\n",
       "\n"
      ],
      "text/plain": [
       "          Second_Shot\n",
       "First_Shot Made        Miss      \n",
       "      Made -0.07024655  0.1945039\n",
       "      Miss  0.16289564 -0.4510376"
      ]
     },
     "metadata": {},
     "output_type": "display_data"
    },
    {
     "data": {
      "text/html": [
       "<table>\n",
       "<thead><tr><th></th><th scope=col>Made</th><th scope=col>Miss</th></tr></thead>\n",
       "<tbody>\n",
       "\t<tr><th scope=row>Made</th><td>-0.5222416</td><td> 0.5222416</td></tr>\n",
       "\t<tr><th scope=row>Miss</th><td> 0.5222416</td><td>-0.5222416</td></tr>\n",
       "</tbody>\n",
       "</table>\n"
      ],
      "text/latex": [
       "\\begin{tabular}{r|ll}\n",
       "  & Made & Miss\\\\\n",
       "\\hline\n",
       "\tMade & -0.5222416 &  0.5222416\\\\\n",
       "\tMiss &  0.5222416 & -0.5222416\\\\\n",
       "\\end{tabular}\n"
      ],
      "text/markdown": [
       "\n",
       "| <!--/--> | Made | Miss | \n",
       "|---|---|\n",
       "| Made | -0.5222416 |  0.5222416 | \n",
       "| Miss |  0.5222416 | -0.5222416 | \n",
       "\n",
       "\n"
      ],
      "text/plain": [
       "          Second_Shot\n",
       "First_Shot Made       Miss      \n",
       "      Made -0.5222416  0.5222416\n",
       "      Miss  0.5222416 -0.5222416"
      ]
     },
     "metadata": {},
     "output_type": "display_data"
    },
    {
     "data": {
      "text/html": [
       "0.601502146272627"
      ],
      "text/latex": [
       "0.601502146272627"
      ],
      "text/markdown": [
       "0.601502146272627"
      ],
      "text/plain": [
       "[1] 0.6015021"
      ]
     },
     "metadata": {},
     "output_type": "display_data"
    }
   ],
   "source": [
    "c.table <- array(data=c(251,48,34,5), \n",
    "                 dim= c(2,2),\n",
    "                 dimnames=list(First_Shot=c(\"Made\",\"Miss\"), \n",
    "                               Second_Shot=c(\"Made\",\"Miss\")))\n",
    "c.table\n",
    "chisq.test(c.table,correct=FALSE)\n",
    "\n",
    "# store output from chisq.test in Xsq\n",
    "Xsq <- chisq.test(c.table, correct=FALSE)\n",
    "#\n",
    "# Examine options\n",
    "Xsq$observed\n",
    "Xsq$expected\n",
    "Xsq$residuals\n",
    "Xsq$stdres\n",
    "Xsq$p.value\n",
    "\n"
   ]
  }
 ],
 "metadata": {
  "kernelspec": {
   "display_name": "R",
   "language": "R",
   "name": "ir"
  },
  "language_info": {
   "codemirror_mode": "r",
   "file_extension": ".r",
   "mimetype": "text/x-r-source",
   "name": "R",
   "pygments_lexer": "r",
   "version": "3.4.3"
  }
 },
 "nbformat": 4,
 "nbformat_minor": 2
}
