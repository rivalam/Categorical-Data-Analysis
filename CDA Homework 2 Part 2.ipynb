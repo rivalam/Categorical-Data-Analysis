{
 "cells": [
  {
   "cell_type": "markdown",
   "metadata": {},
   "source": [
    "### 2. To collect data in an introductory statistics course, a colleague recently gave his students a questionnaire. One questions asked whether the student was a vegetarian. Of 25 students, none answered \"yes.\"The group was not a random sample of students (they had selected this class), but we will use these data to illustrate inference for a proportion. Let $\\pi$ represent the population proportion who would say \"yes.\" Consider $H_{0}$:0.50 and  and $H_{a}$ $\\ne$ 0.5"
   ]
  },
  {
   "cell_type": "markdown",
   "metadata": {},
   "source": [
    "#### A. What happens when you try to use the Wald test in which the z-statistic uses the estimated standard error? "
   ]
  },
  {
   "cell_type": "markdown",
   "metadata": {},
   "source": [
    "$H_{0}$:p=0.50 and $H_{a}:$p $\\ne$ 0.5\n",
    "\n",
    "SE =$(\\frac{\\hat{p}(1-\\hat{p})}{n})^{1/2}$\n",
    "\n",
    "Z= $\\hat{p}$- $p_{0}$/SE"
   ]
  },
  {
   "cell_type": "code",
   "execution_count": 37,
   "metadata": {},
   "outputs": [
    {
     "data": {
      "text/html": [
       "-Inf"
      ],
      "text/latex": [
       "-Inf"
      ],
      "text/markdown": [
       "-Inf"
      ],
      "text/plain": [
       "[1] -Inf"
      ]
     },
     "metadata": {},
     "output_type": "display_data"
    },
    {
     "data": {
      "text/html": [
       "0"
      ],
      "text/latex": [
       "0"
      ],
      "text/markdown": [
       "0"
      ],
      "text/plain": [
       "[1] 0"
      ]
     },
     "metadata": {},
     "output_type": "display_data"
    },
    {
     "data": {
      "text/html": [
       "0"
      ],
      "text/latex": [
       "0"
      ],
      "text/markdown": [
       "0"
      ],
      "text/plain": [
       "[1] 0"
      ]
     },
     "metadata": {},
     "output_type": "display_data"
    }
   ],
   "source": [
    "p_hat<- 0/25\n",
    "p_hypothesized<-.5\n",
    "n<- 25\n",
    "SE<-sqrt(p_hat*(1-p_hat)/n)\n",
    "Wald_test<-(p_hat-p_hypothesized)/SE\n",
    "Wald_test\n",
    "SE\n",
    "p_hat*(1-p_hat)"
   ]
  },
  {
   "cell_type": "markdown",
   "metadata": {},
   "source": [
    "When I try to use the Wald test in which the z-statistic uses the esimated standard error I get is undefined. That is due to the z statistic = 0/0."
   ]
  },
  {
   "cell_type": "markdown",
   "metadata": {},
   "source": [
    "#### B. Find the 95% Wald. conf. interval for $\\pi$. Is it believable? "
   ]
  },
  {
   "cell_type": "code",
   "execution_count": 2,
   "metadata": {},
   "outputs": [
    {
     "name": "stderr",
     "output_type": "stream",
     "text": [
      "Updating HTML index of packages in '.Library'\n",
      "Making 'packages.html' ... done\n"
     ]
    },
    {
     "data": {
      "text/html": [
       "<table>\n",
       "<thead><tr><th scope=col>method</th><th scope=col>x</th><th scope=col>n</th><th scope=col>mean</th><th scope=col>lower</th><th scope=col>upper</th></tr></thead>\n",
       "<tbody>\n",
       "\t<tr><td>asymptotic</td><td>0         </td><td>25        </td><td>0         </td><td>0         </td><td>0         </td></tr>\n",
       "</tbody>\n",
       "</table>\n"
      ],
      "text/latex": [
       "\\begin{tabular}{r|llllll}\n",
       " method & x & n & mean & lower & upper\\\\\n",
       "\\hline\n",
       "\t asymptotic & 0          & 25         & 0          & 0          & 0         \\\\\n",
       "\\end{tabular}\n"
      ],
      "text/markdown": [
       "\n",
       "method | x | n | mean | lower | upper | \n",
       "|---|\n",
       "| asymptotic | 0          | 25         | 0          | 0          | 0          | \n",
       "\n",
       "\n"
      ],
      "text/plain": [
       "  method     x n  mean lower upper\n",
       "1 asymptotic 0 25 0    0     0    "
      ]
     },
     "metadata": {},
     "output_type": "display_data"
    }
   ],
   "source": [
    "install.packages(\"binom\")\n",
    "library(binom)\n",
    "w<-0\n",
    "n<- 25\n",
    "alpha<-0.05\n",
    "binom.confint(x=w,n=n,conf.level = 1 - alpha, methods =\"asymptotic\")"
   ]
  },
  {
   "cell_type": "markdown",
   "metadata": {},
   "source": [
    "A confidence interval exist but that is not believable because with SE=0, that means $\\hat{p}=0 +/- 0 which is still 0."
   ]
  },
  {
   "cell_type": "markdown",
   "metadata": {},
   "source": [
    "#### C. Conduct the \"score\" test in which the z-statistic uses the null hypothesis of $\\pi$ in the standard error. Report and interpret the p-value for this test. "
   ]
  },
  {
   "cell_type": "markdown",
   "metadata": {},
   "source": [
    "$H_{0}: p=0.50$\n",
    "\n",
    "$H_{a}:p\\ne 0.50$\n",
    "\n",
    "SE = $(\\frac{p_{0}(1-p_{0})}{n})^{1/2}$\n",
    "\n",
    "Z= $\\hat{p}$- $p_{0}$/SE"
   ]
  },
  {
   "cell_type": "code",
   "execution_count": 31,
   "metadata": {},
   "outputs": [
    {
     "data": {
      "text/html": [
       "-5"
      ],
      "text/latex": [
       "-5"
      ],
      "text/markdown": [
       "-5"
      ],
      "text/plain": [
       "[1] -5"
      ]
     },
     "metadata": {},
     "output_type": "display_data"
    },
    {
     "data": {
      "text/plain": [
       "\n",
       "\t1-sample proportions test without continuity correction\n",
       "\n",
       "data:  0 out of 25, null probability 0.5\n",
       "X-squared = 25, df = 1, p-value = 5.733e-07\n",
       "alternative hypothesis: true p is not equal to 0.5\n",
       "95 percent confidence interval:\n",
       " 0.0000000 0.1331923\n",
       "sample estimates:\n",
       "p \n",
       "0 \n"
      ]
     },
     "metadata": {},
     "output_type": "display_data"
    }
   ],
   "source": [
    "p_hat<-0/25\n",
    "p_hypothesized<-0.50\n",
    "n<- 25\n",
    "SE<-sqrt(p_hypothesized*(1-p_hypothesized)/n)\n",
    "Score_test<-(p_hat-p_hypothesized)/SE\n",
    "Score_test\n",
    "prop.test(0,25,p=0.5, alternative=\"two.sided\",0.95,correct=FALSE)"
   ]
  },
  {
   "cell_type": "markdown",
   "metadata": {},
   "source": [
    "The p-value associated with this \"score\" test is 5.733e-07 which is < .05, it appears that we have sufficient evidence such that we can reject the null hypothesis that the true proportion of students in the class who would say yes to being vegetarian is equal to 0.5\n",
    "The results are unusual and should be pursued further. "
   ]
  },
  {
   "cell_type": "markdown",
   "metadata": {},
   "source": [
    "#### D. Compute the 95% score CI for $\\pi$. This requires you to solve the quadratic equation |Z|<1.96, $\\pi$ is the unknown variable in this equation."
   ]
  },
  {
   "cell_type": "code",
   "execution_count": 4,
   "metadata": {},
   "outputs": [
    {
     "data": {
      "text/html": [
       "<table>\n",
       "<thead><tr><th scope=col>method</th><th scope=col>x</th><th scope=col>n</th><th scope=col>mean</th><th scope=col>lower</th><th scope=col>upper</th></tr></thead>\n",
       "<tbody>\n",
       "\t<tr><td>wilson   </td><td>0        </td><td>25       </td><td>0        </td><td>0        </td><td>0.1331923</td></tr>\n",
       "</tbody>\n",
       "</table>\n"
      ],
      "text/latex": [
       "\\begin{tabular}{r|llllll}\n",
       " method & x & n & mean & lower & upper\\\\\n",
       "\\hline\n",
       "\t wilson    & 0         & 25        & 0         & 0         & 0.1331923\\\\\n",
       "\\end{tabular}\n"
      ],
      "text/markdown": [
       "\n",
       "method | x | n | mean | lower | upper | \n",
       "|---|\n",
       "| wilson    | 0         | 25        | 0         | 0         | 0.1331923 | \n",
       "\n",
       "\n"
      ],
      "text/plain": [
       "  method x n  mean lower upper    \n",
       "1 wilson 0 25 0    0     0.1331923"
      ]
     },
     "metadata": {},
     "output_type": "display_data"
    }
   ],
   "source": [
    "w<-0\n",
    "n<- 25\n",
    "alpha<-0.05\n",
    "binom.confint(x=w,n=n,conf.level = 1 - alpha, methods =\"wilson\")"
   ]
  },
  {
   "cell_type": "markdown",
   "metadata": {},
   "source": [
    "Wilson Score Interval: We are 95% confident that the true proportion of students in the class who would say yes to being vegetarian is between 0 and 0.13 "
   ]
  }
 ],
 "metadata": {
  "kernelspec": {
   "display_name": "R",
   "language": "R",
   "name": "ir"
  },
  "language_info": {
   "codemirror_mode": "r",
   "file_extension": ".r",
   "mimetype": "text/x-r-source",
   "name": "R",
   "pygments_lexer": "r",
   "version": "3.4.3"
  }
 },
 "nbformat": 4,
 "nbformat_minor": 2
}
