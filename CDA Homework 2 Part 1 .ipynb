{
 "cells": [
  {
   "cell_type": "markdown",
   "metadata": {},
   "source": [
    "### 1. When the General Social Survey asked subjects whether they would be willing to accept cuts in their standard of living to protect the environment 344 of 1170 subjects said \"yes.\""
   ]
  },
  {
   "cell_type": "markdown",
   "metadata": {},
   "source": [
    "#### A. Estimate the proportion in the population that would be expected to say \"yes.\""
   ]
  },
  {
   "cell_type": "markdown",
   "metadata": {},
   "source": [
    "The proportion in the population that would be expected to say yes:\n",
    "\n",
    "$\\hat{p} = \\frac{344}{1170} =0.294$"
   ]
  },
  {
   "cell_type": "markdown",
   "metadata": {},
   "source": [
    "#### B. Conduct a sig. test to determine whether a majority or a minority of the population would say \"yes.\" Report and interpret the value."
   ]
  },
  {
   "cell_type": "markdown",
   "metadata": {},
   "source": [
    "$H_{0}:$ $p = 0.50 vs. $H_{a}: $ $p \\ne$ 0.5\n",
    "\n",
    "SE =$(\\frac{\\hat{p}(1-\\hat{p})}{n})^{1/2}$\n",
    "\n",
    "Z= $\\hat{p}$- $p_{0}$/SE"
   ]
  },
  {
   "cell_type": "code",
   "execution_count": 22,
   "metadata": {},
   "outputs": [
    {
     "data": {
      "text/html": [
       "-15.4646725444999"
      ],
      "text/latex": [
       "-15.4646725444999"
      ],
      "text/markdown": [
       "-15.4646725444999"
      ],
      "text/plain": [
       "[1] -15.46467"
      ]
     },
     "metadata": {},
     "output_type": "display_data"
    },
    {
     "data": {
      "text/html": [
       "6.45985333370838e-54"
      ],
      "text/latex": [
       "6.45985333370838e-54"
      ],
      "text/markdown": [
       "6.45985333370838e-54"
      ],
      "text/plain": [
       "[1] 6.459853e-54"
      ]
     },
     "metadata": {},
     "output_type": "display_data"
    }
   ],
   "source": [
    "p_hat<-344/1170\n",
    "p_hypothesized<-0.50\n",
    "n<- 1170\n",
    "SE<-sqrt(p_hat*(1-p_hat)/n)\n",
    "Wald_test<-(p_hat-p_hypothesized)/SE\n",
    "Wald_test\n",
    "pnorm(-15.46)*2"
   ]
  },
  {
   "cell_type": "markdown",
   "metadata": {},
   "source": [
    "The Z-statistic is more than 3 standard devations away from the mean and the associated p value  6.46e-54 is < .05. Therefore, we have sufficient evidence to reject the null hyothesis that 50% of the population would say \"yes\".\n",
    "Being that the sign of the z score is negative, we have evidence to support that it's the minority of the population that would say yes."
   ]
  },
  {
   "cell_type": "markdown",
   "metadata": {},
   "source": [
    "#### C. Construct and interpret a 99% conf. interval for the population proportion that would say \"yes\""
   ]
  },
  {
   "cell_type": "code",
   "execution_count": 1,
   "metadata": {},
   "outputs": [
    {
     "name": "stderr",
     "output_type": "stream",
     "text": [
      "Updating HTML index of packages in '.Library'\n",
      "Making 'packages.html' ... done\n"
     ]
    },
    {
     "data": {
      "text/html": [
       "<table>\n",
       "<thead><tr><th scope=col>method</th><th scope=col>x</th><th scope=col>n</th><th scope=col>mean</th><th scope=col>lower</th><th scope=col>upper</th></tr></thead>\n",
       "<tbody>\n",
       "\t<tr><td>asymptotic</td><td>344       </td><td>1170      </td><td>0.2940171 </td><td>0.2597081 </td><td>0.3283261 </td></tr>\n",
       "</tbody>\n",
       "</table>\n"
      ],
      "text/latex": [
       "\\begin{tabular}{r|llllll}\n",
       " method & x & n & mean & lower & upper\\\\\n",
       "\\hline\n",
       "\t asymptotic & 344        & 1170       & 0.2940171  & 0.2597081  & 0.3283261 \\\\\n",
       "\\end{tabular}\n"
      ],
      "text/markdown": [
       "\n",
       "method | x | n | mean | lower | upper | \n",
       "|---|\n",
       "| asymptotic | 344        | 1170       | 0.2940171  | 0.2597081  | 0.3283261  | \n",
       "\n",
       "\n"
      ],
      "text/plain": [
       "  method     x   n    mean      lower     upper    \n",
       "1 asymptotic 344 1170 0.2940171 0.2597081 0.3283261"
      ]
     },
     "metadata": {},
     "output_type": "display_data"
    }
   ],
   "source": [
    "install.packages(\"binom\")\n",
    "library(binom)\n",
    "w<-344\n",
    "n<- 1170\n",
    "alpha<-0.01\n",
    "binom.confint(x=w,n=n,conf.level = 1 - alpha, methods =\"asymptotic\")"
   ]
  },
  {
   "cell_type": "markdown",
   "metadata": {},
   "source": [
    "Wald Confidence Interval: We are 99% confident that the true proportion that would be expected to say \"yes\" is between 0.26 and 0.33"
   ]
  }
 ],
 "metadata": {
  "kernelspec": {
   "display_name": "R",
   "language": "R",
   "name": "ir"
  },
  "language_info": {
   "codemirror_mode": "r",
   "file_extension": ".r",
   "mimetype": "text/x-r-source",
   "name": "R",
   "pygments_lexer": "r",
   "version": "3.4.3"
  }
 },
 "nbformat": 4,
 "nbformat_minor": 2
}
