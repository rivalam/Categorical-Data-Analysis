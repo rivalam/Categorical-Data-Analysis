{
 "cells": [
  {
   "cell_type": "markdown",
   "metadata": {},
   "source": [
    "### In an investigation of the relationship between stage of breast cancer at diag-nosis (local or advanced) and a woman’s living arrangement (D. J. Moritz and W. A. Satariano, J. Clin. Epidemiol., 46: 443–454, 1993), of 144 women living alone, 41.0% had an advanced case; of 209 living with spouse, 52.2%were advanced; of 89 living with others, 59.6% were advanced. The authors reported the P-value for the relationship as 0.02. Reconstruct the analysis they performed to obtain this P-value.\n",
    "\n",
    "The analysis that was performed to obtain this P-value is a Chi-Squared test of Independence. In order to obtain this p-value, they have to calculate the expected counts for each cell. They then have to do the following for each cell:\n",
    "\n",
    "(outcome-expected)^(2)/(expected)\n",
    "\n",
    "to create the Chi Square Table.\n",
    "\n",
    "Finally, they have to sum up the cells for the Chi Square Table which gives the  Chi Square Value 8.3508.Its corresponding p value is 0.02\n",
    "\n",
    "With a p-value of 0.02, we have sufficient evidence to reject the null hypothesis that there is no association (i.e. independence) between  stage of cancer and a woman's living arrangement. \n",
    "\n",
    "(In our case, we can just use R to perform the Chi Squared test as indicated below.)"
   ]
  },
  {
   "cell_type": "code",
   "execution_count": 1,
   "metadata": {},
   "outputs": [
    {
     "data": {
      "text/html": [
       "<table>\n",
       "<thead><tr><th></th><th scope=col>Local</th><th scope=col>Advanced</th></tr></thead>\n",
       "<tbody>\n",
       "\t<tr><th scope=row>Alone</th><td>84.960 </td><td> 59.040</td></tr>\n",
       "\t<tr><th scope=row>Spouse</th><td>99.902 </td><td>109.098</td></tr>\n",
       "\t<tr><th scope=row>Others</th><td>35.956 </td><td> 53.044</td></tr>\n",
       "</tbody>\n",
       "</table>\n"
      ],
      "text/latex": [
       "\\begin{tabular}{r|ll}\n",
       "  & Local & Advanced\\\\\n",
       "\\hline\n",
       "\tAlone & 84.960  &  59.040\\\\\n",
       "\tSpouse & 99.902  & 109.098\\\\\n",
       "\tOthers & 35.956  &  53.044\\\\\n",
       "\\end{tabular}\n"
      ],
      "text/markdown": [
       "\n",
       "| <!--/--> | Local | Advanced | \n",
       "|---|---|---|\n",
       "| Alone | 84.960  |  59.040 | \n",
       "| Spouse | 99.902  | 109.098 | \n",
       "| Others | 35.956  |  53.044 | \n",
       "\n",
       "\n"
      ],
      "text/plain": [
       "                  Diagnosis\n",
       "Living.Arrangement Local  Advanced\n",
       "            Alone  84.960  59.040 \n",
       "            Spouse 99.902 109.098 \n",
       "            Others 35.956  53.044 "
      ]
     },
     "metadata": {},
     "output_type": "display_data"
    },
    {
     "data": {
      "text/html": [
       "<dl class=dl-horizontal>\n",
       "\t<dt>Alone</dt>\n",
       "\t\t<dd>144</dd>\n",
       "\t<dt>Spouse</dt>\n",
       "\t\t<dd>209</dd>\n",
       "\t<dt>Others</dt>\n",
       "\t\t<dd>89</dd>\n",
       "</dl>\n"
      ],
      "text/latex": [
       "\\begin{description*}\n",
       "\\item[Alone] 144\n",
       "\\item[Spouse] 209\n",
       "\\item[Others] 89\n",
       "\\end{description*}\n"
      ],
      "text/markdown": [
       "Alone\n",
       ":   144Spouse\n",
       ":   209Others\n",
       ":   89\n",
       "\n"
      ],
      "text/plain": [
       " Alone Spouse Others \n",
       "   144    209     89 "
      ]
     },
     "metadata": {},
     "output_type": "display_data"
    },
    {
     "data": {
      "text/plain": [
       "\n",
       "\tPearson's Chi-squared test\n",
       "\n",
       "data:  RD.table\n",
       "X-squared = 8.3508, df = 2, p-value = 0.01537\n"
      ]
     },
     "metadata": {},
     "output_type": "display_data"
    },
    {
     "data": {
      "text/html": [
       "0.02"
      ],
      "text/latex": [
       "0.02"
      ],
      "text/markdown": [
       "0.02"
      ],
      "text/plain": [
       "[1] 0.02"
      ]
     },
     "metadata": {},
     "output_type": "display_data"
    }
   ],
   "source": [
    "#Not Ordinal data because both variables have to be ordinal \n",
    "Alone.Advanced<- 144*.41 #given\n",
    "Alone.Local<-144*(1-.41)\n",
    "Spouse.Advanced<- 209*.522 #given\n",
    "Spouse.Local<-209*(1-.522)                                                                                                                                                                                                 \n",
    "Others.Advanced<- 89*.596#given\n",
    "Others.Local<-89*(1-.596)\n",
    "RD.table <- array(data=c(Alone.Local, Spouse.Local,Others.Local,Alone.Advanced,Spouse.Advanced,Others.Advanced), \n",
    "                 dim= c(3,2),\n",
    "                 dimnames=list(Living.Arrangement=c(\"Alone\",\"Spouse\",\"Others\"), \n",
    "                               Diagnosis=c(\"Local\",\"Advanced\")))\n",
    "\n",
    "RD.table\n",
    "rowSums(RD.table)\n",
    "\n",
    "XsqRD <- chisq.test(RD.table, correct=FALSE)\n",
    "XsqRD \n",
    "round(XsqRD$p.value,2)"
   ]
  }
 ],
 "metadata": {
  "kernelspec": {
   "display_name": "R",
   "language": "R",
   "name": "ir"
  },
  "language_info": {
   "codemirror_mode": "r",
   "file_extension": ".r",
   "mimetype": "text/x-r-source",
   "name": "R",
   "pygments_lexer": "r",
   "version": "3.4.3"
  }
 },
 "nbformat": 4,
 "nbformat_minor": 2
}
