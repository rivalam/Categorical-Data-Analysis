{
 "cells": [
  {
   "cell_type": "markdown",
   "metadata": {},
   "source": [
    "###### 10 a. Which conditional distribution do these statistics refer to, Y given X, or X given Y ?\n",
    "\n",
    "Y:Race of victim\n",
    "\n",
    "X Race of murderer \n",
    "\n",
    "Of all blacks slain (Y) in 2005, 91% were slain by blacks (X) and of all whites slain in 2005 (Y), 83% were slain by whites (X).\n",
    "\n",
    "These statistics refer to the conditional distribution: X given Y. \n",
    "\n",
    "###### 10 b. Calculate and interpret the odds ratio between X and Y ."
   ]
  },
  {
   "cell_type": "code",
   "execution_count": 3,
   "metadata": {},
   "outputs": [
    {
     "data": {
      "text/html": [
       "2.07095046854083"
      ],
      "text/latex": [
       "2.07095046854083"
      ],
      "text/markdown": [
       "2.07095046854083"
      ],
      "text/plain": [
       "[1] 2.07095"
      ]
     },
     "metadata": {},
     "output_type": "display_data"
    }
   ],
   "source": [
    "b1<-.91\n",
    "b2<- 1-b1\n",
    "w1<- .83\n",
    "w2<-1-w1\n",
    "CTable_10<-array(data=c(b1,w1,b2,w2),dim=c(2,2),\n",
    "dimnames=list(Murderer=c('Black','White'),\n",
    "Victim=c(\"B\",\"W\")))\n",
    "\n",
    "#Odds_b<-b1/b2; Odds_b\n",
    "#Odds_w<-w1/w2; Odds_w\n",
    "#OR_b_w<-Odds_b/Odds_w; OR_b_w\n",
    "\n",
    "OR.hat10<-CTable_10[1,1]*CTable_10[2,2] / (CTable_10[2,1]*CTable_10[1,2])\n",
    "OR.hat10"
   ]
  },
  {
   "cell_type": "markdown",
   "metadata": {},
   "source": [
    "Odds Ratio Interpretation: Murderers who are Blacks are 2.07 times more likely to slain their own ethnicity than murders who are whites in 2005.\n",
    "\n",
    "###### 10 c. Given that a murderer was white, can you estimate the probability that the victim was white? What additional information would you need to do this? (Hint: How could you use Bayes’s Theorem?)\n",
    "V=Victim\n",
    "\n",
    "M=Murderer\n",
    "\n",
    "P(V=White|M=White)= $\\frac{P(M=White|V=White)(P(V=White))}{P(M=White)}$\n",
    "\n",
    "We already have the following information:\n",
    "\n",
    "P(M=White|V=White)= .83\n",
    "\n",
    "P(V=White)= 0.09+ 0.17=0.26\n",
    "\n",
    "We still need the probability that the murderer is P(M)=White in order to calculate P(V=White|M=White). "
   ]
  }
 ],
 "metadata": {
  "kernelspec": {
   "display_name": "R",
   "language": "R",
   "name": "ir"
  },
  "language_info": {
   "codemirror_mode": "r",
   "file_extension": ".r",
   "mimetype": "text/x-r-source",
   "name": "R",
   "pygments_lexer": "r",
   "version": "3.4.3"
  }
 },
 "nbformat": 4,
 "nbformat_minor": 2
}
