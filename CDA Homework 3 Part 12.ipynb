{
 "cells": [
  {
   "cell_type": "markdown",
   "metadata": {},
   "source": [
    "#### A statistical analysis that combines information from several studies is called a meta analysis. A meta analysis compared aspirin with placebo on incidence of heart attack and of stroke, separately for men and for women (J. Am. Med. Assoc., 295: 306–313, 2006). For the Women’s Health Study,heart attacks were reported for 198 of 19,934 taking aspirin and for 193 of 19,942 taking placebo.\n",
    "\n",
    "###### a. Construct the 2 × 2 table that cross classifies the treatment (aspirin,placebo) with whether a heart attack was reported (yes, no)."
   ]
  },
  {
   "cell_type": "code",
   "execution_count": 2,
   "metadata": {},
   "outputs": [
    {
     "data": {
      "text/html": [
       "<table>\n",
       "<thead><tr><th></th><th scope=col>Y</th><th scope=col>N</th></tr></thead>\n",
       "<tbody>\n",
       "\t<tr><th scope=row>Aspirin</th><td>198  </td><td>19736</td></tr>\n",
       "\t<tr><th scope=row>Placebo</th><td>193  </td><td>19749</td></tr>\n",
       "</tbody>\n",
       "</table>\n"
      ],
      "text/latex": [
       "\\begin{tabular}{r|ll}\n",
       "  & Y & N\\\\\n",
       "\\hline\n",
       "\tAspirin & 198   & 19736\\\\\n",
       "\tPlacebo & 193   & 19749\\\\\n",
       "\\end{tabular}\n"
      ],
      "text/markdown": [
       "\n",
       "| <!--/--> | Y | N | \n",
       "|---|---|\n",
       "| Aspirin | 198   | 19736 | \n",
       "| Placebo | 193   | 19749 | \n",
       "\n",
       "\n"
      ],
      "text/plain": [
       "         Reported\n",
       "Treatment Y   N    \n",
       "  Aspirin 198 19736\n",
       "  Placebo 193 19749"
      ]
     },
     "metadata": {},
     "output_type": "display_data"
    },
    {
     "data": {
      "text/html": [
       "<table>\n",
       "<thead><tr><th></th><th scope=col>Y</th><th scope=col>N</th></tr></thead>\n",
       "<tbody>\n",
       "\t<tr><th scope=row>Aspirin</th><td>0.009932778</td><td>0.9900672  </td></tr>\n",
       "\t<tr><th scope=row>Placebo</th><td>0.009678066</td><td>0.9903219  </td></tr>\n",
       "</tbody>\n",
       "</table>\n"
      ],
      "text/latex": [
       "\\begin{tabular}{r|ll}\n",
       "  & Y & N\\\\\n",
       "\\hline\n",
       "\tAspirin & 0.009932778 & 0.9900672  \\\\\n",
       "\tPlacebo & 0.009678066 & 0.9903219  \\\\\n",
       "\\end{tabular}\n"
      ],
      "text/markdown": [
       "\n",
       "| <!--/--> | Y | N | \n",
       "|---|---|\n",
       "| Aspirin | 0.009932778 | 0.9900672   | \n",
       "| Placebo | 0.009678066 | 0.9903219   | \n",
       "\n",
       "\n"
      ],
      "text/plain": [
       "         Reported\n",
       "Treatment Y           N        \n",
       "  Aspirin 0.009932778 0.9900672\n",
       "  Placebo 0.009678066 0.9903219"
      ]
     },
     "metadata": {},
     "output_type": "display_data"
    }
   ],
   "source": [
    "# 2x2 table\n",
    "b1<-198\n",
    "b2<- 19934-b1\n",
    "w1<- 193\n",
    "w2<-19942-w1\n",
    "CTable_12<-array(data=c(b1,w1,b2,w2),dim=c(2,2),\n",
    "dimnames=list(Treatment=c('Aspirin','Placebo'),\n",
    "Reported=c(\"Y\",\"N\")))\n",
    "CTable_12\n",
    "\n",
    "\n",
    "# 2x2 table (probability)\n",
    "pi.hat.table.12<-CTable_12/rowSums(CTable_12)\n",
    "pi.hat.table.12"
   ]
  },
  {
   "cell_type": "markdown",
   "metadata": {},
   "source": [
    "###### b. Estimate the odds ratio. Interpret.\n",
    "Odds Ratio Interpretation: The odds of a women getting a heart attack when they're on aspirin are 1.03 times higher than when they're on the placebo. "
   ]
  },
  {
   "cell_type": "code",
   "execution_count": 4,
   "metadata": {},
   "outputs": [
    {
     "data": {
      "text/html": [
       "1.02658249515364"
      ],
      "text/latex": [
       "1.02658249515364"
      ],
      "text/markdown": [
       "1.02658249515364"
      ],
      "text/plain": [
       "[1] 1.026582"
      ]
     },
     "metadata": {},
     "output_type": "display_data"
    },
    {
     "data": {
      "text/html": [
       "TRUE"
      ],
      "text/latex": [
       "TRUE"
      ],
      "text/markdown": [
       "TRUE"
      ],
      "text/plain": [
       "[1] TRUE"
      ]
     },
     "metadata": {},
     "output_type": "display_data"
    },
    {
     "data": {
      "text/html": [
       "1.02658250723208"
      ],
      "text/latex": [
       "1.02658250723208"
      ],
      "text/markdown": [
       "1.02658250723208"
      ],
      "text/plain": [
       "[1] 1.026583"
      ]
     },
     "metadata": {},
     "output_type": "display_data"
    }
   ],
   "source": [
    "OR.hat12<-CTable_12[1,1]*CTable_12[2,2] / (CTable_12[2,1]*CTable_12[1,2]) #(a/b)/(c/d)\n",
    "OR.hat12\n",
    "\n",
    "#Double Checking\n",
    "A<-0.009932778/0.9900672\n",
    "P<-0.009678066/0.9903219\n",
    "A>P\n",
    "A/P"
   ]
  },
  {
   "cell_type": "markdown",
   "metadata": {},
   "source": [
    "###### c. Find a 95% confidence interval for the population odds ratio for women.Interpret. (As of 2006, results suggested that for women, aspirin was helpful for reducing risk of stroke but not necessarily risk of heart attack.)"
   ]
  },
  {
   "cell_type": "code",
   "execution_count": 5,
   "metadata": {},
   "outputs": [
    {
     "data": {
      "text/html": [
       "<ol class=list-inline>\n",
       "\t<li>0.8411</li>\n",
       "\t<li>1.2529</li>\n",
       "</ol>\n"
      ],
      "text/latex": [
       "\\begin{enumerate*}\n",
       "\\item 0.8411\n",
       "\\item 1.2529\n",
       "\\end{enumerate*}\n"
      ],
      "text/markdown": [
       "1. 0.8411\n",
       "2. 1.2529\n",
       "\n",
       "\n"
      ],
      "text/plain": [
       "[1] 0.8411 1.2529"
      ]
     },
     "metadata": {},
     "output_type": "display_data"
    }
   ],
   "source": [
    "alpha<-0.05\n",
    "var.log.or<-1/CTable_12[1,1] + 1/CTable_12[1,2] + 1/CTable_12[2,2] + 1/CTable_12[2,1]\n",
    "OR.CI<-exp(log(OR.hat12) + qnorm(p = c(alpha/2, 1-alpha/2)) * sqrt(var.log.or))\n",
    "round(OR.CI, 4)"
   ]
  },
  {
   "cell_type": "markdown",
   "metadata": {},
   "source": [
    "The 95% confidence interval for the population odds ratio for women is (0.8411,1.2529).\n",
    "We are 95% confident that that the population odds ratio for women is between 0.8411 and 1.2529\n",
    "Because 1 is within the interval, we have evidence that the true odds for the two groups are the same; therefore, the odds are not dependent on the group. "
   ]
  }
 ],
 "metadata": {
  "kernelspec": {
   "display_name": "R",
   "language": "R",
   "name": "ir"
  },
  "language_info": {
   "codemirror_mode": "r",
   "file_extension": ".r",
   "mimetype": "text/x-r-source",
   "name": "R",
   "pygments_lexer": "r",
   "version": "3.4.3"
  }
 },
 "nbformat": 4,
 "nbformat_minor": 2
}
