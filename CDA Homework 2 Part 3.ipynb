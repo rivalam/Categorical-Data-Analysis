{
 "cells": [
  {
   "cell_type": "markdown",
   "metadata": {},
   "source": [
    "### 3. An article in the NYT about the PSA blood test for detecting prostate cancer stated that, of men who had this disease, the test fails to detect prostate cancer in 1 in 4 (called false negative results), and of man who did not have it, as many as two thirds receive false positive results. Let C denote the event that a man has prostate cancer, and let $\\square$C represent not having a disease. Also let ++ (--) indicate a positive (negative) test result.\n",
    "\n",
    "++ : Test positive\n",
    "--: Test negative\n",
    "C: Event that a man has prostate cancer\n",
    "$\\square$C: Event that a man does not have prostate cancer"
   ]
  },
  {
   "cell_type": "code",
   "execution_count": 29,
   "metadata": {},
   "outputs": [
    {
     "data": {
      "text/plain": [
       "                     C+        C-\n",
       "Test Positive 0.7500000 0.6666667\n",
       "Test Negative 0.2500000 0.3333333"
      ]
     },
     "metadata": {},
     "output_type": "display_data"
    }
   ],
   "source": [
    "conditional_prob_table <- matrix(c(3/4, 2/3,1/4,1/3),ncol=2,byrow=TRUE)\n",
    "colnames(conditional_prob_table) <- c(\"C+\",\"C-\")\n",
    "rownames(conditional_prob_table) <- c(\"Test Positive\",\"Test Negative\")\n",
    "conditional_prob_table <- as.table(conditional_prob_table);conditional_prob_table"
   ]
  },
  {
   "cell_type": "markdown",
   "metadata": {},
   "source": [
    "##### A. Which is true? P(--|C)=1/4 or P(C|--)=1/4? \n",
    "P(--|C)=1/4\n",
    "\n",
    "Of men who had this disease (C), the test fails to detect prostate cancer in 1 in 4 (called false negative results) (--).\n",
    "\n",
    "#### Which is true? P($\\square$C|++)=2/3 or P(++|$\\square$C)=2/3? \n",
    "\n",
    "P(++|$\\square$C)=2/3\n",
    "\n",
    "Of man who did not have it ($\\square$C), as many as two thirds receive false positive results (++). "
   ]
  },
  {
   "cell_type": "markdown",
   "metadata": {},
   "source": [
    "#### B. What is the sensitivity of this test? \n",
    "Sensitivity of a diagnostic test is essentially the the true positive .e given the man had this disease, the probability that the test says positive (++):\n",
    "\n",
    "P(++| C) = 3/4 because we are given the information that of men who had this disease (C), the test fails to detect prostate cancer in 1 in 4(--). Therefore, of men who had this disease (C), the probability that the test is able to detect the disease (++) is 3 in 4."
   ]
  },
  {
   "cell_type": "markdown",
   "metadata": {},
   "source": [
    "#### C. Of men who take the PSA test, suppose P(C) = 0.01. Find the cell probabilities in the 2 x 2 table for the joint distribution that cross classfifies Y=diagnosis (++,--) with X = true disease status (C, $\\square$C).\n"
   ]
  },
  {
   "cell_type": "code",
   "execution_count": 27,
   "metadata": {},
   "outputs": [
    {
     "data": {
      "text/plain": [
       "                  C+     C-\n",
       "Test Positive 0.0075 0.6600\n",
       "Test Negative 0.0025 0.3300"
      ]
     },
     "metadata": {},
     "output_type": "display_data"
    }
   ],
   "source": [
    "prob_table <- matrix(c(.03/4, (2*(.99))/3,.01/4,(.99/3)),ncol=2,byrow=TRUE)\n",
    "colnames(prob_table) <- c(\"C+\",\"C-\")\n",
    "rownames(prob_table) <- c(\"Test Positive\",\"Test Negative\")\n",
    "prob_table <- as.table(prob_table);prob_table\n",
    "\n",
    "#Cell probabiltiies are listed below. "
   ]
  },
  {
   "cell_type": "markdown",
   "metadata": {},
   "source": [
    "Calculations:\n",
    "\n",
    "\n",
    "P(T-|C+)= $\\frac{1}{4}$\n",
    "\n",
    "$\\frac{c_{21}}{.01}=\\frac{1}{4}$\n",
    "\n",
    "*$c_{21} = \\frac{.01}{4}$*\n",
    "\n",
    "*$c_{11}=.01-c_{21}=.0075$*\n",
    "\n",
    "\n",
    "P(C-)=.99\n",
    "\n",
    "P(T+|C-)=$\\frac{2}{3}$\n",
    "\n",
    "$\\frac{c_{12}}{.99}=\\frac{2}{3}$\n",
    "\n",
    "*$c_{12} = \\frac{2(.99)}{4}$*\n",
    "\n",
    "*$c_{22}=.99-c_{12}=.33$*\n"
   ]
  },
  {
   "cell_type": "markdown",
   "metadata": {},
   "source": [
    "##### D. Using part C, find the marginal distribution for the diagnosis (++). "
   ]
  },
  {
   "cell_type": "markdown",
   "metadata": {},
   "source": [
    "The marginal distribution for the diagnosis of testing positive is .6675\n",
    "\n",
    "The marginal distribution for the diagnosis of testing negative is .3325"
   ]
  },
  {
   "cell_type": "code",
   "execution_count": 3,
   "metadata": {},
   "outputs": [
    {
     "data": {
      "text/html": [
       "0.6675"
      ],
      "text/latex": [
       "0.6675"
      ],
      "text/markdown": [
       "0.6675"
      ],
      "text/plain": [
       "[1] 0.6675"
      ]
     },
     "metadata": {},
     "output_type": "display_data"
    },
    {
     "data": {
      "text/html": [
       "0.3325"
      ],
      "text/latex": [
       "0.3325"
      ],
      "text/markdown": [
       "0.3325"
      ],
      "text/plain": [
       "[1] 0.3325"
      ]
     },
     "metadata": {},
     "output_type": "display_data"
    }
   ],
   "source": [
    "c_11<-.03/4\n",
    "c_12<-((2*(.99))/3)\n",
    "marg_distribution_diag_pos<-c_11+c_12;marg_distribution_diag_pos\n",
    "c_21<-.01/4\n",
    "c_22<-(.99/3)\n",
    "marg_distribution_diag_neg<-c_21+c_22;marg_distribution_diag_neg"
   ]
  },
  {
   "cell_type": "markdown",
   "metadata": {},
   "source": [
    "#### E. Using parts C and D, find P(C|++)"
   ]
  },
  {
   "cell_type": "markdown",
   "metadata": {},
   "source": [
    "P(C|++)=$\\frac{0.0075}{.6675}$=0.011"
   ]
  },
  {
   "cell_type": "code",
   "execution_count": 34,
   "metadata": {},
   "outputs": [
    {
     "data": {
      "text/html": [
       "0.0112359550561798"
      ],
      "text/latex": [
       "0.0112359550561798"
      ],
      "text/markdown": [
       "0.0112359550561798"
      ],
      "text/plain": [
       "[1] 0.01123596"
      ]
     },
     "metadata": {},
     "output_type": "display_data"
    }
   ],
   "source": [
    "c_11/marg_distribution_diag_pos"
   ]
  }
 ],
 "metadata": {
  "kernelspec": {
   "display_name": "R",
   "language": "R",
   "name": "ir"
  },
  "language_info": {
   "codemirror_mode": "r",
   "file_extension": ".r",
   "mimetype": "text/x-r-source",
   "name": "R",
   "pygments_lexer": "r",
   "version": "3.4.3"
  }
 },
 "nbformat": 4,
 "nbformat_minor": 2
}
