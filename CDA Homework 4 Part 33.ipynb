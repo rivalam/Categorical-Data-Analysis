{
 "cells": [
  {
   "cell_type": "markdown",
   "metadata": {},
   "source": [
    "#### In murder trials in 20 Florida counties during 1976 and 1977, the death penalty was given in 19 out of 151 cases in which a white killed a white, in 0 out of 9 cases in which a white killed a black, in 11 out of 63 cases in which a black killed a white, and in 6 out of 103 cases in which a black killed a black (M. Radelet, Am. Sociol. Rev., 46: 918–927, 1981).\n",
    "\n",
    "a. Exhibit the data as a three-way contingency table.\n",
    "\n",
    "Z= Race of Victim \n",
    "X: Race of Defendant\n",
    "Y= Death Penalty Verdict\n"
   ]
  },
  {
   "cell_type": "code",
   "execution_count": 2,
   "metadata": {},
   "outputs": [
    {
     "data": {
      "text/html": [
       "<table>\n",
       "<thead><tr><th></th><th scope=col>Yes</th><th scope=col>No</th></tr></thead>\n",
       "<tbody>\n",
       "\t<tr><th scope=row>White.White</th><td>19 </td><td>132</td></tr>\n",
       "\t<tr><th scope=row>White.Black</th><td> 0 </td><td>  9</td></tr>\n",
       "\t<tr><th scope=row>Black.White</th><td>11 </td><td> 52</td></tr>\n",
       "\t<tr><th scope=row>Black.Black</th><td> 6 </td><td> 97</td></tr>\n",
       "</tbody>\n",
       "</table>\n"
      ],
      "text/latex": [
       "\\begin{tabular}{r|ll}\n",
       "  & Yes & No\\\\\n",
       "\\hline\n",
       "\tWhite.White & 19  & 132\\\\\n",
       "\tWhite.Black &  0  &   9\\\\\n",
       "\tBlack.White & 11  &  52\\\\\n",
       "\tBlack.Black &  6  &  97\\\\\n",
       "\\end{tabular}\n"
      ],
      "text/markdown": [
       "\n",
       "| <!--/--> | Yes | No | \n",
       "|---|---|---|---|\n",
       "| White.White | 19  | 132 | \n",
       "| White.Black |  0  |   9 | \n",
       "| Black.White | 11  |  52 | \n",
       "| Black.Black |  6  |  97 | \n",
       "\n",
       "\n"
      ],
      "text/plain": [
       "             Death.Penalty\n",
       "Victim.Race   Yes No \n",
       "  White.White 19  132\n",
       "  White.Black  0    9\n",
       "  Black.White 11   52\n",
       "  Black.Black  6   97"
      ]
     },
     "metadata": {},
     "output_type": "display_data"
    }
   ],
   "source": [
    "Three_Way_Contingency_Table<-array(data=c(19,0,11,6,132,9,52,97), dim= c(4,2),\n",
    "      dimnames=list(Victim.Race=c(\"White.White\",\"White.Black\",\"Black.White\",\"Black.Black\"),\n",
    "                  Death.Penalty=c(\"Yes\",\"No\")))\n",
    "\n",
    "Three_Way_Contingency_Table\n",
    "\n",
    "#White.White = Victim (White), Defendant (White)\n",
    "#White.Black = Victim (White), Defendant (Black)\n",
    "#Black.White = Victim (Black), Defendant (White)\n",
    "#Black.Black= Victim (Black), Defendant (Black)"
   ]
  },
  {
   "cell_type": "markdown",
   "metadata": {},
   "source": [
    "####  b. Construct the partial tables needed to study the conditional association between defendant’s race and the death penalty verdict. Find and interpret the sample conditional odds ratios, adding 0.5 to each cell to reduce the impact of the 0 cell count."
   ]
  },
  {
   "cell_type": "code",
   "execution_count": 3,
   "metadata": {},
   "outputs": [
    {
     "data": {
      "text/plain": [
       "              No Yes\n",
       "                    \n",
       "White Black  132  19\n",
       "      White    9   0"
      ]
     },
     "metadata": {},
     "output_type": "display_data"
    },
    {
     "data": {
      "text/html": [
       "2.8"
      ],
      "text/latex": [
       "2.8"
      ],
      "text/markdown": [
       "2.8"
      ],
      "text/plain": [
       "[1] 2.8"
      ]
     },
     "metadata": {},
     "output_type": "display_data"
    },
    {
     "data": {
      "text/html": [
       "0.36"
      ],
      "text/latex": [
       "0.36"
      ],
      "text/markdown": [
       "0.36"
      ],
      "text/plain": [
       "[1] 0.36"
      ]
     },
     "metadata": {},
     "output_type": "display_data"
    }
   ],
   "source": [
    "#Victim: White\n",
    "dt_1 = data.frame(\"Victim\" = c(\"White\"),1,2,3,4, \n",
    "                    \"Defendant.Race\" = c(\"White\", \"Black\"),2, \n",
    "                    \"Death.Penalty\" = c(\"Yes\",\"No\"))\n",
    " \n",
    "PartialTable_1<-ftable(dt_1$Victim, dt_1$Defendant.Race, dt_1$Death.Penalty)\n",
    "PartialTable_1[1,1] =132\n",
    "PartialTable_1[1,2]=19\n",
    "PartialTable_1[2,1]=9\n",
    "PartialTable_1[2,2]=0\n",
    "\n",
    "PartialTable_1\n",
    "\n",
    "round(((19.5)*(9.5))/(132.5*0.5),2) #Adding .5 to each cell for 1st partial table\n",
    "round((132.5*0.5)/(19.5*9.5),2)"
   ]
  },
  {
   "cell_type": "markdown",
   "metadata": {},
   "source": [
    "The sample conditional odds ratio for partial table 1 is 2.80\n",
    "Intrepretation: The sample odds for White defendants receiving the death penalty given the victim is White is 2.80 times greater than the odds for Black defendants."
   ]
  },
  {
   "cell_type": "code",
   "execution_count": 4,
   "metadata": {},
   "outputs": [
    {
     "data": {
      "text/plain": [
       "             No Yes\n",
       "                   \n",
       "Black Black  52  11\n",
       "      White  97   6"
      ]
     },
     "metadata": {},
     "output_type": "display_data"
    },
    {
     "data": {
      "text/html": [
       "3.42"
      ],
      "text/latex": [
       "3.42"
      ],
      "text/markdown": [
       "3.42"
      ],
      "text/plain": [
       "[1] 3.42"
      ]
     },
     "metadata": {},
     "output_type": "display_data"
    }
   ],
   "source": [
    "#Victim: Black\n",
    "dt_2 = data.frame(\"Victim\" = c(\"Black\"),1,2,3,4, \n",
    "                    \"Defendant.Race\" = c(\"White\", \"Black\"),2, \n",
    "                    \"Death.Penalty\" = c(\"Yes\",\"No\"))\n",
    "\n",
    "PartialTable_2<-ftable(dt_2$Victim, dt_2$Defendant.Race, dt_2$Death.Penalty)\n",
    "PartialTable_2[1,1]= 52\n",
    "PartialTable_2[1,2]=11\n",
    "PartialTable_2[2,1]=97\n",
    "PartialTable_2[2,2]=6\n",
    "PartialTable_2\n",
    "\n",
    "round((11*97)/(6*52),2)"
   ]
  },
  {
   "cell_type": "markdown",
   "metadata": {},
   "source": [
    "The sample conditional odds ratio for partial table 2 is 3.42\n",
    "\n",
    "Intrepretation: The sample odds for White defendants receiving the death penalty, given the victim is Black, is 3.42 times greater than the odds for White defendants."
   ]
  },
  {
   "cell_type": "markdown",
   "metadata": {},
   "source": [
    "#### c. Compute and interpret the sample marginal odds ratio between defendant’s race and the death penalty verdict. Do these data exhibit Simpson’s paradox? Explain."
   ]
  },
  {
   "cell_type": "code",
   "execution_count": 5,
   "metadata": {},
   "outputs": [
    {
     "data": {
      "text/html": [
       "<table>\n",
       "<thead><tr><th></th><th scope=col>Yes</th><th scope=col>No</th></tr></thead>\n",
       "<tbody>\n",
       "\t<tr><th scope=row>White</th><td>30 </td><td>184</td></tr>\n",
       "\t<tr><th scope=row>Black</th><td> 6 </td><td>106</td></tr>\n",
       "</tbody>\n",
       "</table>\n"
      ],
      "text/latex": [
       "\\begin{tabular}{r|ll}\n",
       "  & Yes & No\\\\\n",
       "\\hline\n",
       "\tWhite & 30  & 184\\\\\n",
       "\tBlack &  6  & 106\\\\\n",
       "\\end{tabular}\n"
      ],
      "text/markdown": [
       "\n",
       "| <!--/--> | Yes | No | \n",
       "|---|---|\n",
       "| White | 30  | 184 | \n",
       "| Black |  6  | 106 | \n",
       "\n",
       "\n"
      ],
      "text/plain": [
       "              Death.Penalty\n",
       "Defendant.Race Yes No \n",
       "         White 30  184\n",
       "         Black  6  106"
      ]
     },
     "metadata": {},
     "output_type": "display_data"
    },
    {
     "data": {
      "text/html": [
       "2.8804347826087"
      ],
      "text/latex": [
       "2.8804347826087"
      ],
      "text/markdown": [
       "2.8804347826087"
      ],
      "text/plain": [
       "[1] 2.880435"
      ]
     },
     "metadata": {},
     "output_type": "display_data"
    },
    {
     "data": {
      "text/html": [
       "0.347169811320755"
      ],
      "text/latex": [
       "0.347169811320755"
      ],
      "text/markdown": [
       "0.347169811320755"
      ],
      "text/plain": [
       "[1] 0.3471698"
      ]
     },
     "metadata": {},
     "output_type": "display_data"
    }
   ],
   "source": [
    "Marginal_Table<-array(data=c(30,6,184,106), dim= c(2,2),\n",
    "      dimnames=list(Defendant.Race=c(\"White\",\"Black\"),\n",
    "                  Death.Penalty=c(\"Yes\",\"No\")))\n",
    "Marginal_Table\n",
    "(30*106)/(6*184)\n",
    "(6*184)/(30*106)"
   ]
  },
  {
   "cell_type": "markdown",
   "metadata": {},
   "source": [
    "The sample marginal odds ratio between defendant's race and the death penalty verdict shows that the odds of a White defendant receiving the death penalty is 2.88 times greater than the odds of a Black defendant.\n",
    "\n",
    "These data exhibit Simpson's paradox because without accounting for the victim's race (confounding variable), it shows that there is greater tendency for White defendants to receive the death penalty. This is reflected in the sample marginal odds ratio. We can see that for the conditional association for table 1 the odds for White defendant is lower i.e. OR = 2.80\n",
    "\n",
    "\n",
    "\n"
   ]
  }
 ],
 "metadata": {
  "kernelspec": {
   "display_name": "R",
   "language": "R",
   "name": "ir"
  },
  "language_info": {
   "codemirror_mode": "r",
   "file_extension": ".r",
   "mimetype": "text/x-r-source",
   "name": "R",
   "pygments_lexer": "r",
   "version": "3.4.3"
  }
 },
 "nbformat": 4,
 "nbformat_minor": 2
}
