{
 "cells": [
  {
   "cell_type": "markdown",
   "metadata": {},
   "source": [
    "### Table 2.15 classifies a sample of psychiatric patients by their diagnosis and by whether their treatment prescribed drugs.\n",
    "\n",
    "##### a. Conduct a test of independence, and interpret the P-value."
   ]
  },
  {
   "cell_type": "code",
   "execution_count": 1,
   "metadata": {},
   "outputs": [
    {
     "data": {
      "text/html": [
       "<table>\n",
       "<thead><tr><th></th><th scope=col>Drugs</th><th scope=col>No.Drugs</th></tr></thead>\n",
       "<tbody>\n",
       "\t<tr><th scope=row>Schizophrenia</th><td>105</td><td> 8 </td></tr>\n",
       "\t<tr><th scope=row>Affective.disorder</th><td> 12</td><td> 2 </td></tr>\n",
       "\t<tr><th scope=row>Neurosis</th><td> 18</td><td>19 </td></tr>\n",
       "\t<tr><th scope=row>Personality.disorder</th><td> 47</td><td>52 </td></tr>\n",
       "\t<tr><th scope=row>Special.symptoms</th><td>  0</td><td>13 </td></tr>\n",
       "</tbody>\n",
       "</table>\n"
      ],
      "text/latex": [
       "\\begin{tabular}{r|ll}\n",
       "  & Drugs & No.Drugs\\\\\n",
       "\\hline\n",
       "\tSchizophrenia & 105 &  8 \\\\\n",
       "\tAffective.disorder &  12 &  2 \\\\\n",
       "\tNeurosis &  18 & 19 \\\\\n",
       "\tPersonality.disorder &  47 & 52 \\\\\n",
       "\tSpecial.symptoms &   0 & 13 \\\\\n",
       "\\end{tabular}\n"
      ],
      "text/markdown": [
       "\n",
       "| <!--/--> | Drugs | No.Drugs | \n",
       "|---|---|---|---|---|\n",
       "| Schizophrenia | 105 |  8  | \n",
       "| Affective.disorder |  12 |  2  | \n",
       "| Neurosis |  18 | 19  | \n",
       "| Personality.disorder |  47 | 52  | \n",
       "| Special.symptoms |   0 | 13  | \n",
       "\n",
       "\n"
      ],
      "text/plain": [
       "                      Treatment\n",
       "Diagnosis              Drugs No.Drugs\n",
       "  Schizophrenia        105    8      \n",
       "  Affective.disorder    12    2      \n",
       "  Neurosis              18   19      \n",
       "  Personality.disorder  47   52      \n",
       "  Special.symptoms       0   13      "
      ]
     },
     "metadata": {},
     "output_type": "display_data"
    },
    {
     "name": "stderr",
     "output_type": "stream",
     "text": [
      "Warning message in chisq.test(DD.table, correct = FALSE):\n",
      "“Chi-squared approximation may be incorrect”"
     ]
    },
    {
     "data": {
      "text/html": [
       "2.25489239291946e-17"
      ],
      "text/latex": [
       "2.25489239291946e-17"
      ],
      "text/markdown": [
       "2.25489239291946e-17"
      ],
      "text/plain": [
       "[1] 2.254892e-17"
      ]
     },
     "metadata": {},
     "output_type": "display_data"
    }
   ],
   "source": [
    "#not oridinal\n",
    "DD.table <- array(data=c(105,12,18,47,0,8,2,19,52,13), \n",
    "                 dim= c(5,2),\n",
    "                 dimnames=list(Diagnosis=c(\"Schizophrenia\",\"Affective.disorder\",\"Neurosis\",\"Personality.disorder\",\"Special.symptoms\"), \n",
    "                               Treatment=c(\"Drugs\",\"No.Drugs\")))\n",
    "\n",
    "DD.table\n",
    "\n",
    "\n",
    "\n",
    "XsqDD <- chisq.test(DD.table, correct=FALSE)\n",
    "XsqDD$p.value"
   ]
  },
  {
   "cell_type": "markdown",
   "metadata": {},
   "source": [
    "The p value 2.254892e-17 is less than .05, therefore we have sufficient evidence to reject the null hypothesis that there is no association (ie independence) between their diagnosis and whether their treatment prescribed drugs\n",
    "\n",
    "#### b. Obtain standardized residuals, and interpret."
   ]
  },
  {
   "cell_type": "code",
   "execution_count": 2,
   "metadata": {},
   "outputs": [
    {
     "data": {
      "text/html": [
       "<table>\n",
       "<thead><tr><th></th><th scope=col>Drugs</th><th scope=col>No.Drugs</th></tr></thead>\n",
       "<tbody>\n",
       "\t<tr><th scope=row>Schizophrenia</th><td> 7.874526</td><td>-7.874526</td></tr>\n",
       "\t<tr><th scope=row>Affective.disorder</th><td> 1.602262</td><td>-1.602262</td></tr>\n",
       "\t<tr><th scope=row>Neurosis</th><td>-2.385315</td><td> 2.385315</td></tr>\n",
       "\t<tr><th scope=row>Personality.disorder</th><td>-4.841701</td><td> 4.841701</td></tr>\n",
       "\t<tr><th scope=row>Special.symptoms</th><td>-5.139491</td><td> 5.139491</td></tr>\n",
       "</tbody>\n",
       "</table>\n"
      ],
      "text/latex": [
       "\\begin{tabular}{r|ll}\n",
       "  & Drugs & No.Drugs\\\\\n",
       "\\hline\n",
       "\tSchizophrenia &  7.874526 & -7.874526\\\\\n",
       "\tAffective.disorder &  1.602262 & -1.602262\\\\\n",
       "\tNeurosis & -2.385315 &  2.385315\\\\\n",
       "\tPersonality.disorder & -4.841701 &  4.841701\\\\\n",
       "\tSpecial.symptoms & -5.139491 &  5.139491\\\\\n",
       "\\end{tabular}\n"
      ],
      "text/markdown": [
       "\n",
       "| <!--/--> | Drugs | No.Drugs | \n",
       "|---|---|---|---|---|\n",
       "| Schizophrenia |  7.874526 | -7.874526 | \n",
       "| Affective.disorder |  1.602262 | -1.602262 | \n",
       "| Neurosis | -2.385315 |  2.385315 | \n",
       "| Personality.disorder | -4.841701 |  4.841701 | \n",
       "| Special.symptoms | -5.139491 |  5.139491 | \n",
       "\n",
       "\n"
      ],
      "text/plain": [
       "                      Treatment\n",
       "Diagnosis              Drugs     No.Drugs \n",
       "  Schizophrenia         7.874526 -7.874526\n",
       "  Affective.disorder    1.602262 -1.602262\n",
       "  Neurosis             -2.385315  2.385315\n",
       "  Personality.disorder -4.841701  4.841701\n",
       "  Special.symptoms     -5.139491  5.139491"
      ]
     },
     "metadata": {},
     "output_type": "display_data"
    }
   ],
   "source": [
    "XsqDD$stdres"
   ]
  },
  {
   "cell_type": "markdown",
   "metadata": {},
   "source": [
    "Standardized residuals that have an absolute value that exceeds about 2 indicates that the null hypothesesis did not 'fit' that cell. We can see  for cells where the standardized residual is greater than 2, the number of people who has X diagnosis and Y treatment has been overpredicted. Cells where the standardized residual is less than -2 the number of people who has X diagnosis and Y treatement has been underpredicted. "
   ]
  },
  {
   "cell_type": "markdown",
   "metadata": {},
   "source": [
    "#### c. Partition chi-squared into three components to describe differences and similarities among the diagnoses, by comparing (i) the first two rows, (ii) the third and fourth rows, (iii) the last row to the first and second rows combined and the third and fourth rows combined."
   ]
  },
  {
   "cell_type": "code",
   "execution_count": 3,
   "metadata": {},
   "outputs": [
    {
     "data": {
      "text/html": [
       "<table>\n",
       "<thead><tr><th></th><th scope=col>Drugs</th><th scope=col>No.Drugs</th></tr></thead>\n",
       "<tbody>\n",
       "\t<tr><th scope=row>Schizophrenia</th><td>105</td><td> 8 </td></tr>\n",
       "\t<tr><th scope=row>Affective.disorder</th><td> 12</td><td> 2 </td></tr>\n",
       "\t<tr><th scope=row>Neurosis</th><td> 18</td><td>19 </td></tr>\n",
       "\t<tr><th scope=row>Personality.disorder</th><td> 47</td><td>52 </td></tr>\n",
       "\t<tr><th scope=row>Special.symptoms</th><td>  0</td><td>13 </td></tr>\n",
       "</tbody>\n",
       "</table>\n"
      ],
      "text/latex": [
       "\\begin{tabular}{r|ll}\n",
       "  & Drugs & No.Drugs\\\\\n",
       "\\hline\n",
       "\tSchizophrenia & 105 &  8 \\\\\n",
       "\tAffective.disorder &  12 &  2 \\\\\n",
       "\tNeurosis &  18 & 19 \\\\\n",
       "\tPersonality.disorder &  47 & 52 \\\\\n",
       "\tSpecial.symptoms &   0 & 13 \\\\\n",
       "\\end{tabular}\n"
      ],
      "text/markdown": [
       "\n",
       "| <!--/--> | Drugs | No.Drugs | \n",
       "|---|---|---|---|---|\n",
       "| Schizophrenia | 105 |  8  | \n",
       "| Affective.disorder |  12 |  2  | \n",
       "| Neurosis |  18 | 19  | \n",
       "| Personality.disorder |  47 | 52  | \n",
       "| Special.symptoms |   0 | 13  | \n",
       "\n",
       "\n"
      ],
      "text/plain": [
       "                      Treatment\n",
       "Diagnosis              Drugs No.Drugs\n",
       "  Schizophrenia        105    8      \n",
       "  Affective.disorder    12    2      \n",
       "  Neurosis              18   19      \n",
       "  Personality.disorder  47   52      \n",
       "  Special.symptoms       0   13      "
      ]
     },
     "metadata": {},
     "output_type": "display_data"
    },
    {
     "data": {
      "text/plain": [
       "\n",
       "\tPearson's Chi-squared test\n",
       "\n",
       "data:  DD.table\n",
       "X-squared = 84.188, df = 4, p-value < 2.2e-16\n"
      ]
     },
     "metadata": {},
     "output_type": "display_data"
    },
    {
     "data": {
      "text/html": [
       "<table>\n",
       "<thead><tr><th></th><th scope=col>Drugs</th><th scope=col>No.Drugs</th></tr></thead>\n",
       "<tbody>\n",
       "\t<tr><th scope=row>Schizophrenia</th><td>105</td><td>8  </td></tr>\n",
       "\t<tr><th scope=row>Affective.disorder</th><td> 12</td><td>2  </td></tr>\n",
       "</tbody>\n",
       "</table>\n"
      ],
      "text/latex": [
       "\\begin{tabular}{r|ll}\n",
       "  & Drugs & No.Drugs\\\\\n",
       "\\hline\n",
       "\tSchizophrenia & 105 & 8  \\\\\n",
       "\tAffective.disorder &  12 & 2  \\\\\n",
       "\\end{tabular}\n"
      ],
      "text/markdown": [
       "\n",
       "| <!--/--> | Drugs | No.Drugs | \n",
       "|---|---|\n",
       "| Schizophrenia | 105 | 8   | \n",
       "| Affective.disorder |  12 | 2   | \n",
       "\n",
       "\n"
      ],
      "text/plain": [
       "                    Treatment\n",
       "Diagnosis            Drugs No.Drugs\n",
       "  Schizophrenia      105   8       \n",
       "  Affective.disorder  12   2       "
      ]
     },
     "metadata": {},
     "output_type": "display_data"
    },
    {
     "name": "stderr",
     "output_type": "stream",
     "text": [
      "Warning message in chisq.test(Two_rows, correct = FALSE):\n",
      "“Chi-squared approximation may be incorrect”"
     ]
    },
    {
     "data": {
      "text/plain": [
       "\n",
       "\tPearson's Chi-squared test\n",
       "\n",
       "data:  Two_rows\n",
       "X-squared = 0.8917, df = 1, p-value = 0.345\n"
      ]
     },
     "metadata": {},
     "output_type": "display_data"
    },
    {
     "data": {
      "text/html": [
       "<table>\n",
       "<thead><tr><th></th><th scope=col>Drugs</th><th scope=col>No.Drugs</th></tr></thead>\n",
       "<tbody>\n",
       "\t<tr><th scope=row>Neurosis</th><td>18</td><td>19</td></tr>\n",
       "\t<tr><th scope=row>Personality.disorder</th><td>47</td><td>52</td></tr>\n",
       "</tbody>\n",
       "</table>\n"
      ],
      "text/latex": [
       "\\begin{tabular}{r|ll}\n",
       "  & Drugs & No.Drugs\\\\\n",
       "\\hline\n",
       "\tNeurosis & 18 & 19\\\\\n",
       "\tPersonality.disorder & 47 & 52\\\\\n",
       "\\end{tabular}\n"
      ],
      "text/markdown": [
       "\n",
       "| <!--/--> | Drugs | No.Drugs | \n",
       "|---|---|\n",
       "| Neurosis | 18 | 19 | \n",
       "| Personality.disorder | 47 | 52 | \n",
       "\n",
       "\n"
      ],
      "text/plain": [
       "                      Treatment\n",
       "Diagnosis              Drugs No.Drugs\n",
       "  Neurosis             18    19      \n",
       "  Personality.disorder 47    52      "
      ]
     },
     "metadata": {},
     "output_type": "display_data"
    },
    {
     "data": {
      "text/plain": [
       "\n",
       "\tPearson's Chi-squared test\n",
       "\n",
       "data:  Third_Fourth_Rows\n",
       "X-squared = 0.014875, df = 1, p-value = 0.9029\n"
      ]
     },
     "metadata": {},
     "output_type": "display_data"
    },
    {
     "data": {
      "text/html": [
       "<table>\n",
       "<thead><tr><th></th><th scope=col>Drugs</th><th scope=col>No.Drugs</th></tr></thead>\n",
       "<tbody>\n",
       "\t<tr><th scope=row>Schizophrenia + Affective.disorder</th><td>117</td><td>10 </td></tr>\n",
       "\t<tr><th scope=row>Neurosis + Personality.disorder</th><td> 65</td><td>71 </td></tr>\n",
       "\t<tr><th scope=row>Special.symptoms</th><td>  0</td><td>13 </td></tr>\n",
       "</tbody>\n",
       "</table>\n"
      ],
      "text/latex": [
       "\\begin{tabular}{r|ll}\n",
       "  & Drugs & No.Drugs\\\\\n",
       "\\hline\n",
       "\tSchizophrenia + Affective.disorder & 117 & 10 \\\\\n",
       "\tNeurosis + Personality.disorder &  65 & 71 \\\\\n",
       "\tSpecial.symptoms &   0 & 13 \\\\\n",
       "\\end{tabular}\n"
      ],
      "text/markdown": [
       "\n",
       "| <!--/--> | Drugs | No.Drugs | \n",
       "|---|---|---|\n",
       "| Schizophrenia + Affective.disorder | 117 | 10  | \n",
       "| Neurosis + Personality.disorder |  65 | 71  | \n",
       "| Special.symptoms |   0 | 13  | \n",
       "\n",
       "\n"
      ],
      "text/plain": [
       "                                    Treatment\n",
       "Diagnosis                            Drugs No.Drugs\n",
       "  Schizophrenia + Affective.disorder 117   10      \n",
       "  Neurosis + Personality.disorder     65   71      \n",
       "  Special.symptoms                     0   13      "
      ]
     },
     "metadata": {},
     "output_type": "display_data"
    },
    {
     "name": "stderr",
     "output_type": "stream",
     "text": [
      "Warning message in chisq.test(Combined.table, correct = FALSE):\n",
      "“Chi-squared approximation may be incorrect”"
     ]
    },
    {
     "data": {
      "text/plain": [
       "\n",
       "\tPearson's Chi-squared test\n",
       "\n",
       "data:  Combined.table\n",
       "X-squared = 83.884, df = 2, p-value < 2.2e-16\n"
      ]
     },
     "metadata": {},
     "output_type": "display_data"
    }
   ],
   "source": [
    "#Calculate the G^2 statistc in the future. \n",
    "DD.table \n",
    "XsqDD\n",
    "\n",
    "Two_rows<-DD.table[0:2,] #first two rows\n",
    "Two_rows\n",
    "\n",
    "Xsq_Tworows <- chisq.test(Two_rows, correct=FALSE)\n",
    "Xsq_Tworows\n",
    "\n",
    "Third_Fourth_Rows<-DD.table[c(3,4),] #third and fourth rows\n",
    "Third_Fourth_Rows\n",
    "Xsq_TF<- chisq.test(Third_Fourth_Rows, correct=FALSE)\n",
    "Xsq_TF\n",
    "\n",
    "\n",
    "Schizophrenia.Affective.disorder.D <-(105+12)\n",
    "Schizophrenia.Affective.disorder.ND<-(8+2)\n",
    "\n",
    "Neurosis.Personality.disorder.D<-(18+47)\n",
    "Neurosis.Personality.disorder.ND<-(19+52)\n",
    "\n",
    "#last row to combined first and second rows and third and fourth rows combined \n",
    "\n",
    "Combined.table <- array(data=c(Schizophrenia.Affective.disorder.D, Neurosis.Personality.disorder.D,0,Schizophrenia.Affective.disorder.ND,Neurosis.Personality.disorder.ND,13), \n",
    "                 dim= c(3,2),\n",
    "                 dimnames=list(Diagnosis=c('Schizophrenia + Affective.disorder',\n",
    "                              'Neurosis + Personality.disorder','Special.symptoms'), \n",
    "                               Treatment=c(\"Drugs\",\"No.Drugs\")))\n",
    "Combined.table\n",
    "Xsq_Combined<- chisq.test(Combined.table, correct=FALSE)\n",
    "Xsq_Combined"
   ]
  },
  {
   "cell_type": "markdown",
   "metadata": {},
   "source": [
    "The p value 0.345 for component 1 (first two rows) is greater than .05, which gives us evidence to not reject the null hypothesis that there is no association between Diagnosis and Treatement. \n",
    "\n",
    "The p value 0.9029 for component 2  (third and fourth rows) like component 1 is greater than .05, which gives us evidence to not reject the null hypothesis that there is no association between Diagnosis and Treatement. This p value is greater than the one for component 1 which indicates greater evidence to accept the null hypothesis. \n",
    "\n",
    "The p value < 2.2e-16 for component 3  (third and fourth rows) is less than .05, which gives us evidence to reject the null hypothesis that there is no association between Diagnosis and Treatement. "
   ]
  }
 ],
 "metadata": {
  "kernelspec": {
   "display_name": "R",
   "language": "R",
   "name": "ir"
  },
  "language_info": {
   "codemirror_mode": "r",
   "file_extension": ".r",
   "mimetype": "text/x-r-source",
   "name": "R",
   "pygments_lexer": "r",
   "version": "3.4.3"
  }
 },
 "nbformat": 4,
 "nbformat_minor": 2
}
